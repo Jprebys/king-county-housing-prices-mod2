{
 "cells": [
  {
   "cell_type": "code",
   "execution_count": null,
   "metadata": {},
   "outputs": [],
   "source": []
  },
  {
   "cell_type": "markdown",
   "metadata": {},
   "source": [
    "# Data Download and Investigation\n",
    "\n",
    "In this notebook, I load in the `Look Up` data and investigate the columns to get a feel for the data types, NA values and how the data is generally structured."
   ]
  },
  {
   "cell_type": "markdown",
   "metadata": {},
   "source": [
    "### Create Pandas DataFrame: Lookup data"
   ]
  },
  {
   "cell_type": "code",
   "execution_count": 1,
   "metadata": {},
   "outputs": [],
   "source": [
    "# test file collect:\n",
    "import pandas as pd\n",
    "\n",
    "# real property sales df create:\n",
    "lookup = pd.read_csv(\"../data/EXTR_LookUp.csv\")"
   ]
  },
  {
   "cell_type": "markdown",
   "metadata": {},
   "source": [
    "#### Preview data:"
   ]
  },
  {
   "cell_type": "code",
   "execution_count": 2,
   "metadata": {},
   "outputs": [
    {
     "data": {
      "text/html": [
       "<div>\n",
       "<style scoped>\n",
       "    .dataframe tbody tr th:only-of-type {\n",
       "        vertical-align: middle;\n",
       "    }\n",
       "\n",
       "    .dataframe tbody tr th {\n",
       "        vertical-align: top;\n",
       "    }\n",
       "\n",
       "    .dataframe thead th {\n",
       "        text-align: right;\n",
       "    }\n",
       "</style>\n",
       "<table border=\"1\" class=\"dataframe\">\n",
       "  <thead>\n",
       "    <tr style=\"text-align: right;\">\n",
       "      <th></th>\n",
       "      <th>LUType</th>\n",
       "      <th>LUItem</th>\n",
       "      <th>LUDescription</th>\n",
       "    </tr>\n",
       "  </thead>\n",
       "  <tbody>\n",
       "    <tr>\n",
       "      <th>0</th>\n",
       "      <td>1</td>\n",
       "      <td>1</td>\n",
       "      <td>LAND ONLY                                     ...</td>\n",
       "    </tr>\n",
       "    <tr>\n",
       "      <th>1</th>\n",
       "      <td>1</td>\n",
       "      <td>10</td>\n",
       "      <td>Land with new building                        ...</td>\n",
       "    </tr>\n",
       "    <tr>\n",
       "      <th>2</th>\n",
       "      <td>1</td>\n",
       "      <td>11</td>\n",
       "      <td>Household, single family units                ...</td>\n",
       "    </tr>\n",
       "    <tr>\n",
       "      <th>3</th>\n",
       "      <td>1</td>\n",
       "      <td>12</td>\n",
       "      <td>Multiple family residence (Residential, 2-4 un...</td>\n",
       "    </tr>\n",
       "    <tr>\n",
       "      <th>4</th>\n",
       "      <td>1</td>\n",
       "      <td>13</td>\n",
       "      <td>Multiple family residence (Residential, 5+ uni...</td>\n",
       "    </tr>\n",
       "  </tbody>\n",
       "</table>\n",
       "</div>"
      ],
      "text/plain": [
       "   LUType  LUItem                                      LUDescription\n",
       "0       1       1  LAND ONLY                                     ...\n",
       "1       1      10  Land with new building                        ...\n",
       "2       1      11  Household, single family units                ...\n",
       "3       1      12  Multiple family residence (Residential, 2-4 un...\n",
       "4       1      13  Multiple family residence (Residential, 5+ uni..."
      ]
     },
     "execution_count": 2,
     "metadata": {},
     "output_type": "execute_result"
    }
   ],
   "source": [
    "lookup.head()"
   ]
  },
  {
   "cell_type": "code",
   "execution_count": 4,
   "metadata": {},
   "outputs": [
    {
     "data": {
      "text/plain": [
       "array(['LAND ONLY                                         ',\n",
       "       'Land with new building                            ',\n",
       "       'Household, single family units                    ',\n",
       "       'Multiple family residence (Residential, 2-4 units)',\n",
       "       'Multiple family residence (Residential, 5+ units) ',\n",
       "       'Residential condominiums                          ',\n",
       "       'Mobile home parks or courts                       ',\n",
       "       'Hotels/motels                                     ',\n",
       "       'Institutional lodging                             ',\n",
       "       'All other residential not elsewhere coded         ',\n",
       "       'Vacation and cabin                                ',\n",
       "       'LAND WITH NEW BUILDING                            ',\n",
       "       'Food and kindred products                         ',\n",
       "       'Textile mill products                             ',\n",
       "       'Apparel & other finished products                 ',\n",
       "       'Lumber and wood products (except furniture)       ',\n",
       "       'Furniture and fixtures                            ',\n",
       "       'Paper and allied products                         ',\n",
       "       'Printing and publishing                           ',\n",
       "       'Chemicals                                         ',\n",
       "       'Petroleum refining and related industries         ',\n",
       "       'LAND WITH PREV USED BLDG                          ',\n",
       "       'Rubber and miscellaneous plastic products         ',\n",
       "       'Leather and leather products                      ',\n",
       "       'Stone, clay and glass products                    ',\n",
       "       'Primary metal industries                          ',\n",
       "       'Fabricated metal products                         ',\n",
       "       'Prof. scientific, controlling instr; optical goods',\n",
       "       'Miscellaneous manufacturing                       ',\n",
       "       'LAND WITH MOBILE HOME                             ',\n",
       "       'Railroad/transit transportation                   ',\n",
       "       'Motor vehicle transportation                      ',\n",
       "       'Aircraft transportation                           ',\n",
       "       'Marine craft transportation                       ',\n",
       "       'Highway and street right of way                   ',\n",
       "       'Automobile parking                                ',\n",
       "       'Communication                                     ',\n",
       "       'Utilities                                         ',\n",
       "       'Other transp., com., & util. not classified       ',\n",
       "       'TIMBER ONLY                                       ',\n",
       "       'Condominiums - other than residential condominiums',\n",
       "       'Wholesale trade                                   ',\n",
       "       'Retail trade-bldg materials, hardware, farm equip ',\n",
       "       'Retail trade - general merchandise                ',\n",
       "       'Retail trade - food                               ',\n",
       "       'Retail trade-autom., marine craft, aircraft       ',\n",
       "       'Retail trade - apparel and accessories            ',\n",
       "       'Retail trade-furniture, home furnishings, equip.  ',\n",
       "       'Retail trade-eating & drinking                    ',\n",
       "       'Tenant occupied, commercial properties            ',\n",
       "       'BUILDING ONLY                                     ',\n",
       "       'Finance, insurance, and real estate services      ',\n",
       "       'Personal services                                 ',\n",
       "       'Business services                                 ',\n",
       "       'Repair services                                   ',\n",
       "       'Professional services (medical, dental, etc.)     ',\n",
       "       'Contract construction services                    ',\n",
       "       'Governmental services                             ',\n",
       "       'Educational services                              ',\n",
       "       'Miscellaneous services                            ',\n",
       "       'Cultural activities and nature exhibitions        ',\n",
       "       'Public assembly                                   ',\n",
       "       'Amusements                                        ',\n",
       "       'Recreational activities (gold courses, etc.)      ',\n",
       "       'Resorts and group camps                           ',\n",
       "       'Parks                                             ',\n",
       "       'Other cultural, entertainment, and recreational   ',\n",
       "       'Water or Mineral rights                           ',\n",
       "       'Agriculture (not classified under current use law)',\n",
       "       'Agriculture related activities                    ',\n",
       "       'Agr classified under current use chapter 84.34 RCW',\n",
       "       'Fishing activities and related services           ',\n",
       "       'Mining activities and related services            ',\n",
       "       'Standing Timber (separate from land)              ',\n",
       "       'Forest land designated under chapter 84.33 RCW    ',\n",
       "       'Other resource production                         ',\n",
       "       'Land with mobile home                             ',\n",
       "       'Undeveloped land (land only)                      ',\n",
       "       'Noncommercial forest                              ',\n",
       "       'Water areas                                       ',\n",
       "       'Open space land classified under chapter 84.34 RCW',\n",
       "       'Timberland classified under chapter 84.34 RCW     ',\n",
       "       'Improvements on leased land                       ',\n",
       "       'Other undeveloped land                            '], dtype=object)"
      ]
     },
     "execution_count": 4,
     "metadata": {},
     "output_type": "execute_result"
    }
   ],
   "source": [
    "lookup[lookup['LUType'] == 1]['LUDescription'].unique()"
   ]
  },
  {
   "cell_type": "code",
   "execution_count": null,
   "metadata": {},
   "outputs": [],
   "source": []
  }
 ],
 "metadata": {
  "kernelspec": {
   "display_name": "Python 3 (oy-env)",
   "language": "python",
   "name": "oy-env"
  },
  "language_info": {
   "codemirror_mode": {
    "name": "ipython",
    "version": 3
   },
   "file_extension": ".py",
   "mimetype": "text/x-python",
   "name": "python",
   "nbconvert_exporter": "python",
   "pygments_lexer": "ipython3",
   "version": "3.8.1"
  }
 },
 "nbformat": 4,
 "nbformat_minor": 4
}
