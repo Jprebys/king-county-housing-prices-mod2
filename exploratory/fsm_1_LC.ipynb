{
 "cells": [
  {
   "cell_type": "markdown",
   "metadata": {},
   "source": [
    "## Putting together a naive dataset to create a FSM"
   ]
  },
  {
   "cell_type": "code",
   "execution_count": 1,
   "metadata": {
    "collapsed": true,
    "jupyter": {
     "outputs_hidden": true
    }
   },
   "outputs": [
    {
     "name": "stderr",
     "output_type": "stream",
     "text": [
      "/opt/anaconda3/envs/oy-env/lib/python3.8/site-packages/IPython/core/interactiveshell.py:3062: DtypeWarning: Columns (1,2) have mixed types.Specify dtype option on import or set low_memory=False.\n",
      "  has_raised = await self.run_ast_nodes(code_ast.body, cell_name,\n"
     ]
    }
   ],
   "source": [
    "# test file collect:\n",
    "import pandas as pd\n",
    "\n",
    "# real property sales df create:\n",
    "rps = pd.read_csv(\"../data/EXTR_RPSale.csv\")"
   ]
  },
  {
   "cell_type": "code",
   "execution_count": 2,
   "metadata": {
    "collapsed": true,
    "jupyter": {
     "outputs_hidden": true
    }
   },
   "outputs": [
    {
     "name": "stderr",
     "output_type": "stream",
     "text": [
      "/opt/anaconda3/envs/oy-env/lib/python3.8/site-packages/IPython/core/interactiveshell.py:3062: DtypeWarning: Columns (11) have mixed types.Specify dtype option on import or set low_memory=False.\n",
      "  has_raised = await self.run_ast_nodes(code_ast.body, cell_name,\n"
     ]
    }
   ],
   "source": [
    "# real property sales df create:\n",
    "parcel = pd.read_csv(\"../data/EXTR_Parcel.csv\", encoding = 'latin-1')\n",
    "\n",
    "# real property sales df create:\n",
    "res_build = pd.read_csv(\"../data/EXTR_ResBldg.csv\")"
   ]
  },
  {
   "cell_type": "code",
   "execution_count": 3,
   "metadata": {},
   "outputs": [],
   "source": [
    "# pad major/minor\n",
    "def major_pad(row):\n",
    "    \"\"\"\n",
    "    This function takes an index item and pads it with 0's at the beginning\n",
    "    to make it's total length equal to the pad_to value. \n",
    "    \n",
    "    arguments:\n",
    "    row (str):  item to add 0's infront of\n",
    "    pad_to (int):  total length of padded item\n",
    "    \"\"\"\n",
    "    num_zeros = 6 - len(row)\n",
    "    return num_zeros * '0' + row\n",
    "\n",
    "def minor_pad(row):\n",
    "    \"\"\"\n",
    "    This function takes an index item and pads it with 0's at the beginning\n",
    "    to make it's total length equal to the pad_to value. \n",
    "    \n",
    "    arguments:\n",
    "    row (str):  item to add 0's infront of\n",
    "    pad_to (int):  total length of padded item\n",
    "    \"\"\"\n",
    "    num_zeros = 4 - len(row)\n",
    "    return num_zeros * '0' + row"
   ]
  },
  {
   "cell_type": "code",
   "execution_count": 4,
   "metadata": {},
   "outputs": [],
   "source": [
    "## turn this into a function \n",
    "\n",
    "tables = [rps, parcel, res_build]\n",
    "\n",
    "for table in tables:\n",
    "    # change minor/minor to str\n",
    "    table['Major'] = table['Major'].astype(str)\n",
    "    table['Minor'] = table['Minor'].astype(str)\n",
    "    \n",
    "    # add padding to major/minor\n",
    "    table['Major'] = table['Major'].apply(major_pad)\n",
    "    table['Minor'] = table['Minor'].apply(minor_pad)\n",
    "    \n",
    "    # add maj_min column\n",
    "    table['maj_min'] = table['Major'] + table['Minor']\n",
    "    \n",
    "    # drop old major/minor columns\n",
    "    table.drop(labels = ['Major', 'Minor'], axis = 1, inplace = True)"
   ]
  },
  {
   "cell_type": "code",
   "execution_count": 5,
   "metadata": {},
   "outputs": [],
   "source": [
    "# I would have done this in the above for loop but I already ran it and didn't want to run again\n",
    "for table in tables:\n",
    "    table.set_index(keys = 'maj_min', inplace = True)"
   ]
  },
  {
   "cell_type": "code",
   "execution_count": 6,
   "metadata": {},
   "outputs": [],
   "source": [
    "data = rps.merge(res_build, on = 'maj_min')"
   ]
  },
  {
   "cell_type": "code",
   "execution_count": 7,
   "metadata": {},
   "outputs": [],
   "source": [
    "data = data.merge(parcel, on = 'maj_min')"
   ]
  },
  {
   "cell_type": "code",
   "execution_count": 8,
   "metadata": {},
   "outputs": [
    {
     "data": {
      "text/html": [
       "<div>\n",
       "<style scoped>\n",
       "    .dataframe tbody tr th:only-of-type {\n",
       "        vertical-align: middle;\n",
       "    }\n",
       "\n",
       "    .dataframe tbody tr th {\n",
       "        vertical-align: top;\n",
       "    }\n",
       "\n",
       "    .dataframe thead th {\n",
       "        text-align: right;\n",
       "    }\n",
       "</style>\n",
       "<table border=\"1\" class=\"dataframe\">\n",
       "  <thead>\n",
       "    <tr style=\"text-align: right;\">\n",
       "      <th></th>\n",
       "      <th>ExciseTaxNbr</th>\n",
       "      <th>DocumentDate</th>\n",
       "      <th>SalePrice</th>\n",
       "      <th>RecordingNbr</th>\n",
       "      <th>Volume</th>\n",
       "      <th>Page</th>\n",
       "      <th>PlatNbr</th>\n",
       "      <th>PlatType</th>\n",
       "      <th>PlatLot_x</th>\n",
       "      <th>PlatBlock_x</th>\n",
       "      <th>...</th>\n",
       "      <th>SeismicHazard</th>\n",
       "      <th>LandslideHazard</th>\n",
       "      <th>SteepSlopeHazard</th>\n",
       "      <th>Stream</th>\n",
       "      <th>Wetland</th>\n",
       "      <th>SpeciesOfConcern</th>\n",
       "      <th>SensitiveAreaTract</th>\n",
       "      <th>WaterProblems</th>\n",
       "      <th>TranspConcurrency</th>\n",
       "      <th>OtherProblems</th>\n",
       "    </tr>\n",
       "    <tr>\n",
       "      <th>maj_min</th>\n",
       "      <th></th>\n",
       "      <th></th>\n",
       "      <th></th>\n",
       "      <th></th>\n",
       "      <th></th>\n",
       "      <th></th>\n",
       "      <th></th>\n",
       "      <th></th>\n",
       "      <th></th>\n",
       "      <th></th>\n",
       "      <th></th>\n",
       "      <th></th>\n",
       "      <th></th>\n",
       "      <th></th>\n",
       "      <th></th>\n",
       "      <th></th>\n",
       "      <th></th>\n",
       "      <th></th>\n",
       "      <th></th>\n",
       "      <th></th>\n",
       "      <th></th>\n",
       "    </tr>\n",
       "  </thead>\n",
       "  <tbody>\n",
       "    <tr>\n",
       "      <th>1388600110</th>\n",
       "      <td>2687551</td>\n",
       "      <td>08/21/2014</td>\n",
       "      <td>245000</td>\n",
       "      <td>20140828001436</td>\n",
       "      <td></td>\n",
       "      <td></td>\n",
       "      <td></td>\n",
       "      <td></td>\n",
       "      <td></td>\n",
       "      <td></td>\n",
       "      <td>...</td>\n",
       "      <td>N</td>\n",
       "      <td>N</td>\n",
       "      <td>N</td>\n",
       "      <td>N</td>\n",
       "      <td>N</td>\n",
       "      <td>N</td>\n",
       "      <td>N</td>\n",
       "      <td>N</td>\n",
       "      <td>N</td>\n",
       "      <td>N</td>\n",
       "    </tr>\n",
       "    <tr>\n",
       "      <th>1388600110</th>\n",
       "      <td>1066933</td>\n",
       "      <td>06/12/1989</td>\n",
       "      <td>109300</td>\n",
       "      <td>198906191556</td>\n",
       "      <td>144</td>\n",
       "      <td>021</td>\n",
       "      <td>138860</td>\n",
       "      <td>P</td>\n",
       "      <td>11</td>\n",
       "      <td></td>\n",
       "      <td>...</td>\n",
       "      <td>N</td>\n",
       "      <td>N</td>\n",
       "      <td>N</td>\n",
       "      <td>N</td>\n",
       "      <td>N</td>\n",
       "      <td>N</td>\n",
       "      <td>N</td>\n",
       "      <td>N</td>\n",
       "      <td>N</td>\n",
       "      <td>N</td>\n",
       "    </tr>\n",
       "    <tr>\n",
       "      <th>1388600110</th>\n",
       "      <td>2102034</td>\n",
       "      <td>01/16/2005</td>\n",
       "      <td>14684</td>\n",
       "      <td>20050216001248</td>\n",
       "      <td></td>\n",
       "      <td></td>\n",
       "      <td></td>\n",
       "      <td></td>\n",
       "      <td></td>\n",
       "      <td></td>\n",
       "      <td>...</td>\n",
       "      <td>N</td>\n",
       "      <td>N</td>\n",
       "      <td>N</td>\n",
       "      <td>N</td>\n",
       "      <td>N</td>\n",
       "      <td>N</td>\n",
       "      <td>N</td>\n",
       "      <td>N</td>\n",
       "      <td>N</td>\n",
       "      <td>N</td>\n",
       "    </tr>\n",
       "    <tr>\n",
       "      <th>1388600110</th>\n",
       "      <td>2131568</td>\n",
       "      <td>06/08/2005</td>\n",
       "      <td>0</td>\n",
       "      <td>20050617000041</td>\n",
       "      <td></td>\n",
       "      <td></td>\n",
       "      <td></td>\n",
       "      <td></td>\n",
       "      <td></td>\n",
       "      <td></td>\n",
       "      <td>...</td>\n",
       "      <td>N</td>\n",
       "      <td>N</td>\n",
       "      <td>N</td>\n",
       "      <td>N</td>\n",
       "      <td>N</td>\n",
       "      <td>N</td>\n",
       "      <td>N</td>\n",
       "      <td>N</td>\n",
       "      <td>N</td>\n",
       "      <td>N</td>\n",
       "    </tr>\n",
       "    <tr>\n",
       "      <th>4239430050</th>\n",
       "      <td>2704079</td>\n",
       "      <td>10/11/2014</td>\n",
       "      <td>0</td>\n",
       "      <td>20141205000558</td>\n",
       "      <td></td>\n",
       "      <td></td>\n",
       "      <td></td>\n",
       "      <td></td>\n",
       "      <td></td>\n",
       "      <td></td>\n",
       "      <td>...</td>\n",
       "      <td>N</td>\n",
       "      <td>N</td>\n",
       "      <td>N</td>\n",
       "      <td>N</td>\n",
       "      <td>N</td>\n",
       "      <td>N</td>\n",
       "      <td>N</td>\n",
       "      <td>N</td>\n",
       "      <td>N</td>\n",
       "      <td>N</td>\n",
       "    </tr>\n",
       "  </tbody>\n",
       "</table>\n",
       "<p>5 rows × 149 columns</p>\n",
       "</div>"
      ],
      "text/plain": [
       "            ExciseTaxNbr DocumentDate  SalePrice    RecordingNbr Volume Page  \\\n",
       "maj_min                                                                        \n",
       "1388600110       2687551   08/21/2014     245000  20140828001436               \n",
       "1388600110       1066933   06/12/1989     109300  198906191556      144  021   \n",
       "1388600110       2102034   01/16/2005      14684  20050216001248               \n",
       "1388600110       2131568   06/08/2005          0  20050617000041               \n",
       "4239430050       2704079   10/11/2014          0  20141205000558               \n",
       "\n",
       "           PlatNbr PlatType       PlatLot_x PlatBlock_x  ... SeismicHazard  \\\n",
       "maj_min                                                  ...                 \n",
       "1388600110                                               ...             N   \n",
       "1388600110  138860        P  11                          ...             N   \n",
       "1388600110                                               ...             N   \n",
       "1388600110                                               ...             N   \n",
       "4239430050                                               ...             N   \n",
       "\n",
       "           LandslideHazard  SteepSlopeHazard  Stream  Wetland  \\\n",
       "maj_min                                                         \n",
       "1388600110               N                 N       N        N   \n",
       "1388600110               N                 N       N        N   \n",
       "1388600110               N                 N       N        N   \n",
       "1388600110               N                 N       N        N   \n",
       "4239430050               N                 N       N        N   \n",
       "\n",
       "           SpeciesOfConcern SensitiveAreaTract WaterProblems  \\\n",
       "maj_min                                                        \n",
       "1388600110                N                  N             N   \n",
       "1388600110                N                  N             N   \n",
       "1388600110                N                  N             N   \n",
       "1388600110                N                  N             N   \n",
       "4239430050                N                  N             N   \n",
       "\n",
       "           TranspConcurrency  OtherProblems  \n",
       "maj_min                                      \n",
       "1388600110                 N              N  \n",
       "1388600110                 N              N  \n",
       "1388600110                 N              N  \n",
       "1388600110                 N              N  \n",
       "4239430050                 N              N  \n",
       "\n",
       "[5 rows x 149 columns]"
      ]
     },
     "execution_count": 8,
     "metadata": {},
     "output_type": "execute_result"
    }
   ],
   "source": [
    "data.head()"
   ]
  },
  {
   "cell_type": "markdown",
   "metadata": {},
   "source": [
    "We can see from this df's head that we have multiple entries with the same index..."
   ]
  },
  {
   "cell_type": "code",
   "execution_count": 14,
   "metadata": {},
   "outputs": [
    {
     "name": "stdout",
     "output_type": "stream",
     "text": [
      "<class 'pandas.core.frame.DataFrame'>\n",
      "Index: 1492777 entries, 1388600110 to 3586500040\n",
      "Columns: 150 entries, ExciseTaxNbr to year\n",
      "dtypes: bool(1), datetime64[ns](1), float64(5), int64(84), object(59)\n",
      "memory usage: 1.7+ GB\n"
     ]
    }
   ],
   "source": [
    "data.info()"
   ]
  },
  {
   "cell_type": "markdown",
   "metadata": {},
   "source": [
    "This is obviously way too big and we can filter down straight away by year... "
   ]
  },
  {
   "cell_type": "code",
   "execution_count": 10,
   "metadata": {},
   "outputs": [],
   "source": [
    "data['DocumentDate'] = pd.to_datetime(data['DocumentDate'])"
   ]
  },
  {
   "cell_type": "code",
   "execution_count": 11,
   "metadata": {},
   "outputs": [],
   "source": [
    "data['year'] = data['DocumentDate'].dt.year"
   ]
  },
  {
   "cell_type": "code",
   "execution_count": 12,
   "metadata": {},
   "outputs": [],
   "source": [
    "data2019 = data[data['year'] == 2019]"
   ]
  },
  {
   "cell_type": "code",
   "execution_count": 13,
   "metadata": {},
   "outputs": [
    {
     "name": "stdout",
     "output_type": "stream",
     "text": [
      "<class 'pandas.core.frame.DataFrame'>\n",
      "Index: 43867 entries, 2130430120 to 0869650030\n",
      "Columns: 150 entries, ExciseTaxNbr to year\n",
      "dtypes: bool(1), datetime64[ns](1), float64(5), int64(84), object(59)\n",
      "memory usage: 50.2+ MB\n"
     ]
    }
   ],
   "source": [
    "data2019.info()"
   ]
  },
  {
   "cell_type": "code",
   "execution_count": null,
   "metadata": {},
   "outputs": [],
   "source": []
  },
  {
   "cell_type": "markdown",
   "metadata": {},
   "source": [
    "## Create FSM:"
   ]
  },
  {
   "cell_type": "code",
   "execution_count": 15,
   "metadata": {},
   "outputs": [],
   "source": [
    "import statsmodels.api as sm\n",
    "from statsmodels.formula.api import ols"
   ]
  },
  {
   "cell_type": "code",
   "execution_count": 19,
   "metadata": {},
   "outputs": [],
   "source": [
    "# create x, y variables to find potential correlations:\n",
    "\n",
    "X = data2019\n",
    "y = data2019['SalePrice']"
   ]
  },
  {
   "cell_type": "code",
   "execution_count": 26,
   "metadata": {},
   "outputs": [],
   "source": [
    "# create correlation matrix:\n",
    "corr_x = X.corr()\n"
   ]
  },
  {
   "cell_type": "code",
   "execution_count": 25,
   "metadata": {},
   "outputs": [
    {
     "data": {
      "text/plain": [
       "SalePrice        1.000000\n",
       "BldgGrade        0.203755\n",
       "SqFtTotLiving    0.195816\n",
       "SqFt2ndFloor     0.157990\n",
       "BathFullCount    0.132185\n",
       "                   ...   \n",
       "SpecArea              NaN\n",
       "SpecSubArea           NaN\n",
       "Unbuildable           NaN\n",
       "AirportNoise          NaN\n",
       "year                  NaN\n",
       "Name: SalePrice, Length: 90, dtype: float64"
      ]
     },
     "execution_count": 25,
     "metadata": {},
     "output_type": "execute_result"
    }
   ],
   "source": [
    "corr_x['SalePrice'].sort_values(ascending = False)"
   ]
  },
  {
   "cell_type": "code",
   "execution_count": null,
   "metadata": {},
   "outputs": [],
   "source": [
    "# set up model:\n",
    "x_val = str(BldgGrade)\n",
    "f = 'SalePrice ~'+ x_val\n",
    "model = ols(formula = f, data = data).fit()"
   ]
  },
  {
   "cell_type": "markdown",
   "metadata": {},
   "source": [
    "Luluva:\n",
    "property type \n",
    "date\n",
    "sale price > 0 \n",
    "principal use - residential and condiminum \n",
    "property class - remove land\n",
    "18,000 entries"
   ]
  }
 ],
 "metadata": {
  "kernelspec": {
   "display_name": "Python 3 (oy-env)",
   "language": "python",
   "name": "oy-env"
  },
  "language_info": {
   "codemirror_mode": {
    "name": "ipython",
    "version": 3
   },
   "file_extension": ".py",
   "mimetype": "text/x-python",
   "name": "python",
   "nbconvert_exporter": "python",
   "pygments_lexer": "ipython3",
   "version": "3.8.1"
  }
 },
 "nbformat": 4,
 "nbformat_minor": 4
}
