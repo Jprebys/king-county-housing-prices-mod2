{
 "cells": [
  {
   "cell_type": "markdown",
   "metadata": {},
   "source": [
    "Initial exploration of data after creating data set SQL\n",
    "- property types of 11, 12, 14, 18 (only residential homes)\n",
    "- sale instrument types of 2 or 3 (these are 'regular' real estate sale transactions)\n",
    "- living area square footage 4500 or below (this was to eliminate extreme outliers based on size)\n",
    "- sale price up to 2.5 million (this is based on prices being +-3 sd from the mean sale price)\n",
    "- document dates Jan 1 2019 through December 31 2019 (year we are interested in analyzing)\n",
    "\n",
    "Import packages needed"
   ]
  },
  {
   "cell_type": "code",
   "execution_count": 1,
   "metadata": {},
   "outputs": [],
   "source": [
    "import numpy as np\n",
    "import pandas as pd\n",
    "import scipy.stats as stats\n",
    "import matplotlib.pyplot as plt\n",
    "import seaborn as sns\n",
    "import statsmodels.api as sm\n",
    "from statsmodels.formula.api import ols\n",
    "%matplotlib inline"
   ]
  },
  {
   "cell_type": "markdown",
   "metadata": {},
   "source": [
    "Create initial dataframe"
   ]
  },
  {
   "cell_type": "code",
   "execution_count": 2,
   "metadata": {},
   "outputs": [],
   "source": [
    "df = pd.read_csv('../asp_original', index_col = 0)"
   ]
  },
  {
   "cell_type": "code",
   "execution_count": 3,
   "metadata": {},
   "outputs": [
    {
     "data": {
      "text/html": [
       "<div>\n",
       "<style scoped>\n",
       "    .dataframe tbody tr th:only-of-type {\n",
       "        vertical-align: middle;\n",
       "    }\n",
       "\n",
       "    .dataframe tbody tr th {\n",
       "        vertical-align: top;\n",
       "    }\n",
       "\n",
       "    .dataframe thead th {\n",
       "        text-align: right;\n",
       "    }\n",
       "</style>\n",
       "<table border=\"1\" class=\"dataframe\">\n",
       "  <thead>\n",
       "    <tr style=\"text-align: right;\">\n",
       "      <th></th>\n",
       "      <th>documentdate</th>\n",
       "      <th>saleprice</th>\n",
       "      <th>propertytype</th>\n",
       "      <th>principaluse</th>\n",
       "      <th>saleinstrument</th>\n",
       "      <th>currentuseland</th>\n",
       "      <th>historicproperty</th>\n",
       "      <th>salereason</th>\n",
       "      <th>propertyclass</th>\n",
       "      <th>zipcode</th>\n",
       "      <th>...</th>\n",
       "      <th>waterfrontpoorqualtiy</th>\n",
       "      <th>waterfrontrestrictedaccess</th>\n",
       "      <th>waterfrontaccessrights</th>\n",
       "      <th>waterfrontproximityinfluence</th>\n",
       "      <th>tidelandshoreland</th>\n",
       "      <th>lotdepthfactopr</th>\n",
       "      <th>trafficnoise</th>\n",
       "      <th>airportnoise</th>\n",
       "      <th>powerlines</th>\n",
       "      <th>othernuisances</th>\n",
       "    </tr>\n",
       "  </thead>\n",
       "  <tbody>\n",
       "    <tr>\n",
       "      <th>0</th>\n",
       "      <td>2019-04-01</td>\n",
       "      <td>1065000.0</td>\n",
       "      <td>12</td>\n",
       "      <td>6</td>\n",
       "      <td>3</td>\n",
       "      <td>N</td>\n",
       "      <td>N</td>\n",
       "      <td>1</td>\n",
       "      <td>8</td>\n",
       "      <td>98102.0</td>\n",
       "      <td>...</td>\n",
       "      <td>0</td>\n",
       "      <td>0</td>\n",
       "      <td>0</td>\n",
       "      <td>N</td>\n",
       "      <td>N</td>\n",
       "      <td>0.0</td>\n",
       "      <td>0</td>\n",
       "      <td>0</td>\n",
       "      <td>0</td>\n",
       "      <td>N</td>\n",
       "    </tr>\n",
       "    <tr>\n",
       "      <th>1</th>\n",
       "      <td>2019-05-04</td>\n",
       "      <td>890000.0</td>\n",
       "      <td>12</td>\n",
       "      <td>6</td>\n",
       "      <td>3</td>\n",
       "      <td>N</td>\n",
       "      <td>N</td>\n",
       "      <td>1</td>\n",
       "      <td>8</td>\n",
       "      <td>98011.0</td>\n",
       "      <td>...</td>\n",
       "      <td>0</td>\n",
       "      <td>0</td>\n",
       "      <td>0</td>\n",
       "      <td>N</td>\n",
       "      <td>N</td>\n",
       "      <td>0.0</td>\n",
       "      <td>0</td>\n",
       "      <td>1</td>\n",
       "      <td>0</td>\n",
       "      <td>N</td>\n",
       "    </tr>\n",
       "    <tr>\n",
       "      <th>2</th>\n",
       "      <td>2019-11-05</td>\n",
       "      <td>640000.0</td>\n",
       "      <td>11</td>\n",
       "      <td>6</td>\n",
       "      <td>3</td>\n",
       "      <td>N</td>\n",
       "      <td>N</td>\n",
       "      <td>1</td>\n",
       "      <td>8</td>\n",
       "      <td>98125.0</td>\n",
       "      <td>...</td>\n",
       "      <td>0</td>\n",
       "      <td>0</td>\n",
       "      <td>0</td>\n",
       "      <td>N</td>\n",
       "      <td>N</td>\n",
       "      <td>0.0</td>\n",
       "      <td>0</td>\n",
       "      <td>1</td>\n",
       "      <td>0</td>\n",
       "      <td>N</td>\n",
       "    </tr>\n",
       "    <tr>\n",
       "      <th>3</th>\n",
       "      <td>2019-01-25</td>\n",
       "      <td>645000.0</td>\n",
       "      <td>11</td>\n",
       "      <td>6</td>\n",
       "      <td>3</td>\n",
       "      <td>N</td>\n",
       "      <td>N</td>\n",
       "      <td>1</td>\n",
       "      <td>8</td>\n",
       "      <td>98028.0</td>\n",
       "      <td>...</td>\n",
       "      <td>0</td>\n",
       "      <td>0</td>\n",
       "      <td>0</td>\n",
       "      <td>N</td>\n",
       "      <td>N</td>\n",
       "      <td>0.0</td>\n",
       "      <td>0</td>\n",
       "      <td>1</td>\n",
       "      <td>0</td>\n",
       "      <td>N</td>\n",
       "    </tr>\n",
       "    <tr>\n",
       "      <th>4</th>\n",
       "      <td>2019-10-05</td>\n",
       "      <td>907000.0</td>\n",
       "      <td>11</td>\n",
       "      <td>6</td>\n",
       "      <td>3</td>\n",
       "      <td>N</td>\n",
       "      <td>N</td>\n",
       "      <td>1</td>\n",
       "      <td>8</td>\n",
       "      <td>98005.0</td>\n",
       "      <td>...</td>\n",
       "      <td>0</td>\n",
       "      <td>0</td>\n",
       "      <td>0</td>\n",
       "      <td>N</td>\n",
       "      <td>N</td>\n",
       "      <td>0.0</td>\n",
       "      <td>0</td>\n",
       "      <td>0</td>\n",
       "      <td>0</td>\n",
       "      <td>N</td>\n",
       "    </tr>\n",
       "  </tbody>\n",
       "</table>\n",
       "<p>5 rows × 64 columns</p>\n",
       "</div>"
      ],
      "text/plain": [
       "  documentdate  saleprice  propertytype  principaluse  saleinstrument  \\\n",
       "0   2019-04-01  1065000.0            12             6               3   \n",
       "1   2019-05-04   890000.0            12             6               3   \n",
       "2   2019-11-05   640000.0            11             6               3   \n",
       "3   2019-01-25   645000.0            11             6               3   \n",
       "4   2019-10-05   907000.0            11             6               3   \n",
       "\n",
       "  currentuseland historicproperty  salereason  propertyclass  zipcode  ...  \\\n",
       "0              N                N           1              8  98102.0  ...   \n",
       "1              N                N           1              8  98011.0  ...   \n",
       "2              N                N           1              8  98125.0  ...   \n",
       "3              N                N           1              8  98028.0  ...   \n",
       "4              N                N           1              8  98005.0  ...   \n",
       "\n",
       "  waterfrontpoorqualtiy  waterfrontrestrictedaccess  waterfrontaccessrights  \\\n",
       "0                     0                           0                       0   \n",
       "1                     0                           0                       0   \n",
       "2                     0                           0                       0   \n",
       "3                     0                           0                       0   \n",
       "4                     0                           0                       0   \n",
       "\n",
       "   waterfrontproximityinfluence  tidelandshoreland  lotdepthfactopr  \\\n",
       "0                             N         N                       0.0   \n",
       "1                             N         N                       0.0   \n",
       "2                             N         N                       0.0   \n",
       "3                             N         N                       0.0   \n",
       "4                             N         N                       0.0   \n",
       "\n",
       "   trafficnoise  airportnoise  powerlines  othernuisances  \n",
       "0             0             0           0      N           \n",
       "1             0             1           0      N           \n",
       "2             0             1           0      N           \n",
       "3             0             1           0      N           \n",
       "4             0             0           0      N           \n",
       "\n",
       "[5 rows x 64 columns]"
      ]
     },
     "execution_count": 3,
     "metadata": {},
     "output_type": "execute_result"
    }
   ],
   "source": [
    "df.head()"
   ]
  },
  {
   "cell_type": "code",
   "execution_count": 4,
   "metadata": {},
   "outputs": [
    {
     "data": {
      "text/plain": [
       "(18182, 64)"
      ]
     },
     "execution_count": 4,
     "metadata": {},
     "output_type": "execute_result"
    }
   ],
   "source": [
    "df.shape"
   ]
  },
  {
   "cell_type": "code",
   "execution_count": 5,
   "metadata": {},
   "outputs": [
    {
     "name": "stdout",
     "output_type": "stream",
     "text": [
      "<class 'pandas.core.frame.DataFrame'>\n",
      "Int64Index: 18182 entries, 0 to 18181\n",
      "Data columns (total 64 columns):\n",
      " #   Column                        Non-Null Count  Dtype  \n",
      "---  ------                        --------------  -----  \n",
      " 0   documentdate                  18182 non-null  object \n",
      " 1   saleprice                     18182 non-null  float64\n",
      " 2   propertytype                  18182 non-null  int64  \n",
      " 3   principaluse                  18182 non-null  int64  \n",
      " 4   saleinstrument                18182 non-null  int64  \n",
      " 5   currentuseland                18182 non-null  object \n",
      " 6   historicproperty              18182 non-null  object \n",
      " 7   salereason                    18182 non-null  int64  \n",
      " 8   propertyclass                 18182 non-null  int64  \n",
      " 9   zipcode                       15815 non-null  float64\n",
      " 10  streettype                    18182 non-null  object \n",
      " 11  stories                       18182 non-null  float64\n",
      " 12  buildinggrade                 18182 non-null  int64  \n",
      " 13  squarefeettotalliving         18182 non-null  int64  \n",
      " 14  squarefeettotalbasement       18182 non-null  int64  \n",
      " 15  squarefeetgarageattached      18182 non-null  float64\n",
      " 16  squarefeetopenporch           18182 non-null  int64  \n",
      " 17  squarefeetenclosedporch       18182 non-null  int64  \n",
      " 18  squarefeetdeck                18182 non-null  int64  \n",
      " 19  bedrooms                      18182 non-null  int64  \n",
      " 20  bathhalfcount                 18182 non-null  int64  \n",
      " 21  bath3qtrcount                 18182 non-null  int64  \n",
      " 22  bathfullcount                 18182 non-null  int64  \n",
      " 23  fireplacesinglestory          18182 non-null  float64\n",
      " 24  fireplacemultiplestory        18182 non-null  float64\n",
      " 25  fireplacefreestanding         18182 non-null  float64\n",
      " 26  fireplaceadditional           18182 non-null  float64\n",
      " 27  yearbuilt                     18182 non-null  int64  \n",
      " 28  yearrenovated                 18182 non-null  int64  \n",
      " 29  percentcomplete               18182 non-null  float64\n",
      " 30  obsolescence                  18182 non-null  float64\n",
      " 31  percentnetcondition           18182 non-null  float64\n",
      " 32  condition                     18182 non-null  float64\n",
      " 33  township                      18182 non-null  float64\n",
      " 34  propertytype.1                18182 non-null  object \n",
      " 35  districtname                  18182 non-null  object \n",
      " 36  levycode                      18182 non-null  int64  \n",
      " 37  lotsquarefootage              18182 non-null  float64\n",
      " 38  watersystem                   18182 non-null  float64\n",
      " 39  access                        18182 non-null  float64\n",
      " 40  topography                    18182 non-null  float64\n",
      " 41  viewmtranier                  18182 non-null  object \n",
      " 42  viewolympics                  18182 non-null  int64  \n",
      " 43  viewcascades                  18182 non-null  int64  \n",
      " 44  viewterritorial               18182 non-null  int64  \n",
      " 45  viewseattleskyline            18182 non-null  int64  \n",
      " 46  viewpugetsound                18182 non-null  int64  \n",
      " 47  viewlakewashington            18182 non-null  int64  \n",
      " 48  viewlakesammamish             18182 non-null  int64  \n",
      " 49  viewsmalllakerivercreek       18182 non-null  int64  \n",
      " 50  viewotherview                 18182 non-null  int64  \n",
      " 51  waterfrontlocation            18182 non-null  int64  \n",
      " 52  waterfrontfootage             18182 non-null  int64  \n",
      " 53  waterfrontbank                18182 non-null  int64  \n",
      " 54  waterfrontpoorqualtiy         18182 non-null  int64  \n",
      " 55  waterfrontrestrictedaccess    18182 non-null  int64  \n",
      " 56  waterfrontaccessrights        18182 non-null  int64  \n",
      " 57  waterfrontproximityinfluence  18182 non-null  object \n",
      " 58  tidelandshoreland             18182 non-null  object \n",
      " 59  lotdepthfactopr               18182 non-null  float64\n",
      " 60  trafficnoise                  18182 non-null  int64  \n",
      " 61  airportnoise                  18182 non-null  int64  \n",
      " 62  powerlines                    18182 non-null  int64  \n",
      " 63  othernuisances                18182 non-null  object \n",
      "dtypes: float64(18), int64(36), object(10)\n",
      "memory usage: 9.0+ MB\n"
     ]
    }
   ],
   "source": [
    "df.info()"
   ]
  },
  {
   "cell_type": "markdown",
   "metadata": {},
   "source": [
    "there is a good number of homes without zipcode info, not really concerned with zipcode right now, so will leave it in."
   ]
  },
  {
   "cell_type": "code",
   "execution_count": 6,
   "metadata": {},
   "outputs": [
    {
     "data": {
      "text/html": [
       "<div>\n",
       "<style scoped>\n",
       "    .dataframe tbody tr th:only-of-type {\n",
       "        vertical-align: middle;\n",
       "    }\n",
       "\n",
       "    .dataframe tbody tr th {\n",
       "        vertical-align: top;\n",
       "    }\n",
       "\n",
       "    .dataframe thead th {\n",
       "        text-align: right;\n",
       "    }\n",
       "</style>\n",
       "<table border=\"1\" class=\"dataframe\">\n",
       "  <thead>\n",
       "    <tr style=\"text-align: right;\">\n",
       "      <th></th>\n",
       "      <th>saleprice</th>\n",
       "      <th>propertytype</th>\n",
       "      <th>principaluse</th>\n",
       "      <th>saleinstrument</th>\n",
       "      <th>salereason</th>\n",
       "      <th>propertyclass</th>\n",
       "      <th>zipcode</th>\n",
       "      <th>stories</th>\n",
       "      <th>buildinggrade</th>\n",
       "      <th>squarefeettotalliving</th>\n",
       "      <th>...</th>\n",
       "      <th>waterfrontlocation</th>\n",
       "      <th>waterfrontfootage</th>\n",
       "      <th>waterfrontbank</th>\n",
       "      <th>waterfrontpoorqualtiy</th>\n",
       "      <th>waterfrontrestrictedaccess</th>\n",
       "      <th>waterfrontaccessrights</th>\n",
       "      <th>lotdepthfactopr</th>\n",
       "      <th>trafficnoise</th>\n",
       "      <th>airportnoise</th>\n",
       "      <th>powerlines</th>\n",
       "    </tr>\n",
       "  </thead>\n",
       "  <tbody>\n",
       "    <tr>\n",
       "      <th>count</th>\n",
       "      <td>1.818200e+04</td>\n",
       "      <td>18182.000000</td>\n",
       "      <td>18182.0</td>\n",
       "      <td>18182.000000</td>\n",
       "      <td>18182.000000</td>\n",
       "      <td>18182.000000</td>\n",
       "      <td>15815.000000</td>\n",
       "      <td>18182.000000</td>\n",
       "      <td>18182.000000</td>\n",
       "      <td>18182.000000</td>\n",
       "      <td>...</td>\n",
       "      <td>18182.000000</td>\n",
       "      <td>18182.000000</td>\n",
       "      <td>18182.000000</td>\n",
       "      <td>18182.000000</td>\n",
       "      <td>18182.000000</td>\n",
       "      <td>18182.000000</td>\n",
       "      <td>18182.000000</td>\n",
       "      <td>18182.000000</td>\n",
       "      <td>18182.000000</td>\n",
       "      <td>18182.0</td>\n",
       "    </tr>\n",
       "    <tr>\n",
       "      <th>mean</th>\n",
       "      <td>7.334650e+05</td>\n",
       "      <td>11.028655</td>\n",
       "      <td>6.0</td>\n",
       "      <td>2.998350</td>\n",
       "      <td>1.001870</td>\n",
       "      <td>7.993180</td>\n",
       "      <td>98065.602656</td>\n",
       "      <td>1.551754</td>\n",
       "      <td>7.610824</td>\n",
       "      <td>2051.980420</td>\n",
       "      <td>...</td>\n",
       "      <td>0.011715</td>\n",
       "      <td>0.073149</td>\n",
       "      <td>0.979265</td>\n",
       "      <td>0.015180</td>\n",
       "      <td>0.000440</td>\n",
       "      <td>0.004235</td>\n",
       "      <td>0.007645</td>\n",
       "      <td>0.030855</td>\n",
       "      <td>0.198603</td>\n",
       "      <td>0.0</td>\n",
       "    </tr>\n",
       "    <tr>\n",
       "      <th>std</th>\n",
       "      <td>3.686947e+05</td>\n",
       "      <td>0.311140</td>\n",
       "      <td>0.0</td>\n",
       "      <td>0.040588</td>\n",
       "      <td>0.178292</td>\n",
       "      <td>0.082303</td>\n",
       "      <td>1104.319049</td>\n",
       "      <td>0.558389</td>\n",
       "      <td>1.072843</td>\n",
       "      <td>807.581704</td>\n",
       "      <td>...</td>\n",
       "      <td>0.168876</td>\n",
       "      <td>0.736901</td>\n",
       "      <td>16.272133</td>\n",
       "      <td>0.163801</td>\n",
       "      <td>0.020972</td>\n",
       "      <td>0.096320</td>\n",
       "      <td>0.123196</td>\n",
       "      <td>1.583454</td>\n",
       "      <td>0.542554</td>\n",
       "      <td>0.0</td>\n",
       "    </tr>\n",
       "    <tr>\n",
       "      <th>min</th>\n",
       "      <td>5.000000e+03</td>\n",
       "      <td>11.000000</td>\n",
       "      <td>6.0</td>\n",
       "      <td>2.000000</td>\n",
       "      <td>1.000000</td>\n",
       "      <td>7.000000</td>\n",
       "      <td>98.000000</td>\n",
       "      <td>1.000000</td>\n",
       "      <td>1.000000</td>\n",
       "      <td>2.000000</td>\n",
       "      <td>...</td>\n",
       "      <td>0.000000</td>\n",
       "      <td>0.000000</td>\n",
       "      <td>0.000000</td>\n",
       "      <td>0.000000</td>\n",
       "      <td>0.000000</td>\n",
       "      <td>0.000000</td>\n",
       "      <td>0.000000</td>\n",
       "      <td>0.000000</td>\n",
       "      <td>0.000000</td>\n",
       "      <td>0.0</td>\n",
       "    </tr>\n",
       "    <tr>\n",
       "      <th>25%</th>\n",
       "      <td>4.690000e+05</td>\n",
       "      <td>11.000000</td>\n",
       "      <td>6.0</td>\n",
       "      <td>3.000000</td>\n",
       "      <td>1.000000</td>\n",
       "      <td>8.000000</td>\n",
       "      <td>98032.000000</td>\n",
       "      <td>1.000000</td>\n",
       "      <td>7.000000</td>\n",
       "      <td>1440.000000</td>\n",
       "      <td>...</td>\n",
       "      <td>0.000000</td>\n",
       "      <td>0.000000</td>\n",
       "      <td>0.000000</td>\n",
       "      <td>0.000000</td>\n",
       "      <td>0.000000</td>\n",
       "      <td>0.000000</td>\n",
       "      <td>0.000000</td>\n",
       "      <td>0.000000</td>\n",
       "      <td>0.000000</td>\n",
       "      <td>0.0</td>\n",
       "    </tr>\n",
       "    <tr>\n",
       "      <th>50%</th>\n",
       "      <td>6.500000e+05</td>\n",
       "      <td>11.000000</td>\n",
       "      <td>6.0</td>\n",
       "      <td>3.000000</td>\n",
       "      <td>1.000000</td>\n",
       "      <td>8.000000</td>\n",
       "      <td>98059.000000</td>\n",
       "      <td>2.000000</td>\n",
       "      <td>7.000000</td>\n",
       "      <td>1930.000000</td>\n",
       "      <td>...</td>\n",
       "      <td>0.000000</td>\n",
       "      <td>0.000000</td>\n",
       "      <td>0.000000</td>\n",
       "      <td>0.000000</td>\n",
       "      <td>0.000000</td>\n",
       "      <td>0.000000</td>\n",
       "      <td>0.000000</td>\n",
       "      <td>0.000000</td>\n",
       "      <td>0.000000</td>\n",
       "      <td>0.0</td>\n",
       "    </tr>\n",
       "    <tr>\n",
       "      <th>75%</th>\n",
       "      <td>8.800000e+05</td>\n",
       "      <td>11.000000</td>\n",
       "      <td>6.0</td>\n",
       "      <td>3.000000</td>\n",
       "      <td>1.000000</td>\n",
       "      <td>8.000000</td>\n",
       "      <td>98118.000000</td>\n",
       "      <td>2.000000</td>\n",
       "      <td>8.000000</td>\n",
       "      <td>2550.000000</td>\n",
       "      <td>...</td>\n",
       "      <td>0.000000</td>\n",
       "      <td>0.000000</td>\n",
       "      <td>0.000000</td>\n",
       "      <td>0.000000</td>\n",
       "      <td>0.000000</td>\n",
       "      <td>0.000000</td>\n",
       "      <td>0.000000</td>\n",
       "      <td>0.000000</td>\n",
       "      <td>0.000000</td>\n",
       "      <td>0.0</td>\n",
       "    </tr>\n",
       "    <tr>\n",
       "      <th>max</th>\n",
       "      <td>2.498000e+06</td>\n",
       "      <td>18.000000</td>\n",
       "      <td>6.0</td>\n",
       "      <td>3.000000</td>\n",
       "      <td>18.000000</td>\n",
       "      <td>8.000000</td>\n",
       "      <td>98812.000000</td>\n",
       "      <td>4.000000</td>\n",
       "      <td>12.000000</td>\n",
       "      <td>4490.000000</td>\n",
       "      <td>...</td>\n",
       "      <td>4.000000</td>\n",
       "      <td>9.000000</td>\n",
       "      <td>1610.000000</td>\n",
       "      <td>3.000000</td>\n",
       "      <td>1.000000</td>\n",
       "      <td>3.000000</td>\n",
       "      <td>3.000000</td>\n",
       "      <td>96.000000</td>\n",
       "      <td>3.000000</td>\n",
       "      <td>0.0</td>\n",
       "    </tr>\n",
       "  </tbody>\n",
       "</table>\n",
       "<p>8 rows × 54 columns</p>\n",
       "</div>"
      ],
      "text/plain": [
       "          saleprice  propertytype  principaluse  saleinstrument    salereason  \\\n",
       "count  1.818200e+04  18182.000000       18182.0    18182.000000  18182.000000   \n",
       "mean   7.334650e+05     11.028655           6.0        2.998350      1.001870   \n",
       "std    3.686947e+05      0.311140           0.0        0.040588      0.178292   \n",
       "min    5.000000e+03     11.000000           6.0        2.000000      1.000000   \n",
       "25%    4.690000e+05     11.000000           6.0        3.000000      1.000000   \n",
       "50%    6.500000e+05     11.000000           6.0        3.000000      1.000000   \n",
       "75%    8.800000e+05     11.000000           6.0        3.000000      1.000000   \n",
       "max    2.498000e+06     18.000000           6.0        3.000000     18.000000   \n",
       "\n",
       "       propertyclass       zipcode       stories  buildinggrade  \\\n",
       "count   18182.000000  15815.000000  18182.000000   18182.000000   \n",
       "mean        7.993180  98065.602656      1.551754       7.610824   \n",
       "std         0.082303   1104.319049      0.558389       1.072843   \n",
       "min         7.000000     98.000000      1.000000       1.000000   \n",
       "25%         8.000000  98032.000000      1.000000       7.000000   \n",
       "50%         8.000000  98059.000000      2.000000       7.000000   \n",
       "75%         8.000000  98118.000000      2.000000       8.000000   \n",
       "max         8.000000  98812.000000      4.000000      12.000000   \n",
       "\n",
       "       squarefeettotalliving  ...  waterfrontlocation  waterfrontfootage  \\\n",
       "count           18182.000000  ...        18182.000000       18182.000000   \n",
       "mean             2051.980420  ...            0.011715           0.073149   \n",
       "std               807.581704  ...            0.168876           0.736901   \n",
       "min                 2.000000  ...            0.000000           0.000000   \n",
       "25%              1440.000000  ...            0.000000           0.000000   \n",
       "50%              1930.000000  ...            0.000000           0.000000   \n",
       "75%              2550.000000  ...            0.000000           0.000000   \n",
       "max              4490.000000  ...            4.000000           9.000000   \n",
       "\n",
       "       waterfrontbank  waterfrontpoorqualtiy  waterfrontrestrictedaccess  \\\n",
       "count    18182.000000           18182.000000                18182.000000   \n",
       "mean         0.979265               0.015180                    0.000440   \n",
       "std         16.272133               0.163801                    0.020972   \n",
       "min          0.000000               0.000000                    0.000000   \n",
       "25%          0.000000               0.000000                    0.000000   \n",
       "50%          0.000000               0.000000                    0.000000   \n",
       "75%          0.000000               0.000000                    0.000000   \n",
       "max       1610.000000               3.000000                    1.000000   \n",
       "\n",
       "       waterfrontaccessrights  lotdepthfactopr  trafficnoise  airportnoise  \\\n",
       "count            18182.000000     18182.000000  18182.000000  18182.000000   \n",
       "mean                 0.004235         0.007645      0.030855      0.198603   \n",
       "std                  0.096320         0.123196      1.583454      0.542554   \n",
       "min                  0.000000         0.000000      0.000000      0.000000   \n",
       "25%                  0.000000         0.000000      0.000000      0.000000   \n",
       "50%                  0.000000         0.000000      0.000000      0.000000   \n",
       "75%                  0.000000         0.000000      0.000000      0.000000   \n",
       "max                  3.000000         3.000000     96.000000      3.000000   \n",
       "\n",
       "       powerlines  \n",
       "count     18182.0  \n",
       "mean          0.0  \n",
       "std           0.0  \n",
       "min           0.0  \n",
       "25%           0.0  \n",
       "50%           0.0  \n",
       "75%           0.0  \n",
       "max           0.0  \n",
       "\n",
       "[8 rows x 54 columns]"
      ]
     },
     "execution_count": 6,
     "metadata": {},
     "output_type": "execute_result"
    }
   ],
   "source": [
    "df.describe()"
   ]
  },
  {
   "cell_type": "markdown",
   "metadata": {},
   "source": [
    "Let's take a look at some of the features in the dataset"
   ]
  },
  {
   "cell_type": "code",
   "execution_count": 7,
   "metadata": {},
   "outputs": [
    {
     "data": {
      "image/png": "[encoded data removed]",
      "text/plain": [
       "<Figure size 3600x720 with 2 Axes>"
      ]
     },
     "metadata": {
      "needs_background": "light"
     },
     "output_type": "display_data"
    }
   ],
   "source": [
    "#saleprice is the target variable for our analysis, let's see what the distribution looks like\n",
    "fig, ax = plt.subplots(1,2, figsize=(50,10))\n",
    "sns.distplot(df.saleprice, ax = ax[0])\n",
    "sns.boxplot(df.saleprice, ax= ax[1]);"
   ]
  },
  {
   "cell_type": "markdown",
   "metadata": {},
   "source": [
    "the data is still skewed, but the shape is good"
   ]
  },
  {
   "cell_type": "code",
   "execution_count": 8,
   "metadata": {},
   "outputs": [
    {
     "data": {
      "text/html": [
       "<div>\n",
       "<style scoped>\n",
       "    .dataframe tbody tr th:only-of-type {\n",
       "        vertical-align: middle;\n",
       "    }\n",
       "\n",
       "    .dataframe tbody tr th {\n",
       "        vertical-align: top;\n",
       "    }\n",
       "\n",
       "    .dataframe thead th {\n",
       "        text-align: right;\n",
       "    }\n",
       "</style>\n",
       "<table border=\"1\" class=\"dataframe\">\n",
       "  <thead>\n",
       "    <tr style=\"text-align: right;\">\n",
       "      <th></th>\n",
       "      <th>saleprice</th>\n",
       "      <th>buildinggrade</th>\n",
       "      <th>zipcode</th>\n",
       "      <th>squarefeettotalliving</th>\n",
       "      <th>waterfrontlocation</th>\n",
       "    </tr>\n",
       "  </thead>\n",
       "  <tbody>\n",
       "    <tr>\n",
       "      <th>saleprice</th>\n",
       "      <td>1.000000</td>\n",
       "      <td>0.616371</td>\n",
       "      <td>-0.035166</td>\n",
       "      <td>0.596841</td>\n",
       "      <td>0.057722</td>\n",
       "    </tr>\n",
       "    <tr>\n",
       "      <th>buildinggrade</th>\n",
       "      <td>0.616371</td>\n",
       "      <td>1.000000</td>\n",
       "      <td>-0.023614</td>\n",
       "      <td>0.709274</td>\n",
       "      <td>0.047023</td>\n",
       "    </tr>\n",
       "    <tr>\n",
       "      <th>zipcode</th>\n",
       "      <td>-0.035166</td>\n",
       "      <td>-0.023614</td>\n",
       "      <td>1.000000</td>\n",
       "      <td>-0.034323</td>\n",
       "      <td>-0.000871</td>\n",
       "    </tr>\n",
       "    <tr>\n",
       "      <th>squarefeettotalliving</th>\n",
       "      <td>0.596841</td>\n",
       "      <td>0.709274</td>\n",
       "      <td>-0.034323</td>\n",
       "      <td>1.000000</td>\n",
       "      <td>0.047343</td>\n",
       "    </tr>\n",
       "    <tr>\n",
       "      <th>waterfrontlocation</th>\n",
       "      <td>0.057722</td>\n",
       "      <td>0.047023</td>\n",
       "      <td>-0.000871</td>\n",
       "      <td>0.047343</td>\n",
       "      <td>1.000000</td>\n",
       "    </tr>\n",
       "  </tbody>\n",
       "</table>\n",
       "</div>"
      ],
      "text/plain": [
       "                       saleprice  buildinggrade   zipcode  \\\n",
       "saleprice               1.000000       0.616371 -0.035166   \n",
       "buildinggrade           0.616371       1.000000 -0.023614   \n",
       "zipcode                -0.035166      -0.023614  1.000000   \n",
       "squarefeettotalliving   0.596841       0.709274 -0.034323   \n",
       "waterfrontlocation      0.057722       0.047023 -0.000871   \n",
       "\n",
       "                       squarefeettotalliving  waterfrontlocation  \n",
       "saleprice                           0.596841            0.057722  \n",
       "buildinggrade                       0.709274            0.047023  \n",
       "zipcode                            -0.034323           -0.000871  \n",
       "squarefeettotalliving               1.000000            0.047343  \n",
       "waterfrontlocation                  0.047343            1.000000  "
      ]
     },
     "execution_count": 8,
     "metadata": {},
     "output_type": "execute_result"
    }
   ],
   "source": [
    "df[['saleprice','buildinggrade','zipcode','squarefeettotalliving','waterfrontlocation']].corr()"
   ]
  },
  {
   "cell_type": "code",
   "execution_count": 9,
   "metadata": {},
   "outputs": [
    {
     "data": {
      "image/png": "[encoded data removed]",
      "text/plain": [
       "<Figure size 3600x720 with 2 Axes>"
      ]
     },
     "metadata": {
      "needs_background": "light"
     },
     "output_type": "display_data"
    }
   ],
   "source": [
    "#total living area square footage looks like it correlates with price as does building grade\n",
    "fig, ax = plt.subplots(1,2, figsize=(50,10))\n",
    "sns.distplot(df.squarefeettotalliving, ax = ax[0])\n",
    "sns.boxplot(df.squarefeettotalliving, ax= ax[1]);"
   ]
  },
  {
   "cell_type": "code",
   "execution_count": 10,
   "metadata": {},
   "outputs": [
    {
     "data": {
      "image/png": "[encoded data removed]",
      "text/plain": [
       "<Figure size 3600x720 with 2 Axes>"
      ]
     },
     "metadata": {
      "needs_background": "light"
     },
     "output_type": "display_data"
    }
   ],
   "source": [
    "#what does the dist of building grade look like?\n",
    "\n",
    "mean = df.saleprice.groupby(df['buildinggrade']).mean()\n",
    "grade = df.buildinggrade\n",
    "\n",
    "fig, ax = plt.subplots(1,2, figsize=(50,10))\n",
    "sns.countplot(df.buildinggrade, ax = ax[0])\n",
    "sns.barplot(grade,mean, ax = ax[1]);"
   ]
  },
  {
   "cell_type": "markdown",
   "metadata": {},
   "source": [
    "looks like most sales are of homes with gradeof 7 and 8 - the highest mean sale price is seen in grades 7 and 10"
   ]
  },
  {
   "cell_type": "code",
   "execution_count": 11,
   "metadata": {},
   "outputs": [
    {
     "data": {
      "text/html": [
       "<div>\n",
       "<style scoped>\n",
       "    .dataframe tbody tr th:only-of-type {\n",
       "        vertical-align: middle;\n",
       "    }\n",
       "\n",
       "    .dataframe tbody tr th {\n",
       "        vertical-align: top;\n",
       "    }\n",
       "\n",
       "    .dataframe thead th {\n",
       "        text-align: right;\n",
       "    }\n",
       "</style>\n",
       "<table border=\"1\" class=\"dataframe\">\n",
       "  <thead>\n",
       "    <tr style=\"text-align: right;\">\n",
       "      <th></th>\n",
       "      <th>saleprice</th>\n",
       "      <th>squarefeetdeck</th>\n",
       "      <th>squarefeetopenporch</th>\n",
       "      <th>squarefeetenclosedporch</th>\n",
       "    </tr>\n",
       "  </thead>\n",
       "  <tbody>\n",
       "    <tr>\n",
       "      <th>saleprice</th>\n",
       "      <td>1.000000</td>\n",
       "      <td>0.202800</td>\n",
       "      <td>0.206762</td>\n",
       "      <td>0.006293</td>\n",
       "    </tr>\n",
       "    <tr>\n",
       "      <th>squarefeetdeck</th>\n",
       "      <td>0.202800</td>\n",
       "      <td>1.000000</td>\n",
       "      <td>-0.034366</td>\n",
       "      <td>0.017801</td>\n",
       "    </tr>\n",
       "    <tr>\n",
       "      <th>squarefeetopenporch</th>\n",
       "      <td>0.206762</td>\n",
       "      <td>-0.034366</td>\n",
       "      <td>1.000000</td>\n",
       "      <td>-0.019317</td>\n",
       "    </tr>\n",
       "    <tr>\n",
       "      <th>squarefeetenclosedporch</th>\n",
       "      <td>0.006293</td>\n",
       "      <td>0.017801</td>\n",
       "      <td>-0.019317</td>\n",
       "      <td>1.000000</td>\n",
       "    </tr>\n",
       "  </tbody>\n",
       "</table>\n",
       "</div>"
      ],
      "text/plain": [
       "                         saleprice  squarefeetdeck  squarefeetopenporch  \\\n",
       "saleprice                 1.000000        0.202800             0.206762   \n",
       "squarefeetdeck            0.202800        1.000000            -0.034366   \n",
       "squarefeetopenporch       0.206762       -0.034366             1.000000   \n",
       "squarefeetenclosedporch   0.006293        0.017801            -0.019317   \n",
       "\n",
       "                         squarefeetenclosedporch  \n",
       "saleprice                               0.006293  \n",
       "squarefeetdeck                          0.017801  \n",
       "squarefeetopenporch                    -0.019317  \n",
       "squarefeetenclosedporch                 1.000000  "
      ]
     },
     "execution_count": 11,
     "metadata": {},
     "output_type": "execute_result"
    }
   ],
   "source": [
    "df[['saleprice','squarefeetdeck','squarefeetopenporch','squarefeetenclosedporch']].corr()"
   ]
  },
  {
   "cell_type": "markdown",
   "metadata": {},
   "source": [
    "these features don't look to have a strong correlation to sale price.  Do they correlate with living space square footage?"
   ]
  },
  {
   "cell_type": "code",
   "execution_count": 12,
   "metadata": {},
   "outputs": [
    {
     "data": {
      "text/html": [
       "<div>\n",
       "<style scoped>\n",
       "    .dataframe tbody tr th:only-of-type {\n",
       "        vertical-align: middle;\n",
       "    }\n",
       "\n",
       "    .dataframe tbody tr th {\n",
       "        vertical-align: top;\n",
       "    }\n",
       "\n",
       "    .dataframe thead th {\n",
       "        text-align: right;\n",
       "    }\n",
       "</style>\n",
       "<table border=\"1\" class=\"dataframe\">\n",
       "  <thead>\n",
       "    <tr style=\"text-align: right;\">\n",
       "      <th></th>\n",
       "      <th>squarefeettotalliving</th>\n",
       "      <th>squarefeetdeck</th>\n",
       "      <th>squarefeetopenporch</th>\n",
       "      <th>squarefeetenclosedporch</th>\n",
       "    </tr>\n",
       "  </thead>\n",
       "  <tbody>\n",
       "    <tr>\n",
       "      <th>squarefeettotalliving</th>\n",
       "      <td>1.000000</td>\n",
       "      <td>0.204983</td>\n",
       "      <td>0.290573</td>\n",
       "      <td>-0.025661</td>\n",
       "    </tr>\n",
       "    <tr>\n",
       "      <th>squarefeetdeck</th>\n",
       "      <td>0.204983</td>\n",
       "      <td>1.000000</td>\n",
       "      <td>-0.034366</td>\n",
       "      <td>0.017801</td>\n",
       "    </tr>\n",
       "    <tr>\n",
       "      <th>squarefeetopenporch</th>\n",
       "      <td>0.290573</td>\n",
       "      <td>-0.034366</td>\n",
       "      <td>1.000000</td>\n",
       "      <td>-0.019317</td>\n",
       "    </tr>\n",
       "    <tr>\n",
       "      <th>squarefeetenclosedporch</th>\n",
       "      <td>-0.025661</td>\n",
       "      <td>0.017801</td>\n",
       "      <td>-0.019317</td>\n",
       "      <td>1.000000</td>\n",
       "    </tr>\n",
       "  </tbody>\n",
       "</table>\n",
       "</div>"
      ],
      "text/plain": [
       "                         squarefeettotalliving  squarefeetdeck  \\\n",
       "squarefeettotalliving                 1.000000        0.204983   \n",
       "squarefeetdeck                        0.204983        1.000000   \n",
       "squarefeetopenporch                   0.290573       -0.034366   \n",
       "squarefeetenclosedporch              -0.025661        0.017801   \n",
       "\n",
       "                         squarefeetopenporch  squarefeetenclosedporch  \n",
       "squarefeettotalliving               0.290573                -0.025661  \n",
       "squarefeetdeck                     -0.034366                 0.017801  \n",
       "squarefeetopenporch                 1.000000                -0.019317  \n",
       "squarefeetenclosedporch            -0.019317                 1.000000  "
      ]
     },
     "execution_count": 12,
     "metadata": {},
     "output_type": "execute_result"
    }
   ],
   "source": [
    "df[['squarefeettotalliving','squarefeetdeck','squarefeetopenporch','squarefeetenclosedporch']].corr()"
   ]
  },
  {
   "cell_type": "markdown",
   "metadata": {},
   "source": [
    "not much better.  How about year built or year renovated?"
   ]
  },
  {
   "cell_type": "code",
   "execution_count": 13,
   "metadata": {},
   "outputs": [
    {
     "data": {
      "text/html": [
       "<div>\n",
       "<style scoped>\n",
       "    .dataframe tbody tr th:only-of-type {\n",
       "        vertical-align: middle;\n",
       "    }\n",
       "\n",
       "    .dataframe tbody tr th {\n",
       "        vertical-align: top;\n",
       "    }\n",
       "\n",
       "    .dataframe thead th {\n",
       "        text-align: right;\n",
       "    }\n",
       "</style>\n",
       "<table border=\"1\" class=\"dataframe\">\n",
       "  <thead>\n",
       "    <tr style=\"text-align: right;\">\n",
       "      <th></th>\n",
       "      <th>saleprice</th>\n",
       "      <th>yearbuilt</th>\n",
       "      <th>yearrenovated</th>\n",
       "      <th>squarefeettotalliving</th>\n",
       "    </tr>\n",
       "  </thead>\n",
       "  <tbody>\n",
       "    <tr>\n",
       "      <th>saleprice</th>\n",
       "      <td>1.000000</td>\n",
       "      <td>0.074909</td>\n",
       "      <td>0.101951</td>\n",
       "      <td>0.596841</td>\n",
       "    </tr>\n",
       "    <tr>\n",
       "      <th>yearbuilt</th>\n",
       "      <td>0.074909</td>\n",
       "      <td>1.000000</td>\n",
       "      <td>-0.250740</td>\n",
       "      <td>0.347701</td>\n",
       "    </tr>\n",
       "    <tr>\n",
       "      <th>yearrenovated</th>\n",
       "      <td>0.101951</td>\n",
       "      <td>-0.250740</td>\n",
       "      <td>1.000000</td>\n",
       "      <td>0.029330</td>\n",
       "    </tr>\n",
       "    <tr>\n",
       "      <th>squarefeettotalliving</th>\n",
       "      <td>0.596841</td>\n",
       "      <td>0.347701</td>\n",
       "      <td>0.029330</td>\n",
       "      <td>1.000000</td>\n",
       "    </tr>\n",
       "  </tbody>\n",
       "</table>\n",
       "</div>"
      ],
      "text/plain": [
       "                       saleprice  yearbuilt  yearrenovated  \\\n",
       "saleprice               1.000000   0.074909       0.101951   \n",
       "yearbuilt               0.074909   1.000000      -0.250740   \n",
       "yearrenovated           0.101951  -0.250740       1.000000   \n",
       "squarefeettotalliving   0.596841   0.347701       0.029330   \n",
       "\n",
       "                       squarefeettotalliving  \n",
       "saleprice                           0.596841  \n",
       "yearbuilt                           0.347701  \n",
       "yearrenovated                       0.029330  \n",
       "squarefeettotalliving               1.000000  "
      ]
     },
     "execution_count": 13,
     "metadata": {},
     "output_type": "execute_result"
    }
   ],
   "source": [
    "df[['saleprice','yearbuilt','yearrenovated','squarefeettotalliving']].corr()"
   ]
  },
  {
   "cell_type": "markdown",
   "metadata": {},
   "source": [
    "year built looks to be correlated with square footage, but not sale price.  How about condition?"
   ]
  },
  {
   "cell_type": "code",
   "execution_count": 14,
   "metadata": {},
   "outputs": [
    {
     "data": {
      "text/html": [
       "<div>\n",
       "<style scoped>\n",
       "    .dataframe tbody tr th:only-of-type {\n",
       "        vertical-align: middle;\n",
       "    }\n",
       "\n",
       "    .dataframe tbody tr th {\n",
       "        vertical-align: top;\n",
       "    }\n",
       "\n",
       "    .dataframe thead th {\n",
       "        text-align: right;\n",
       "    }\n",
       "</style>\n",
       "<table border=\"1\" class=\"dataframe\">\n",
       "  <thead>\n",
       "    <tr style=\"text-align: right;\">\n",
       "      <th></th>\n",
       "      <th>saleprice</th>\n",
       "      <th>condition</th>\n",
       "      <th>squarefeettotalliving</th>\n",
       "    </tr>\n",
       "  </thead>\n",
       "  <tbody>\n",
       "    <tr>\n",
       "      <th>saleprice</th>\n",
       "      <td>1.000000</td>\n",
       "      <td>-0.039693</td>\n",
       "      <td>0.596841</td>\n",
       "    </tr>\n",
       "    <tr>\n",
       "      <th>condition</th>\n",
       "      <td>-0.039693</td>\n",
       "      <td>1.000000</td>\n",
       "      <td>-0.091055</td>\n",
       "    </tr>\n",
       "    <tr>\n",
       "      <th>squarefeettotalliving</th>\n",
       "      <td>0.596841</td>\n",
       "      <td>-0.091055</td>\n",
       "      <td>1.000000</td>\n",
       "    </tr>\n",
       "  </tbody>\n",
       "</table>\n",
       "</div>"
      ],
      "text/plain": [
       "                       saleprice  condition  squarefeettotalliving\n",
       "saleprice               1.000000  -0.039693               0.596841\n",
       "condition              -0.039693   1.000000              -0.091055\n",
       "squarefeettotalliving   0.596841  -0.091055               1.000000"
      ]
     },
     "execution_count": 14,
     "metadata": {},
     "output_type": "execute_result"
    }
   ],
   "source": [
    "df[['saleprice','condition','squarefeettotalliving']].corr()"
   ]
  },
  {
   "cell_type": "markdown",
   "metadata": {},
   "source": [
    "Condition doesn't seem to show much correlation, but what does the category look like"
   ]
  },
  {
   "cell_type": "code",
   "execution_count": 15,
   "metadata": {},
   "outputs": [
    {
     "data": {
      "image/png": "[encoded data removed]",
      "text/plain": [
       "<Figure size 3600x720 with 2 Axes>"
      ]
     },
     "metadata": {
      "needs_background": "light"
     },
     "output_type": "display_data"
    }
   ],
   "source": [
    "mean = df.saleprice.groupby(df['condition']).mean()\n",
    "condition = df.condition\n",
    "\n",
    "fig, ax = plt.subplots(1,2, figsize=(50,10))\n",
    "sns.countplot(df.condition, ax = ax[0])\n",
    "sns.barplot(condition,mean, ax = ax[1]);"
   ]
  },
  {
   "cell_type": "markdown",
   "metadata": {},
   "source": [
    "makes sense, the vast majority of homes sold fall into the same condition category (3) and there isn't much difference in the mean sale price between categories\n",
    "\n",
    "What about other features like bathrooms and bedrooms?"
   ]
  },
  {
   "cell_type": "code",
   "execution_count": 16,
   "metadata": {},
   "outputs": [
    {
     "data": {
      "text/html": [
       "<div>\n",
       "<style scoped>\n",
       "    .dataframe tbody tr th:only-of-type {\n",
       "        vertical-align: middle;\n",
       "    }\n",
       "\n",
       "    .dataframe tbody tr th {\n",
       "        vertical-align: top;\n",
       "    }\n",
       "\n",
       "    .dataframe thead th {\n",
       "        text-align: right;\n",
       "    }\n",
       "</style>\n",
       "<table border=\"1\" class=\"dataframe\">\n",
       "  <thead>\n",
       "    <tr style=\"text-align: right;\">\n",
       "      <th></th>\n",
       "      <th>saleprice</th>\n",
       "      <th>bedrooms</th>\n",
       "      <th>bathfullcount</th>\n",
       "      <th>squarefeettotalliving</th>\n",
       "    </tr>\n",
       "  </thead>\n",
       "  <tbody>\n",
       "    <tr>\n",
       "      <th>saleprice</th>\n",
       "      <td>1.000000</td>\n",
       "      <td>0.285509</td>\n",
       "      <td>0.314990</td>\n",
       "      <td>0.596841</td>\n",
       "    </tr>\n",
       "    <tr>\n",
       "      <th>bedrooms</th>\n",
       "      <td>0.285509</td>\n",
       "      <td>1.000000</td>\n",
       "      <td>0.421071</td>\n",
       "      <td>0.634902</td>\n",
       "    </tr>\n",
       "    <tr>\n",
       "      <th>bathfullcount</th>\n",
       "      <td>0.314990</td>\n",
       "      <td>0.421071</td>\n",
       "      <td>1.000000</td>\n",
       "      <td>0.547144</td>\n",
       "    </tr>\n",
       "    <tr>\n",
       "      <th>squarefeettotalliving</th>\n",
       "      <td>0.596841</td>\n",
       "      <td>0.634902</td>\n",
       "      <td>0.547144</td>\n",
       "      <td>1.000000</td>\n",
       "    </tr>\n",
       "  </tbody>\n",
       "</table>\n",
       "</div>"
      ],
      "text/plain": [
       "                       saleprice  bedrooms  bathfullcount  \\\n",
       "saleprice               1.000000  0.285509       0.314990   \n",
       "bedrooms                0.285509  1.000000       0.421071   \n",
       "bathfullcount           0.314990  0.421071       1.000000   \n",
       "squarefeettotalliving   0.596841  0.634902       0.547144   \n",
       "\n",
       "                       squarefeettotalliving  \n",
       "saleprice                           0.596841  \n",
       "bedrooms                            0.634902  \n",
       "bathfullcount                       0.547144  \n",
       "squarefeettotalliving               1.000000  "
      ]
     },
     "execution_count": 16,
     "metadata": {},
     "output_type": "execute_result"
    }
   ],
   "source": [
    "df[['saleprice','bedrooms','bathfullcount','squarefeettotalliving']].corr()"
   ]
  },
  {
   "cell_type": "markdown",
   "metadata": {},
   "source": [
    "this makes sense, there is a much higher correlation with living square footage than with sale price.  Larger homes tend to have more bedrooms and full bathrooms and larger homes are also more expensive."
   ]
  },
  {
   "cell_type": "code",
   "execution_count": 17,
   "metadata": {},
   "outputs": [
    {
     "data": {
      "image/png": "[encoded data removed]",
      "text/plain": [
       "<Figure size 3600x720 with 4 Axes>"
      ]
     },
     "metadata": {
      "needs_background": "light"
     },
     "output_type": "display_data"
    }
   ],
   "source": [
    "bdmean = df.saleprice.groupby(df['bedrooms']).mean()\n",
    "bed = df.bedrooms\n",
    "bamean = df.saleprice.groupby(df['bathfullcount']).mean()\n",
    "bath = df.bathfullcount\n",
    "\n",
    "fig, ax = plt.subplots(2,2, figsize=(50,10))\n",
    "sns.countplot(bed, ax = ax[0,0])\n",
    "sns.barplot(bed,bdmean, ax = ax[0,1])\n",
    "sns.countplot(bath, ax = ax[1,0])\n",
    "sns.barplot(bath,bamean, ax = ax[1,1]);"
   ]
  },
  {
   "cell_type": "markdown",
   "metadata": {},
   "source": [
    "looks like a fair number of homes are 3-4 beds with 1-2 baths - oddly there is no mean for 3 bed home sales what's up with that?"
   ]
  },
  {
   "cell_type": "code",
   "execution_count": 18,
   "metadata": {},
   "outputs": [
    {
     "data": {
      "text/plain": [
       "bedrooms\n",
       "0     6.446435e+05\n",
       "1     6.205956e+05\n",
       "2     5.946774e+05\n",
       "3     6.556595e+05\n",
       "4     8.271770e+05\n",
       "5     9.539549e+05\n",
       "6     9.560224e+05\n",
       "7     9.763375e+05\n",
       "8     7.549500e+05\n",
       "9     1.006667e+06\n",
       "10    8.060000e+05\n",
       "Name: saleprice, dtype: float64"
      ]
     },
     "execution_count": 18,
     "metadata": {},
     "output_type": "execute_result"
    }
   ],
   "source": [
    "bdmean"
   ]
  },
  {
   "cell_type": "markdown",
   "metadata": {},
   "source": [
    "looks like the plot is not rendering correctly. Let's keep exploring"
   ]
  },
  {
   "cell_type": "code",
   "execution_count": 19,
   "metadata": {},
   "outputs": [
    {
     "data": {
      "text/html": [
       "<div>\n",
       "<style scoped>\n",
       "    .dataframe tbody tr th:only-of-type {\n",
       "        vertical-align: middle;\n",
       "    }\n",
       "\n",
       "    .dataframe tbody tr th {\n",
       "        vertical-align: top;\n",
       "    }\n",
       "\n",
       "    .dataframe thead th {\n",
       "        text-align: right;\n",
       "    }\n",
       "</style>\n",
       "<table border=\"1\" class=\"dataframe\">\n",
       "  <thead>\n",
       "    <tr style=\"text-align: right;\">\n",
       "      <th></th>\n",
       "      <th>saleprice</th>\n",
       "      <th>township</th>\n",
       "      <th>squarefeettotalliving</th>\n",
       "    </tr>\n",
       "  </thead>\n",
       "  <tbody>\n",
       "    <tr>\n",
       "      <th>saleprice</th>\n",
       "      <td>1.000000</td>\n",
       "      <td>0.460482</td>\n",
       "      <td>0.596841</td>\n",
       "    </tr>\n",
       "    <tr>\n",
       "      <th>township</th>\n",
       "      <td>0.460482</td>\n",
       "      <td>1.000000</td>\n",
       "      <td>0.049027</td>\n",
       "    </tr>\n",
       "    <tr>\n",
       "      <th>squarefeettotalliving</th>\n",
       "      <td>0.596841</td>\n",
       "      <td>0.049027</td>\n",
       "      <td>1.000000</td>\n",
       "    </tr>\n",
       "  </tbody>\n",
       "</table>\n",
       "</div>"
      ],
      "text/plain": [
       "                       saleprice  township  squarefeettotalliving\n",
       "saleprice               1.000000  0.460482               0.596841\n",
       "township                0.460482  1.000000               0.049027\n",
       "squarefeettotalliving   0.596841  0.049027               1.000000"
      ]
     },
     "execution_count": 19,
     "metadata": {},
     "output_type": "execute_result"
    }
   ],
   "source": [
    "df[['saleprice','township','squarefeettotalliving']].corr()"
   ]
  },
  {
   "cell_type": "markdown",
   "metadata": {},
   "source": [
    "township might be interesting to look at - it appears to be correlated with both sale price and square footage fairly equally.  Let's see"
   ]
  },
  {
   "cell_type": "code",
   "execution_count": 20,
   "metadata": {},
   "outputs": [
    {
     "data": {
      "image/png": "[encoded data removed]",
      "text/plain": [
       "<Figure size 3600x720 with 2 Axes>"
      ]
     },
     "metadata": {
      "needs_background": "light"
     },
     "output_type": "display_data"
    }
   ],
   "source": [
    "mean = df.saleprice.groupby(df['township']).mean()\n",
    "twn = df.township\n",
    "\n",
    "fig, ax = plt.subplots(1,2, figsize=(50,10))\n",
    "sns.countplot(twn, ax = ax[0])\n",
    "sns.barplot(twn,mean, ax = ax[1]);"
   ]
  },
  {
   "cell_type": "code",
   "execution_count": 21,
   "metadata": {},
   "outputs": [
    {
     "data": {
      "text/plain": [
       "township\n",
       "19.0    2.806250e+05\n",
       "20.0    4.470860e+05\n",
       "21.0    4.330838e+05\n",
       "22.0    4.752863e+05\n",
       "23.0    5.515511e+05\n",
       "24.0    8.602265e+05\n",
       "25.0    1.040135e+06\n",
       "26.0    7.679675e+05\n",
       "Name: saleprice, dtype: float64"
      ]
     },
     "execution_count": 21,
     "metadata": {},
     "output_type": "execute_result"
    }
   ],
   "source": [
    "mean"
   ]
  },
  {
   "cell_type": "markdown",
   "metadata": {},
   "source": [
    "townships 24,25,and 26 have a much higher mean sale price.  19 loks to be quite a bit lower.  Let's see if these are real differences."
   ]
  },
  {
   "cell_type": "code",
   "execution_count": 22,
   "metadata": {},
   "outputs": [
    {
     "data": {
      "text/plain": [
       "25.0    3785\n",
       "24.0    3715\n",
       "26.0    3460\n",
       "23.0    2720\n",
       "22.0    2188\n",
       "21.0    2023\n",
       "20.0     289\n",
       "19.0       2\n",
       "Name: township, dtype: int64"
      ]
     },
     "execution_count": 22,
     "metadata": {},
     "output_type": "execute_result"
    }
   ],
   "source": [
    "df.township.value_counts()"
   ]
  },
  {
   "cell_type": "markdown",
   "metadata": {},
   "source": [
    "so, 19 only has 2 home sales, so that wouldn't be enough to meaningfully compare to anything, 20 also has a very small number not sure how meaningful that might be - will determine later.  24,25,and 26 actually have more homes sold than 21,22,23.  this might be interesting to explore further\n",
    "\n",
    "how about a t-test!  we will group 21,22,23 into one group, and 24,25,26 into the second to see if the higher mean sale price in the second group is really different that the other group"
   ]
  },
  {
   "cell_type": "code",
   "execution_count": 23,
   "metadata": {},
   "outputs": [
    {
     "name": "stdout",
     "output_type": "stream",
     "text": [
      "(10960, 2)\n",
      "(6931, 2)\n"
     ]
    }
   ],
   "source": [
    "town = df[['saleprice','township']]\n",
    "\n",
    "t_high = (24,25,26)\n",
    "t_low = (21,22,23)\n",
    "\n",
    "townhigh = town[town.township.isin(t_high)]\n",
    "townlow = town[town.township.isin(t_low)]\n",
    "\n",
    "print(townhigh.shape)\n",
    "print(townlow.shape)"
   ]
  },
  {
   "cell_type": "code",
   "execution_count": 24,
   "metadata": {},
   "outputs": [
    {
     "name": "stdout",
     "output_type": "stream",
     "text": [
      "critical_t_stat: 1.6449388105022789\n",
      "test t-stat: 95.90200422557332\n",
      "pvalue - 0.0\n"
     ]
    }
   ],
   "source": [
    "from scipy.stats import ttest_ind\n",
    "\n",
    "townhigh = townhigh.saleprice\n",
    "townlow = townlow.saleprice\n",
    "#df is equal to n of sample 1-1 + n of sample 2 -1\n",
    "df = (len(townhigh)-1) + (len(townlow)-1)\n",
    "# the alpha value we are using for this test is .05, because it is one-sided we only need the value below .95\n",
    "critical_tstat_below = stats.t.ppf(.95,df)\n",
    "print(f'critical_t_stat: {critical_tstat_below}')\n",
    "\n",
    "ttest_result = ttest_ind(townhigh,townlow, equal_var=False)\n",
    "print(f'test t-stat: {ttest_result.statistic}')\n",
    "#because the pvalue generated for this would be 2-way, we need to divide by 2 to get the correct pvalue\n",
    "print(f'pvalue - {ttest_result.pvalue/2}')"
   ]
  },
  {
   "cell_type": "markdown",
   "metadata": {},
   "source": [
    "it does not appear that we can reject the NULL hypothesis here (NULL = the townhigh group mean sale price is less than or equal to the townlow group mean sale price)"
   ]
  },
  {
   "cell_type": "markdown",
   "metadata": {},
   "source": [
    "let's take one more look at out correlation matrix"
   ]
  },
  {
   "cell_type": "code",
   "execution_count": 26,
   "metadata": {},
   "outputs": [
    {
     "data": {
      "text/html": [
       "<div>\n",
       "<style scoped>\n",
       "    .dataframe tbody tr th:only-of-type {\n",
       "        vertical-align: middle;\n",
       "    }\n",
       "\n",
       "    .dataframe tbody tr th {\n",
       "        vertical-align: top;\n",
       "    }\n",
       "\n",
       "    .dataframe thead th {\n",
       "        text-align: right;\n",
       "    }\n",
       "</style>\n",
       "<table border=\"1\" class=\"dataframe\">\n",
       "  <thead>\n",
       "    <tr style=\"text-align: right;\">\n",
       "      <th></th>\n",
       "      <th>saleprice</th>\n",
       "      <th>squarefeettotalliving</th>\n",
       "      <th>buildinggrade</th>\n",
       "      <th>township</th>\n",
       "      <th>waterfrontlocation</th>\n",
       "      <th>airportnoise</th>\n",
       "      <th>waterfrontfootage</th>\n",
       "    </tr>\n",
       "  </thead>\n",
       "  <tbody>\n",
       "    <tr>\n",
       "      <th>saleprice</th>\n",
       "      <td>1.000000</td>\n",
       "      <td>0.596841</td>\n",
       "      <td>0.616371</td>\n",
       "      <td>0.460482</td>\n",
       "      <td>0.057722</td>\n",
       "      <td>0.005926</td>\n",
       "      <td>0.078874</td>\n",
       "    </tr>\n",
       "    <tr>\n",
       "      <th>squarefeettotalliving</th>\n",
       "      <td>0.596841</td>\n",
       "      <td>1.000000</td>\n",
       "      <td>0.709274</td>\n",
       "      <td>0.049027</td>\n",
       "      <td>0.047343</td>\n",
       "      <td>-0.065718</td>\n",
       "      <td>0.021053</td>\n",
       "    </tr>\n",
       "    <tr>\n",
       "      <th>buildinggrade</th>\n",
       "      <td>0.616371</td>\n",
       "      <td>0.709274</td>\n",
       "      <td>1.000000</td>\n",
       "      <td>0.144453</td>\n",
       "      <td>0.047023</td>\n",
       "      <td>-0.057989</td>\n",
       "      <td>0.004425</td>\n",
       "    </tr>\n",
       "    <tr>\n",
       "      <th>township</th>\n",
       "      <td>0.460482</td>\n",
       "      <td>0.049027</td>\n",
       "      <td>0.144453</td>\n",
       "      <td>1.000000</td>\n",
       "      <td>0.003778</td>\n",
       "      <td>0.084417</td>\n",
       "      <td>-0.039465</td>\n",
       "    </tr>\n",
       "    <tr>\n",
       "      <th>waterfrontlocation</th>\n",
       "      <td>0.057722</td>\n",
       "      <td>0.047343</td>\n",
       "      <td>0.047023</td>\n",
       "      <td>0.003778</td>\n",
       "      <td>1.000000</td>\n",
       "      <td>-0.006785</td>\n",
       "      <td>0.041732</td>\n",
       "    </tr>\n",
       "    <tr>\n",
       "      <th>airportnoise</th>\n",
       "      <td>0.005926</td>\n",
       "      <td>-0.065718</td>\n",
       "      <td>-0.057989</td>\n",
       "      <td>0.084417</td>\n",
       "      <td>-0.006785</td>\n",
       "      <td>1.000000</td>\n",
       "      <td>-0.005798</td>\n",
       "    </tr>\n",
       "    <tr>\n",
       "      <th>waterfrontfootage</th>\n",
       "      <td>0.078874</td>\n",
       "      <td>0.021053</td>\n",
       "      <td>0.004425</td>\n",
       "      <td>-0.039465</td>\n",
       "      <td>0.041732</td>\n",
       "      <td>-0.005798</td>\n",
       "      <td>1.000000</td>\n",
       "    </tr>\n",
       "  </tbody>\n",
       "</table>\n",
       "</div>"
      ],
      "text/plain": [
       "                       saleprice  squarefeettotalliving  buildinggrade  \\\n",
       "saleprice               1.000000               0.596841       0.616371   \n",
       "squarefeettotalliving   0.596841               1.000000       0.709274   \n",
       "buildinggrade           0.616371               0.709274       1.000000   \n",
       "township                0.460482               0.049027       0.144453   \n",
       "waterfrontlocation      0.057722               0.047343       0.047023   \n",
       "airportnoise            0.005926              -0.065718      -0.057989   \n",
       "waterfrontfootage       0.078874               0.021053       0.004425   \n",
       "\n",
       "                       township  waterfrontlocation  airportnoise  \\\n",
       "saleprice              0.460482            0.057722      0.005926   \n",
       "squarefeettotalliving  0.049027            0.047343     -0.065718   \n",
       "buildinggrade          0.144453            0.047023     -0.057989   \n",
       "township               1.000000            0.003778      0.084417   \n",
       "waterfrontlocation     0.003778            1.000000     -0.006785   \n",
       "airportnoise           0.084417           -0.006785      1.000000   \n",
       "waterfrontfootage     -0.039465            0.041732     -0.005798   \n",
       "\n",
       "                       waterfrontfootage  \n",
       "saleprice                       0.078874  \n",
       "squarefeettotalliving           0.021053  \n",
       "buildinggrade                   0.004425  \n",
       "township                       -0.039465  \n",
       "waterfrontlocation              0.041732  \n",
       "airportnoise                   -0.005798  \n",
       "waterfrontfootage               1.000000  "
      ]
     },
     "execution_count": 26,
     "metadata": {},
     "output_type": "execute_result"
    }
   ],
   "source": [
    "df = pd.read_csv('../asp_original', index_col = 0)\n",
    "df[['saleprice','squarefeettotalliving','buildinggrade','township','waterfrontlocation','airportnoise','waterfrontfootage']].corr()"
   ]
  },
  {
   "cell_type": "markdown",
   "metadata": {},
   "source": [
    "it looks like our best candidates for the first model are squarefeettotalliving, buildinggrade, township.  \n",
    "To keep this a bit cleaner, I am going to start a new notebook to build the model "
   ]
  }
 ],
 "metadata": {
  "kernelspec": {
   "display_name": "oy-env",
   "language": "python",
   "name": "oy-env"
  },
  "language_info": {
   "codemirror_mode": {
    "name": "ipython",
    "version": 3
   },
   "file_extension": ".py",
   "mimetype": "text/x-python",
   "name": "python",
   "nbconvert_exporter": "python",
   "pygments_lexer": "ipython3",
   "version": "3.8.1"
  }
 },
 "nbformat": 4,
 "nbformat_minor": 4
}
