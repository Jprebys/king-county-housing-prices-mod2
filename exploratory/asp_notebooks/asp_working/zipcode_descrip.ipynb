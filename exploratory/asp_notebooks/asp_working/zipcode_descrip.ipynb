{
 "cells": [
  {
   "cell_type": "markdown",
   "metadata": {},
   "source": [
    "exploring the mean price by zipcode"
   ]
  },
  {
   "cell_type": "code",
   "execution_count": 1,
   "metadata": {},
   "outputs": [],
   "source": [
    "import os\n",
    "import sys\n",
    "import pandas as pd\n",
    "import statsmodels.api as sm\n",
    "from statsmodels.formula.api import ols\n",
    "import psycopg2\n",
    "import seaborn as sns\n",
    "import matplotlib.pyplot as plt\n",
    "%matplotlib inline"
   ]
  },
  {
   "cell_type": "code",
   "execution_count": 2,
   "metadata": {},
   "outputs": [],
   "source": [
    "DBNAME = \"king_county_housing_prices\"\n",
    "conn = psycopg2.connect(dbname=DBNAME)"
   ]
  },
  {
   "cell_type": "code",
   "execution_count": 3,
   "metadata": {},
   "outputs": [],
   "source": [
    "zipdata = pd.read_sql(\"\"\"\n",
    "                    SELECT \n",
    "                        SUBSTRING (rb.zipcode, 1,5) AS zipcode\n",
    "                        ,COUNT (*) \n",
    "                        ,AVG(rps.saleprice::float) as meansaleprice\n",
    "                        ,AVG(rb.squarefeettotalliving) as meansqft\n",
    "                    FROM real_property_sales rps\n",
    "                    JOIN residential_building rb\n",
    "                         ON rb.major = rps.major\n",
    "                         AND rb.minor = rps.minor\n",
    "                    WHERE  (rps.propertytype = '12' OR rps.propertytype = '14' OR rps.propertytype = '18' OR rps.propertytype = '11')\n",
    "                        AND (rps.principaluse = '2' OR rps.principaluse = '6')\n",
    "                        AND (rps.documentdate > '2018-12-31' and rps.documentdate < '2020-01-01')\n",
    "                        AND (rb.squarefeettotalliving > 800 AND rb.squarefeettotalliving  < 4500)\n",
    "                        AND (rps.saleprice > 10.00 AND rps.saleprice < 2500000)\n",
    "                    GROUP BY SUBSTRING (rb.zipcode, 1,5)\n",
    "                    HAVING count(*) > 100\n",
    "                    ORDER BY meansaleprice desc\n",
    "                    \"\"\",conn)"
   ]
  },
  {
   "cell_type": "code",
   "execution_count": 4,
   "metadata": {},
   "outputs": [
    {
     "data": {
      "text/html": [
       "<div>\n",
       "<style scoped>\n",
       "    .dataframe tbody tr th:only-of-type {\n",
       "        vertical-align: middle;\n",
       "    }\n",
       "\n",
       "    .dataframe tbody tr th {\n",
       "        vertical-align: top;\n",
       "    }\n",
       "\n",
       "    .dataframe thead th {\n",
       "        text-align: right;\n",
       "    }\n",
       "</style>\n",
       "<table border=\"1\" class=\"dataframe\">\n",
       "  <thead>\n",
       "    <tr style=\"text-align: right;\">\n",
       "      <th></th>\n",
       "      <th>zipcode</th>\n",
       "      <th>count</th>\n",
       "      <th>meansaleprice</th>\n",
       "      <th>meansqft</th>\n",
       "    </tr>\n",
       "  </thead>\n",
       "  <tbody>\n",
       "    <tr>\n",
       "      <th>0</th>\n",
       "      <td>98004</td>\n",
       "      <td>143</td>\n",
       "      <td>1.600036e+06</td>\n",
       "      <td>2554.335664</td>\n",
       "    </tr>\n",
       "    <tr>\n",
       "      <th>1</th>\n",
       "      <td>98040</td>\n",
       "      <td>192</td>\n",
       "      <td>1.459237e+06</td>\n",
       "      <td>2846.661458</td>\n",
       "    </tr>\n",
       "    <tr>\n",
       "      <th>2</th>\n",
       "      <td>98112</td>\n",
       "      <td>180</td>\n",
       "      <td>1.253602e+06</td>\n",
       "      <td>2150.777778</td>\n",
       "    </tr>\n",
       "    <tr>\n",
       "      <th>3</th>\n",
       "      <td>98119</td>\n",
       "      <td>120</td>\n",
       "      <td>1.165865e+06</td>\n",
       "      <td>2085.050000</td>\n",
       "    </tr>\n",
       "    <tr>\n",
       "      <th>4</th>\n",
       "      <td>98033</td>\n",
       "      <td>277</td>\n",
       "      <td>1.133903e+06</td>\n",
       "      <td>2280.216606</td>\n",
       "    </tr>\n",
       "    <tr>\n",
       "      <th>...</th>\n",
       "      <td>...</td>\n",
       "      <td>...</td>\n",
       "      <td>...</td>\n",
       "      <td>...</td>\n",
       "    </tr>\n",
       "    <tr>\n",
       "      <th>57</th>\n",
       "      <td>98168</td>\n",
       "      <td>239</td>\n",
       "      <td>4.157343e+05</td>\n",
       "      <td>1640.167364</td>\n",
       "    </tr>\n",
       "    <tr>\n",
       "      <th>58</th>\n",
       "      <td>98003</td>\n",
       "      <td>283</td>\n",
       "      <td>4.052898e+05</td>\n",
       "      <td>1847.452297</td>\n",
       "    </tr>\n",
       "    <tr>\n",
       "      <th>59</th>\n",
       "      <td>98001</td>\n",
       "      <td>344</td>\n",
       "      <td>4.031552e+05</td>\n",
       "      <td>1886.235465</td>\n",
       "    </tr>\n",
       "    <tr>\n",
       "      <th>60</th>\n",
       "      <td>98032</td>\n",
       "      <td>117</td>\n",
       "      <td>3.885014e+05</td>\n",
       "      <td>1841.760684</td>\n",
       "    </tr>\n",
       "    <tr>\n",
       "      <th>61</th>\n",
       "      <td>98002</td>\n",
       "      <td>216</td>\n",
       "      <td>3.461035e+05</td>\n",
       "      <td>1550.407407</td>\n",
       "    </tr>\n",
       "  </tbody>\n",
       "</table>\n",
       "<p>62 rows × 4 columns</p>\n",
       "</div>"
      ],
      "text/plain": [
       "   zipcode  count  meansaleprice     meansqft\n",
       "0    98004    143   1.600036e+06  2554.335664\n",
       "1    98040    192   1.459237e+06  2846.661458\n",
       "2    98112    180   1.253602e+06  2150.777778\n",
       "3    98119    120   1.165865e+06  2085.050000\n",
       "4    98033    277   1.133903e+06  2280.216606\n",
       "..     ...    ...            ...          ...\n",
       "57   98168    239   4.157343e+05  1640.167364\n",
       "58   98003    283   4.052898e+05  1847.452297\n",
       "59   98001    344   4.031552e+05  1886.235465\n",
       "60   98032    117   3.885014e+05  1841.760684\n",
       "61   98002    216   3.461035e+05  1550.407407\n",
       "\n",
       "[62 rows x 4 columns]"
      ]
     },
     "execution_count": 4,
     "metadata": {},
     "output_type": "execute_result"
    }
   ],
   "source": [
    "zipdata"
   ]
  },
  {
   "cell_type": "code",
   "execution_count": 5,
   "metadata": {},
   "outputs": [
    {
     "data": {
      "text/plain": [
       "(62, 4)"
      ]
     },
     "execution_count": 5,
     "metadata": {},
     "output_type": "execute_result"
    }
   ],
   "source": [
    "zipdata.shape"
   ]
  },
  {
   "cell_type": "code",
   "execution_count": 6,
   "metadata": {},
   "outputs": [
    {
     "data": {
      "image/png": "[encoded data removed]",
      "text/plain": [
       "<Figure size 432x288 with 1 Axes>"
      ]
     },
     "metadata": {
      "needs_background": "light"
     },
     "output_type": "display_data"
    }
   ],
   "source": [
    "zipcode = zipdata.zipcode\n",
    "meansaleprice = zipdata.meansaleprice\n",
    "meansqft = zipdata.meansqft\n",
    "plt.bar (zipcode, meansaleprice)\n",
    "plt.xlabel ('zipcode', fontsize = 6)\n",
    "plt.ylabel ('mean sale price', fontsize = 6)\n",
    "plt.xticks (zipcode, fontsize = 4, rotation = 45)\n",
    "plt.title ('Average Sale Price by Zip Code')\n",
    "plt.show()"
   ]
  },
  {
   "cell_type": "code",
   "execution_count": 7,
   "metadata": {},
   "outputs": [
    {
     "data": {
      "image/png": "[encoded data removed]",
      "text/plain": [
       "<Figure size 432x288 with 1 Axes>"
      ]
     },
     "metadata": {
      "needs_background": "light"
     },
     "output_type": "display_data"
    }
   ],
   "source": [
    "plt.bar (zipcode, meansqft)\n",
    "plt.xlabel ('zipcode', fontsize = 6)\n",
    "plt.ylabel ('mean square footage', fontsize = 6)\n",
    "plt.xticks (zipcode, fontsize = 4, rotation = 45)\n",
    "plt.title ('Average Square Ft Living Space by Zip Code')\n",
    "plt.show ();"
   ]
  },
  {
   "cell_type": "code",
   "execution_count": 8,
   "metadata": {},
   "outputs": [
    {
     "data": {
      "image/png": "[encoded data removed]",
      "text/plain": [
       "<Figure size 432x288 with 1 Axes>"
      ]
     },
     "metadata": {
      "needs_background": "light"
     },
     "output_type": "display_data"
    }
   ],
   "source": [
    "plt.scatter(meansqft,meansaleprice);"
   ]
  },
  {
   "cell_type": "code",
   "execution_count": 9,
   "metadata": {},
   "outputs": [
    {
     "data": {
      "image/png": "[encoded data removed]",
      "text/plain": [
       "<Figure size 432x288 with 1 Axes>"
      ]
     },
     "metadata": {
      "needs_background": "light"
     },
     "output_type": "display_data"
    }
   ],
   "source": [
    "plt.scatter(zipcode, meansqft);"
   ]
  },
  {
   "cell_type": "markdown",
   "metadata": {},
   "source": [
    "Zipcode looks to be influencing mean sales price.  "
   ]
  }
 ],
 "metadata": {
  "kernelspec": {
   "display_name": "oy-env",
   "language": "python",
   "name": "oy-env"
  },
  "language_info": {
   "codemirror_mode": {
    "name": "ipython",
    "version": 3
   },
   "file_extension": ".py",
   "mimetype": "text/x-python",
   "name": "python",
   "nbconvert_exporter": "python",
   "pygments_lexer": "ipython3",
   "version": "3.8.1"
  }
 },
 "nbformat": 4,
 "nbformat_minor": 4
}
