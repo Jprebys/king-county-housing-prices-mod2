{
 "cells": [
  {
   "cell_type": "markdown",
   "metadata": {},
   "source": [
    "Claim:  The presence of a nuisance (power lines, traffic noise, airport noise) decreases home sale price\n",
    "\n",
    "Is this really the case?  Let's see what the data says"
   ]
  },
  {
   "cell_type": "code",
   "execution_count": 1,
   "metadata": {},
   "outputs": [],
   "source": [
    "#import packages needed\n",
    "import numpy as np\n",
    "import pandas as pd\n",
    "import scipy.stats as stats\n",
    "import matplotlib.pyplot as plt\n",
    "import seaborn as sns\n",
    "import statsmodels.api as sm\n",
    "from statsmodels.formula.api import ols\n",
    "%matplotlib inline"
   ]
  },
  {
   "cell_type": "code",
   "execution_count": 2,
   "metadata": {},
   "outputs": [
    {
     "data": {
      "text/html": [
       "<div>\n",
       "<style scoped>\n",
       "    .dataframe tbody tr th:only-of-type {\n",
       "        vertical-align: middle;\n",
       "    }\n",
       "\n",
       "    .dataframe tbody tr th {\n",
       "        vertical-align: top;\n",
       "    }\n",
       "\n",
       "    .dataframe thead th {\n",
       "        text-align: right;\n",
       "    }\n",
       "</style>\n",
       "<table border=\"1\" class=\"dataframe\">\n",
       "  <thead>\n",
       "    <tr style=\"text-align: right;\">\n",
       "      <th></th>\n",
       "      <th>documentdate</th>\n",
       "      <th>saleprice</th>\n",
       "      <th>propertytype</th>\n",
       "      <th>principaluse</th>\n",
       "      <th>saleinstrument</th>\n",
       "      <th>currentuseland</th>\n",
       "      <th>historicproperty</th>\n",
       "      <th>salereason</th>\n",
       "      <th>propertyclass</th>\n",
       "      <th>zipcode</th>\n",
       "      <th>...</th>\n",
       "      <th>waterfrontpoorqualtiy</th>\n",
       "      <th>waterfrontrestrictedaccess</th>\n",
       "      <th>waterfrontaccessrights</th>\n",
       "      <th>waterfrontproximityinfluence</th>\n",
       "      <th>tidelandshoreland</th>\n",
       "      <th>lotdepthfactopr</th>\n",
       "      <th>trafficnoise</th>\n",
       "      <th>airportnoise</th>\n",
       "      <th>powerlines</th>\n",
       "      <th>othernuisances</th>\n",
       "    </tr>\n",
       "  </thead>\n",
       "  <tbody>\n",
       "    <tr>\n",
       "      <td>0</td>\n",
       "      <td>2019-04-01</td>\n",
       "      <td>1065000.0</td>\n",
       "      <td>12</td>\n",
       "      <td>6</td>\n",
       "      <td>3</td>\n",
       "      <td>N</td>\n",
       "      <td>N</td>\n",
       "      <td>1</td>\n",
       "      <td>8</td>\n",
       "      <td>98102.0</td>\n",
       "      <td>...</td>\n",
       "      <td>0</td>\n",
       "      <td>0</td>\n",
       "      <td>0</td>\n",
       "      <td>N</td>\n",
       "      <td>N</td>\n",
       "      <td>0.0</td>\n",
       "      <td>0</td>\n",
       "      <td>0</td>\n",
       "      <td>0</td>\n",
       "      <td>N</td>\n",
       "    </tr>\n",
       "    <tr>\n",
       "      <td>1</td>\n",
       "      <td>2019-05-04</td>\n",
       "      <td>890000.0</td>\n",
       "      <td>12</td>\n",
       "      <td>6</td>\n",
       "      <td>3</td>\n",
       "      <td>N</td>\n",
       "      <td>N</td>\n",
       "      <td>1</td>\n",
       "      <td>8</td>\n",
       "      <td>98011.0</td>\n",
       "      <td>...</td>\n",
       "      <td>0</td>\n",
       "      <td>0</td>\n",
       "      <td>0</td>\n",
       "      <td>N</td>\n",
       "      <td>N</td>\n",
       "      <td>0.0</td>\n",
       "      <td>0</td>\n",
       "      <td>1</td>\n",
       "      <td>0</td>\n",
       "      <td>N</td>\n",
       "    </tr>\n",
       "    <tr>\n",
       "      <td>2</td>\n",
       "      <td>2019-11-05</td>\n",
       "      <td>640000.0</td>\n",
       "      <td>11</td>\n",
       "      <td>6</td>\n",
       "      <td>3</td>\n",
       "      <td>N</td>\n",
       "      <td>N</td>\n",
       "      <td>1</td>\n",
       "      <td>8</td>\n",
       "      <td>98125.0</td>\n",
       "      <td>...</td>\n",
       "      <td>0</td>\n",
       "      <td>0</td>\n",
       "      <td>0</td>\n",
       "      <td>N</td>\n",
       "      <td>N</td>\n",
       "      <td>0.0</td>\n",
       "      <td>0</td>\n",
       "      <td>1</td>\n",
       "      <td>0</td>\n",
       "      <td>N</td>\n",
       "    </tr>\n",
       "    <tr>\n",
       "      <td>3</td>\n",
       "      <td>2019-01-25</td>\n",
       "      <td>645000.0</td>\n",
       "      <td>11</td>\n",
       "      <td>6</td>\n",
       "      <td>3</td>\n",
       "      <td>N</td>\n",
       "      <td>N</td>\n",
       "      <td>1</td>\n",
       "      <td>8</td>\n",
       "      <td>98028.0</td>\n",
       "      <td>...</td>\n",
       "      <td>0</td>\n",
       "      <td>0</td>\n",
       "      <td>0</td>\n",
       "      <td>N</td>\n",
       "      <td>N</td>\n",
       "      <td>0.0</td>\n",
       "      <td>0</td>\n",
       "      <td>1</td>\n",
       "      <td>0</td>\n",
       "      <td>N</td>\n",
       "    </tr>\n",
       "    <tr>\n",
       "      <td>4</td>\n",
       "      <td>2019-10-05</td>\n",
       "      <td>907000.0</td>\n",
       "      <td>11</td>\n",
       "      <td>6</td>\n",
       "      <td>3</td>\n",
       "      <td>N</td>\n",
       "      <td>N</td>\n",
       "      <td>1</td>\n",
       "      <td>8</td>\n",
       "      <td>98005.0</td>\n",
       "      <td>...</td>\n",
       "      <td>0</td>\n",
       "      <td>0</td>\n",
       "      <td>0</td>\n",
       "      <td>N</td>\n",
       "      <td>N</td>\n",
       "      <td>0.0</td>\n",
       "      <td>0</td>\n",
       "      <td>0</td>\n",
       "      <td>0</td>\n",
       "      <td>N</td>\n",
       "    </tr>\n",
       "  </tbody>\n",
       "</table>\n",
       "<p>5 rows × 64 columns</p>\n",
       "</div>"
      ],
      "text/plain": [
       "  documentdate  saleprice  propertytype  principaluse  saleinstrument  \\\n",
       "0   2019-04-01  1065000.0            12             6               3   \n",
       "1   2019-05-04   890000.0            12             6               3   \n",
       "2   2019-11-05   640000.0            11             6               3   \n",
       "3   2019-01-25   645000.0            11             6               3   \n",
       "4   2019-10-05   907000.0            11             6               3   \n",
       "\n",
       "  currentuseland historicproperty  salereason  propertyclass  zipcode  ...  \\\n",
       "0              N                N           1              8  98102.0  ...   \n",
       "1              N                N           1              8  98011.0  ...   \n",
       "2              N                N           1              8  98125.0  ...   \n",
       "3              N                N           1              8  98028.0  ...   \n",
       "4              N                N           1              8  98005.0  ...   \n",
       "\n",
       "  waterfrontpoorqualtiy  waterfrontrestrictedaccess  waterfrontaccessrights  \\\n",
       "0                     0                           0                       0   \n",
       "1                     0                           0                       0   \n",
       "2                     0                           0                       0   \n",
       "3                     0                           0                       0   \n",
       "4                     0                           0                       0   \n",
       "\n",
       "   waterfrontproximityinfluence  tidelandshoreland  lotdepthfactopr  \\\n",
       "0                             N         N                       0.0   \n",
       "1                             N         N                       0.0   \n",
       "2                             N         N                       0.0   \n",
       "3                             N         N                       0.0   \n",
       "4                             N         N                       0.0   \n",
       "\n",
       "   trafficnoise  airportnoise  powerlines  othernuisances  \n",
       "0             0             0           0      N           \n",
       "1             0             1           0      N           \n",
       "2             0             1           0      N           \n",
       "3             0             1           0      N           \n",
       "4             0             0           0      N           \n",
       "\n",
       "[5 rows x 64 columns]"
      ]
     },
     "execution_count": 2,
     "metadata": {},
     "output_type": "execute_result"
    }
   ],
   "source": [
    "#create the initial dataframe\n",
    "df = pd.read_csv('../asp_original', index_col = 0)\n",
    "df.head()"
   ]
  },
  {
   "cell_type": "markdown",
   "metadata": {},
   "source": [
    "We are really only interested in the sale price of homes and the specific nuisance reported, so let's make a dataframe with only those variables"
   ]
  },
  {
   "cell_type": "code",
   "execution_count": 3,
   "metadata": {},
   "outputs": [
    {
     "data": {
      "text/html": [
       "<div>\n",
       "<style scoped>\n",
       "    .dataframe tbody tr th:only-of-type {\n",
       "        vertical-align: middle;\n",
       "    }\n",
       "\n",
       "    .dataframe tbody tr th {\n",
       "        vertical-align: top;\n",
       "    }\n",
       "\n",
       "    .dataframe thead th {\n",
       "        text-align: right;\n",
       "    }\n",
       "</style>\n",
       "<table border=\"1\" class=\"dataframe\">\n",
       "  <thead>\n",
       "    <tr style=\"text-align: right;\">\n",
       "      <th></th>\n",
       "      <th>saleprice</th>\n",
       "      <th>airportnoise</th>\n",
       "      <th>trafficnoise</th>\n",
       "      <th>powerlines</th>\n",
       "      <th>othernuisances</th>\n",
       "    </tr>\n",
       "  </thead>\n",
       "  <tbody>\n",
       "    <tr>\n",
       "      <td>0</td>\n",
       "      <td>1065000.0</td>\n",
       "      <td>0</td>\n",
       "      <td>0</td>\n",
       "      <td>0</td>\n",
       "      <td>N</td>\n",
       "    </tr>\n",
       "    <tr>\n",
       "      <td>1</td>\n",
       "      <td>890000.0</td>\n",
       "      <td>1</td>\n",
       "      <td>0</td>\n",
       "      <td>0</td>\n",
       "      <td>N</td>\n",
       "    </tr>\n",
       "    <tr>\n",
       "      <td>2</td>\n",
       "      <td>640000.0</td>\n",
       "      <td>1</td>\n",
       "      <td>0</td>\n",
       "      <td>0</td>\n",
       "      <td>N</td>\n",
       "    </tr>\n",
       "    <tr>\n",
       "      <td>3</td>\n",
       "      <td>645000.0</td>\n",
       "      <td>1</td>\n",
       "      <td>0</td>\n",
       "      <td>0</td>\n",
       "      <td>N</td>\n",
       "    </tr>\n",
       "    <tr>\n",
       "      <td>4</td>\n",
       "      <td>907000.0</td>\n",
       "      <td>0</td>\n",
       "      <td>0</td>\n",
       "      <td>0</td>\n",
       "      <td>N</td>\n",
       "    </tr>\n",
       "  </tbody>\n",
       "</table>\n",
       "</div>"
      ],
      "text/plain": [
       "   saleprice  airportnoise  trafficnoise  powerlines othernuisances\n",
       "0  1065000.0             0             0           0     N         \n",
       "1   890000.0             1             0           0     N         \n",
       "2   640000.0             1             0           0     N         \n",
       "3   645000.0             1             0           0     N         \n",
       "4   907000.0             0             0           0     N         "
      ]
     },
     "execution_count": 3,
     "metadata": {},
     "output_type": "execute_result"
    }
   ],
   "source": [
    "nuisance = df[['saleprice','airportnoise','trafficnoise','powerlines','othernuisances']]\n",
    "nuisance.head()"
   ]
  },
  {
   "cell_type": "code",
   "execution_count": 4,
   "metadata": {},
   "outputs": [
    {
     "data": {
      "text/plain": [
       "(18182, 5)"
      ]
     },
     "execution_count": 4,
     "metadata": {},
     "output_type": "execute_result"
    }
   ],
   "source": [
    "nuisance.shape"
   ]
  },
  {
   "cell_type": "code",
   "execution_count": 5,
   "metadata": {},
   "outputs": [
    {
     "data": {
      "text/plain": [
       "0    15679\n",
       "1     1516\n",
       "2      866\n",
       "3      121\n",
       "Name: airportnoise, dtype: int64"
      ]
     },
     "execution_count": 5,
     "metadata": {},
     "output_type": "execute_result"
    }
   ],
   "source": [
    "nuisance.airportnoise.value_counts()"
   ]
  },
  {
   "cell_type": "markdown",
   "metadata": {},
   "source": [
    "there is no lookup table for the airport noise feature.  Will assume that any value other than 0 indicates airport noise is present"
   ]
  },
  {
   "cell_type": "code",
   "execution_count": 6,
   "metadata": {},
   "outputs": [
    {
     "data": {
      "text/plain": [
       "0     18155\n",
       "2         8\n",
       "1         7\n",
       "3         5\n",
       "95        1\n",
       "94        1\n",
       "89        1\n",
       "5         1\n",
       "96        1\n",
       "80        1\n",
       "64        1\n",
       "Name: trafficnoise, dtype: int64"
      ]
     },
     "execution_count": 6,
     "metadata": {},
     "output_type": "execute_result"
    }
   ],
   "source": [
    "nuisance.trafficnoise.value_counts()"
   ]
  },
  {
   "cell_type": "markdown",
   "metadata": {},
   "source": [
    "like airport noise, there is no lookup table for the values.  Will assume that any value other than 0 indicates airport noise is present"
   ]
  },
  {
   "cell_type": "code",
   "execution_count": 7,
   "metadata": {},
   "outputs": [
    {
     "data": {
      "text/plain": [
       "0    18182\n",
       "Name: powerlines, dtype: int64"
      ]
     },
     "execution_count": 7,
     "metadata": {},
     "output_type": "execute_result"
    }
   ],
   "source": [
    "nuisance.powerlines.value_counts()"
   ]
  },
  {
   "cell_type": "code",
   "execution_count": 8,
   "metadata": {},
   "outputs": [
    {
     "data": {
      "text/plain": [
       "N             17976\n",
       "Y               206\n",
       "Name: othernuisances, dtype: int64"
      ]
     },
     "execution_count": 8,
     "metadata": {},
     "output_type": "execute_result"
    }
   ],
   "source": [
    "nuisance.othernuisances.value_counts()"
   ]
  },
  {
   "cell_type": "markdown",
   "metadata": {},
   "source": [
    "it looks like most nuisances reported involve airport noise.  No properties in our data set have any powerline nuisance reported and very few report traffic noise or other.  "
   ]
  },
  {
   "cell_type": "code",
   "execution_count": 9,
   "metadata": {},
   "outputs": [
    {
     "data": {
      "text/html": [
       "<div>\n",
       "<style scoped>\n",
       "    .dataframe tbody tr th:only-of-type {\n",
       "        vertical-align: middle;\n",
       "    }\n",
       "\n",
       "    .dataframe tbody tr th {\n",
       "        vertical-align: top;\n",
       "    }\n",
       "\n",
       "    .dataframe thead th {\n",
       "        text-align: right;\n",
       "    }\n",
       "</style>\n",
       "<table border=\"1\" class=\"dataframe\">\n",
       "  <thead>\n",
       "    <tr style=\"text-align: right;\">\n",
       "      <th></th>\n",
       "      <th>saleprice</th>\n",
       "      <th>airportnoise</th>\n",
       "      <th>trafficnoise</th>\n",
       "    </tr>\n",
       "  </thead>\n",
       "  <tbody>\n",
       "    <tr>\n",
       "      <td>saleprice</td>\n",
       "      <td>1.000000</td>\n",
       "      <td>0.005926</td>\n",
       "      <td>0.043391</td>\n",
       "    </tr>\n",
       "    <tr>\n",
       "      <td>airportnoise</td>\n",
       "      <td>0.005926</td>\n",
       "      <td>1.000000</td>\n",
       "      <td>-0.006557</td>\n",
       "    </tr>\n",
       "    <tr>\n",
       "      <td>trafficnoise</td>\n",
       "      <td>0.043391</td>\n",
       "      <td>-0.006557</td>\n",
       "      <td>1.000000</td>\n",
       "    </tr>\n",
       "  </tbody>\n",
       "</table>\n",
       "</div>"
      ],
      "text/plain": [
       "              saleprice  airportnoise  trafficnoise\n",
       "saleprice      1.000000      0.005926      0.043391\n",
       "airportnoise   0.005926      1.000000     -0.006557\n",
       "trafficnoise   0.043391     -0.006557      1.000000"
      ]
     },
     "execution_count": 9,
     "metadata": {},
     "output_type": "execute_result"
    }
   ],
   "source": [
    "nuisance[['saleprice','airportnoise','trafficnoise']].corr()"
   ]
  },
  {
   "cell_type": "code",
   "execution_count": 10,
   "metadata": {},
   "outputs": [
    {
     "data": {
      "image/png": "[encoded data removed]",
      "text/plain": [
       "<Figure size 3600x720 with 2 Axes>"
      ]
     },
     "metadata": {
      "needs_background": "light"
     },
     "output_type": "display_data"
    }
   ],
   "source": [
    "mean = nuisance.saleprice.groupby(nuisance['airportnoise']).mean()\n",
    "airport = nuisance.airportnoise\n",
    "\n",
    "fig, ax = plt.subplots(1,2, figsize=(50,10))\n",
    "sns.countplot(airport, ax = ax[0])\n",
    "sns.barplot(airport,mean, ax = ax[1]);"
   ]
  },
  {
   "cell_type": "code",
   "execution_count": 11,
   "metadata": {},
   "outputs": [
    {
     "data": {
      "text/plain": [
       "airportnoise\n",
       "0    732090.746668\n",
       "1    749544.488127\n",
       "2    726925.175520\n",
       "3    756889.644628\n",
       "Name: saleprice, dtype: float64"
      ]
     },
     "execution_count": 11,
     "metadata": {},
     "output_type": "execute_result"
    }
   ],
   "source": [
    "nuisance.saleprice.groupby(nuisance['airportnoise']).mean()"
   ]
  },
  {
   "cell_type": "markdown",
   "metadata": {},
   "source": [
    "Just looking at the mean sale price, there doesn't appear to be a difference.  "
   ]
  },
  {
   "cell_type": "markdown",
   "metadata": {},
   "source": [
    "there are so few home sales that report traffic noise, it might be best to leave out of this analysis.  Likewise, there are no reported power nuisances and the other category is very small as well.  We will look specifically at airport noise nuisance properties and compare these to homes without a reported airport noise nuisance."
   ]
  },
  {
   "cell_type": "code",
   "execution_count": 12,
   "metadata": {},
   "outputs": [
    {
     "data": {
      "text/html": [
       "<div>\n",
       "<style scoped>\n",
       "    .dataframe tbody tr th:only-of-type {\n",
       "        vertical-align: middle;\n",
       "    }\n",
       "\n",
       "    .dataframe tbody tr th {\n",
       "        vertical-align: top;\n",
       "    }\n",
       "\n",
       "    .dataframe thead th {\n",
       "        text-align: right;\n",
       "    }\n",
       "</style>\n",
       "<table border=\"1\" class=\"dataframe\">\n",
       "  <thead>\n",
       "    <tr style=\"text-align: right;\">\n",
       "      <th></th>\n",
       "      <th>saleprice</th>\n",
       "      <th>airportnoise</th>\n",
       "    </tr>\n",
       "  </thead>\n",
       "  <tbody>\n",
       "    <tr>\n",
       "      <td>0</td>\n",
       "      <td>1065000.0</td>\n",
       "      <td>0</td>\n",
       "    </tr>\n",
       "    <tr>\n",
       "      <td>1</td>\n",
       "      <td>890000.0</td>\n",
       "      <td>1</td>\n",
       "    </tr>\n",
       "    <tr>\n",
       "      <td>2</td>\n",
       "      <td>640000.0</td>\n",
       "      <td>1</td>\n",
       "    </tr>\n",
       "    <tr>\n",
       "      <td>3</td>\n",
       "      <td>645000.0</td>\n",
       "      <td>1</td>\n",
       "    </tr>\n",
       "    <tr>\n",
       "      <td>4</td>\n",
       "      <td>907000.0</td>\n",
       "      <td>0</td>\n",
       "    </tr>\n",
       "  </tbody>\n",
       "</table>\n",
       "</div>"
      ],
      "text/plain": [
       "   saleprice  airportnoise\n",
       "0  1065000.0             0\n",
       "1   890000.0             1\n",
       "2   640000.0             1\n",
       "3   645000.0             1\n",
       "4   907000.0             0"
      ]
     },
     "execution_count": 12,
     "metadata": {},
     "output_type": "execute_result"
    }
   ],
   "source": [
    "#create dataframe with sale price and airport noise\n",
    "air = nuisance[['saleprice','airportnoise']]\n",
    "air.head()"
   ]
  },
  {
   "cell_type": "code",
   "execution_count": 13,
   "metadata": {},
   "outputs": [
    {
     "name": "stdout",
     "output_type": "stream",
     "text": [
      "(2503, 2)\n",
      "(15679, 2)\n"
     ]
    }
   ],
   "source": [
    "air_noise = (1,2,3)\n",
    "\n",
    "noise = air[air.airportnoise.isin(air_noise)]\n",
    "no = air[(air['airportnoise'] == 0)]\n",
    "\n",
    "print(noise.shape)\n",
    "print(no.shape)"
   ]
  },
  {
   "cell_type": "markdown",
   "metadata": {},
   "source": [
    "so, is there a difference in mean sale price for homes with airport noise reported and without?  Let's check with a t-test\n",
    "NULL - homes with reported airport noise have a mean sale price that is equal to or greater than homes without airport noise\n",
    "Atl - homes with reported airport noise have a lower mean sale price than homes without airport noise.\n",
    "\n",
    "We will use alpha of .05 and we are only concerned about the low-end of the distribution (one-way)"
   ]
  },
  {
   "cell_type": "code",
   "execution_count": 14,
   "metadata": {},
   "outputs": [
    {
     "name": "stdout",
     "output_type": "stream",
     "text": [
      "critical_t_stat_below: -1.644937446933295\n",
      "test t-stat: -1.2295275546945568\n",
      "pvalue: 0.2189618236822574\n"
     ]
    }
   ],
   "source": [
    "from scipy.stats import ttest_ind\n",
    "\n",
    "noise = noise.saleprice\n",
    "no = no.saleprice\n",
    "#df is equal to n of sample 1-1 + n of sample 2 -1\n",
    "df = (len(noise)-1) + (len(no)-1)\n",
    "# the alpha value we are using for this test is .05\n",
    "critical_tstat_below = stats.t.ppf(.05,df)\n",
    "print(f'critical_t_stat_below: {critical_tstat_below}')\n",
    "\n",
    "ttest_result = ttest_ind(no,noise, equal_var=False)\n",
    "print(f'test t-stat: {ttest_result.statistic}')\n",
    "print(f'pvalue: {ttest_result.pvalue}')"
   ]
  },
  {
   "cell_type": "markdown",
   "metadata": {},
   "source": [
    "our t-test shows that there is not enough evidence to reject the NULL hypothesis.  \n",
    "\n",
    "let's visualize what we tested."
   ]
  },
  {
   "cell_type": "code",
   "execution_count": 16,
   "metadata": {},
   "outputs": [
    {
     "data": {
      "image/png": "[encoded data removed]",
      "text/plain": [
       "<Figure size 1080x576 with 1 Axes>"
      ]
     },
     "metadata": {
      "needs_background": "light"
     },
     "output_type": "display_data"
    }
   ],
   "source": [
    "ttest_result = ttest_ind(no,noise, equal_var=False)\n",
    "\n",
    "xs = np.linspace(-4, 4, 200)\n",
    "# use stats.t.pdf to get values on the probability density function for the t-distribution\n",
    "# the second argument is the degrees of freedom\n",
    "ys = stats.t.pdf(xs, len(noise)+len(no)-2, 0, 1)\n",
    "t_crit = np.round(stats.t.ppf(1 - 0.95, df=len(noise)+len(no)-2),3)\n",
    "\n",
    "fig = plt.figure(figsize=(15,8))\n",
    "ax = fig.gca()\n",
    "\n",
    "# plot the lines using matplotlib's plot function:\n",
    "ax.plot(xs, ys, linewidth=3, color='darkblue', alpha=.75)\n",
    "\n",
    "\n",
    "ax.axvline(t_crit,color='green',linestyle='--',lw=4,label='critical t-value', alpha=.5)\n",
    "ax.axvline(ttest_result[0],color='red',linestyle='--',lw=4,label='test t-stat', alpha=.5)\n",
    "ax.legend()\n",
    "ax.fill_betweenx(ys,xs,t_crit,where= xs < t_crit)\n",
    "plt.show()"
   ]
  },
  {
   "cell_type": "code",
   "execution_count": 25,
   "metadata": {},
   "outputs": [],
   "source": [
    "air_noise = (1,2,3)\n",
    "\n",
    "noise = air[air.airportnoise.isin(air_noise)]\n",
    "no = air[(air['airportnoise'] == 0)]"
   ]
  },
  {
   "cell_type": "code",
   "execution_count": 27,
   "metadata": {},
   "outputs": [
    {
     "name": "stdout",
     "output_type": "stream",
     "text": [
      "0.02707671496672959\n"
     ]
    }
   ],
   "source": [
    "effect_size = Cohen_d(noise['saleprice'], no['saleprice'])\n",
    "print(effect_size)"
   ]
  },
  {
   "cell_type": "markdown",
   "metadata": {},
   "source": [
    "the value of Cohen's D is very small (.03), suggesting that there is little effect on mean sale price"
   ]
  },
  {
   "cell_type": "code",
   "execution_count": 31,
   "metadata": {},
   "outputs": [
    {
     "name": "stdout",
     "output_type": "stream",
     "text": [
      "742073.6288453855\n",
      "378810.34187932767\n",
      "732090.7466675171\n",
      "367047.73965272465\n"
     ]
    }
   ],
   "source": [
    "print(noise.saleprice.mean())\n",
    "print(noise.saleprice.std())\n",
    "print(no.saleprice.mean())\n",
    "print(no.saleprice.std())"
   ]
  },
  {
   "cell_type": "markdown",
   "metadata": {},
   "source": [
    "Using a calculator online, power = ~23%  https://clincalc.com/Stats/Power.aspx\n",
    "using a calculator online, https://clincalc.com/Stats/SampleSize.aspx\n",
    "for our results to be meaningful, we would need a much larger sample size == our noise group would need 13107 homes and our no noise group would need 82050 homes for a total of 95157 home sales.  \n",
    "Mean, group 1\t742073\n",
    "Mean, group 2\t732090\n",
    "Alpha\t0.05\n",
    "Beta\t0.2\n",
    "Power\t0.8\n"
   ]
  },
  {
   "cell_type": "code",
   "execution_count": null,
   "metadata": {},
   "outputs": [],
   "source": []
  }
 ],
 "metadata": {
  "kernelspec": {
   "display_name": "learn-env",
   "language": "python",
   "name": "learn-env"
  },
  "language_info": {
   "codemirror_mode": {
    "name": "ipython",
    "version": 3
   },
   "file_extension": ".py",
   "mimetype": "text/x-python",
   "name": "python",
   "nbconvert_exporter": "python",
   "pygments_lexer": "ipython3",
   "version": "3.6.9"
  }
 },
 "nbformat": 4,
 "nbformat_minor": 4
}
