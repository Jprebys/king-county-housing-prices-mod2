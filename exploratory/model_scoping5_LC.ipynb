{
 "cells": [
  {
   "cell_type": "markdown",
   "metadata": {},
   "source": [
    "# Model Scoping"
   ]
  },
  {
   "cell_type": "markdown",
   "metadata": {},
   "source": [
    "## Claim:\n",
    "\n",
    "In this analysis, I will be investigating the claim:\n",
    "\n",
    "> *The cost per square foot is lower in duplexes than in single-family homes*"
   ]
  },
  {
   "cell_type": "markdown",
   "metadata": {},
   "source": [
    "## Audience:\n",
    "\n",
    "Our audience for this investigate is first-time home buyers.  We hope to give insight into what drives sales prices for first-time home buyers.\n",
    "\n",
    "## Definitions:\n",
    "\n",
    "For this analysis, we define the following as:\n",
    "\n",
    "- Cost per square foot:  As defined by NAR and common practice amongst the real estate community, cost per square foot is defined as the sales price divided by the total living space square footage.  It does not include unfinished/finished basements, garages, porches etc.  For this analysis we will use the value in `SqFtTotLiving` from the Residential Building table to calculate the square footage and the `SalePrice` from the Real Property Sales table for the sale price. \n",
    "- Duplex:  Is defined as `Property Type` \"Multiple family residence (Residential, 2-4 units)\" (item 12 in lookup table).  `NbrLivingUnits` equal to '2' from the Residential building table.  (Zoning may also need to be LR1, LR2, LR3 or R-4 from `CurrentZoning` column in Parcel table).  \n",
    "- Single-family home:  Is definited as `Property Type` \"Household, single family units\" (item 11 in lookup table).  `NbrLivingUnits` equal to '1'.  (Zoning may also need to be SF 5000, 7200, 9600).\n",
    "\n",
    "## Feature Selection:\n",
    "\n",
    "To investigate this claim, we will need the following features from the following tables:\n",
    "- Sales Price of house:  `SalePrice` from rps table\n",
    "- Living space square footage:  `SqFtTotLiving` from resbuild table\n",
    "- Property Type:  `PropertyType` from rps table\n",
    "- Number of units:  `NbrLivingUnits` from resbuild table\n",
    "- Zoning codes:  `CurrentZoning` from parcel table"
   ]
  },
  {
   "cell_type": "markdown",
   "metadata": {},
   "source": [
    "## The Process:\n",
    "\n",
    "- First, I will define 2 data sets:  1 for duplexes and 1 for single family homes\n",
    "- I will create new columns for each data set containing the price per square foot for each entry\n",
    "- I will then create histograms/boxplots for each to get a feel for outliers for each group \n",
    "- Then I'll determine which outliers I can safely drop \n",
    "- I will generate means of the price per sf for each group and then perform a hypothesis t-test to test whether the mean cost per sf is lower for duplex's than single family units.  \n",
    "- Then I'll create a model for both of the groups or just one of the groups?  **ask about this**"
   ]
  },
  {
   "cell_type": "markdown",
   "metadata": {},
   "source": [
    "## Import data:"
   ]
  },
  {
   "cell_type": "code",
   "execution_count": 119,
   "metadata": {},
   "outputs": [],
   "source": [
    "import pandas as pd\n",
    "import matplotlib.pyplot as plt\n",
    "%matplotlib inline \n",
    "plt.style.use('seaborn')\n",
    "# from .src.data_cleaning import data_cleaning as dc\n",
    "\n",
    "## figure out how to import and then I can delete function definitions here"
   ]
  },
  {
   "cell_type": "code",
   "execution_count": 10,
   "metadata": {
    "jupyter": {
     "source_hidden": true
    }
   },
   "outputs": [],
   "source": [
    "def rps_2019_df():\n",
    "    # load data\n",
    "    rps = pd.read_csv(\"../data/EXTR_RPSale.csv\")\n",
    "    \n",
    "    # change date to datetime object\n",
    "    rps['DocumentDate'] = pd.to_datetime(rps['DocumentDate'])\n",
    "    \n",
    "    # create year column\n",
    "    rps['year'] = rps['DocumentDate'].dt.year\n",
    "    \n",
    "    # create df of just 2019 entries    \n",
    "    rps_2019 = rps[rps['year'] == 2019]\n",
    "    \n",
    "    # drop useless columns\n",
    "    cols_to_drop = ['Volume', 'Page', 'PlatNbr', 'PlatType', \n",
    "                'PlatLot', 'PlatBlock', 'SellerName', 'BuyerName', 'year', \n",
    "                    'DocumentDate', 'RecordingNbr', 'AFForestLand', 'AFCurrentUseLand', \n",
    "                    'AFNonProfitUse', 'AFHistoricProperty', 'SaleReason', 'PropertyClass', 'SaleWarning']\n",
    "    \n",
    "    rps_2019.drop(columns = cols_to_drop, inplace = True)\n",
    "    \n",
    "        \n",
    "    return rps_2019"
   ]
  },
  {
   "cell_type": "markdown",
   "metadata": {},
   "source": [
    "#### Real Property Sales Table:"
   ]
  },
  {
   "cell_type": "code",
   "execution_count": 44,
   "metadata": {},
   "outputs": [
    {
     "name": "stderr",
     "output_type": "stream",
     "text": [
      "/opt/anaconda3/envs/oy-env/lib/python3.8/site-packages/IPython/core/interactiveshell.py:3254: DtypeWarning: Columns (1,2) have mixed types.Specify dtype option on import or set low_memory=False.\n",
      "  if (await self.run_code(code, result,  async_=asy)):\n",
      "/opt/anaconda3/envs/oy-env/lib/python3.8/site-packages/pandas/core/frame.py:3990: SettingWithCopyWarning: \n",
      "A value is trying to be set on a copy of a slice from a DataFrame\n",
      "\n",
      "See the caveats in the documentation: https://pandas.pydata.org/pandas-docs/stable/user_guide/indexing.html#returning-a-view-versus-a-copy\n",
      "  return super().drop(\n"
     ]
    }
   ],
   "source": [
    "rps2019 = rps_2019_df()"
   ]
  },
  {
   "cell_type": "code",
   "execution_count": 45,
   "metadata": {},
   "outputs": [
    {
     "data": {
      "text/html": [
       "<div>\n",
       "<style scoped>\n",
       "    .dataframe tbody tr th:only-of-type {\n",
       "        vertical-align: middle;\n",
       "    }\n",
       "\n",
       "    .dataframe tbody tr th {\n",
       "        vertical-align: top;\n",
       "    }\n",
       "\n",
       "    .dataframe thead th {\n",
       "        text-align: right;\n",
       "    }\n",
       "</style>\n",
       "<table border=\"1\" class=\"dataframe\">\n",
       "  <thead>\n",
       "    <tr style=\"text-align: right;\">\n",
       "      <th></th>\n",
       "      <th>ExciseTaxNbr</th>\n",
       "      <th>Major</th>\n",
       "      <th>Minor</th>\n",
       "      <th>SalePrice</th>\n",
       "      <th>PropertyType</th>\n",
       "      <th>PrincipalUse</th>\n",
       "      <th>SaleInstrument</th>\n",
       "    </tr>\n",
       "  </thead>\n",
       "  <tbody>\n",
       "    <tr>\n",
       "      <th>4</th>\n",
       "      <td>3027422</td>\n",
       "      <td>213043</td>\n",
       "      <td>120</td>\n",
       "      <td>560000</td>\n",
       "      <td>11</td>\n",
       "      <td>6</td>\n",
       "      <td>3</td>\n",
       "    </tr>\n",
       "    <tr>\n",
       "      <th>118</th>\n",
       "      <td>2999169</td>\n",
       "      <td>919715</td>\n",
       "      <td>200</td>\n",
       "      <td>192000</td>\n",
       "      <td>3</td>\n",
       "      <td>2</td>\n",
       "      <td>3</td>\n",
       "    </tr>\n",
       "    <tr>\n",
       "      <th>144</th>\n",
       "      <td>3000673</td>\n",
       "      <td>894444</td>\n",
       "      <td>200</td>\n",
       "      <td>185000</td>\n",
       "      <td>3</td>\n",
       "      <td>2</td>\n",
       "      <td>3</td>\n",
       "    </tr>\n",
       "    <tr>\n",
       "      <th>164</th>\n",
       "      <td>3002257</td>\n",
       "      <td>940652</td>\n",
       "      <td>630</td>\n",
       "      <td>435000</td>\n",
       "      <td>11</td>\n",
       "      <td>6</td>\n",
       "      <td>3</td>\n",
       "    </tr>\n",
       "    <tr>\n",
       "      <th>445</th>\n",
       "      <td>2980836</td>\n",
       "      <td>937630</td>\n",
       "      <td>695</td>\n",
       "      <td>550000</td>\n",
       "      <td>3</td>\n",
       "      <td>6</td>\n",
       "      <td>3</td>\n",
       "    </tr>\n",
       "  </tbody>\n",
       "</table>\n",
       "</div>"
      ],
      "text/plain": [
       "     ExciseTaxNbr   Major Minor  SalePrice  PropertyType  PrincipalUse  \\\n",
       "4         3027422  213043   120     560000            11             6   \n",
       "118       2999169  919715   200     192000             3             2   \n",
       "144       3000673  894444   200     185000             3             2   \n",
       "164       3002257  940652   630     435000            11             6   \n",
       "445       2980836  937630   695     550000             3             6   \n",
       "\n",
       "     SaleInstrument  \n",
       "4                 3  \n",
       "118               3  \n",
       "144               3  \n",
       "164               3  \n",
       "445               3  "
      ]
     },
     "execution_count": 45,
     "metadata": {},
     "output_type": "execute_result"
    }
   ],
   "source": [
    "rps2019.head()"
   ]
  },
  {
   "cell_type": "code",
   "execution_count": 46,
   "metadata": {},
   "outputs": [],
   "source": [
    "rps2019['Major'] = rps2019['Major'].astype(str)"
   ]
  },
  {
   "cell_type": "code",
   "execution_count": 47,
   "metadata": {},
   "outputs": [],
   "source": [
    "rps2019['Minor'] = rps2019['Minor'].astype(str)"
   ]
  },
  {
   "cell_type": "markdown",
   "metadata": {},
   "source": [
    "#### Add Padding:"
   ]
  },
  {
   "cell_type": "code",
   "execution_count": 48,
   "metadata": {},
   "outputs": [],
   "source": [
    "# pad major/minor\n",
    "def major_pad(row):\n",
    "    \"\"\"\n",
    "    This function takes an index item and pads it with 0's at the beginning\n",
    "    to make it's total length equal to the pad_to value. \n",
    "    \n",
    "    arguments:\n",
    "    row (str):  item to add 0's infront of\n",
    "    pad_to (int):  total length of padded item\n",
    "    \"\"\"\n",
    "    num_zeros = 6 - len(row)\n",
    "    return num_zeros * '0' + row"
   ]
  },
  {
   "cell_type": "code",
   "execution_count": 49,
   "metadata": {},
   "outputs": [],
   "source": [
    "def minor_pad(row):\n",
    "    \"\"\"\n",
    "    This function takes an index item and pads it with 0's at the beginning\n",
    "    to make it's total length equal to the pad_to value. \n",
    "    \n",
    "    arguments:\n",
    "    row (str):  item to add 0's infront of\n",
    "    pad_to (int):  total length of padded item\n",
    "    \"\"\"\n",
    "    num_zeros = 4 - len(row)\n",
    "    return num_zeros * '0' + row"
   ]
  },
  {
   "cell_type": "code",
   "execution_count": 50,
   "metadata": {},
   "outputs": [],
   "source": [
    "rps2019['Major'] = rps2019['Major'].apply(major_pad)"
   ]
  },
  {
   "cell_type": "code",
   "execution_count": 51,
   "metadata": {},
   "outputs": [],
   "source": [
    "rps2019['Minor'] = rps2019['Minor'].apply(minor_pad)"
   ]
  },
  {
   "cell_type": "code",
   "execution_count": 52,
   "metadata": {},
   "outputs": [],
   "source": [
    "rps2019['maj_min'] = rps2019['Major'] + rps2019['Minor']"
   ]
  },
  {
   "cell_type": "code",
   "execution_count": 71,
   "metadata": {},
   "outputs": [],
   "source": [
    "rps2019.drop(labels = ['Major', 'Minor'], axis = 1, inplace = True)"
   ]
  },
  {
   "cell_type": "code",
   "execution_count": 72,
   "metadata": {},
   "outputs": [
    {
     "data": {
      "text/html": [
       "<div>\n",
       "<style scoped>\n",
       "    .dataframe tbody tr th:only-of-type {\n",
       "        vertical-align: middle;\n",
       "    }\n",
       "\n",
       "    .dataframe tbody tr th {\n",
       "        vertical-align: top;\n",
       "    }\n",
       "\n",
       "    .dataframe thead th {\n",
       "        text-align: right;\n",
       "    }\n",
       "</style>\n",
       "<table border=\"1\" class=\"dataframe\">\n",
       "  <thead>\n",
       "    <tr style=\"text-align: right;\">\n",
       "      <th></th>\n",
       "      <th>ExciseTaxNbr</th>\n",
       "      <th>SalePrice</th>\n",
       "      <th>PropertyType</th>\n",
       "      <th>PrincipalUse</th>\n",
       "      <th>SaleInstrument</th>\n",
       "      <th>maj_min</th>\n",
       "    </tr>\n",
       "  </thead>\n",
       "  <tbody>\n",
       "    <tr>\n",
       "      <th>4</th>\n",
       "      <td>3027422</td>\n",
       "      <td>560000</td>\n",
       "      <td>11</td>\n",
       "      <td>6</td>\n",
       "      <td>3</td>\n",
       "      <td>2130430120</td>\n",
       "    </tr>\n",
       "    <tr>\n",
       "      <th>118</th>\n",
       "      <td>2999169</td>\n",
       "      <td>192000</td>\n",
       "      <td>3</td>\n",
       "      <td>2</td>\n",
       "      <td>3</td>\n",
       "      <td>9197150200</td>\n",
       "    </tr>\n",
       "    <tr>\n",
       "      <th>144</th>\n",
       "      <td>3000673</td>\n",
       "      <td>185000</td>\n",
       "      <td>3</td>\n",
       "      <td>2</td>\n",
       "      <td>3</td>\n",
       "      <td>8944440200</td>\n",
       "    </tr>\n",
       "    <tr>\n",
       "      <th>164</th>\n",
       "      <td>3002257</td>\n",
       "      <td>435000</td>\n",
       "      <td>11</td>\n",
       "      <td>6</td>\n",
       "      <td>3</td>\n",
       "      <td>9406520630</td>\n",
       "    </tr>\n",
       "    <tr>\n",
       "      <th>445</th>\n",
       "      <td>2980836</td>\n",
       "      <td>550000</td>\n",
       "      <td>3</td>\n",
       "      <td>6</td>\n",
       "      <td>3</td>\n",
       "      <td>9376300695</td>\n",
       "    </tr>\n",
       "  </tbody>\n",
       "</table>\n",
       "</div>"
      ],
      "text/plain": [
       "     ExciseTaxNbr  SalePrice  PropertyType  PrincipalUse  SaleInstrument  \\\n",
       "4         3027422     560000            11             6               3   \n",
       "118       2999169     192000             3             2               3   \n",
       "144       3000673     185000             3             2               3   \n",
       "164       3002257     435000            11             6               3   \n",
       "445       2980836     550000             3             6               3   \n",
       "\n",
       "        maj_min  \n",
       "4    2130430120  \n",
       "118  9197150200  \n",
       "144  8944440200  \n",
       "164  9406520630  \n",
       "445  9376300695  "
      ]
     },
     "execution_count": 72,
     "metadata": {},
     "output_type": "execute_result"
    }
   ],
   "source": [
    "rps2019.head()"
   ]
  },
  {
   "cell_type": "code",
   "execution_count": 83,
   "metadata": {},
   "outputs": [
    {
     "name": "stdout",
     "output_type": "stream",
     "text": [
      "<class 'pandas.core.frame.DataFrame'>\n",
      "Int64Index: 61363 entries, 4 to 2089082\n",
      "Data columns (total 6 columns):\n",
      " #   Column          Non-Null Count  Dtype \n",
      "---  ------          --------------  ----- \n",
      " 0   ExciseTaxNbr    61363 non-null  int64 \n",
      " 1   SalePrice       61363 non-null  int64 \n",
      " 2   PropertyType    61363 non-null  int64 \n",
      " 3   PrincipalUse    61363 non-null  int64 \n",
      " 4   SaleInstrument  61363 non-null  int64 \n",
      " 5   maj_min         61363 non-null  object\n",
      "dtypes: int64(5), object(1)\n",
      "memory usage: 3.3+ MB\n"
     ]
    }
   ],
   "source": [
    "rps2019.info()"
   ]
  },
  {
   "cell_type": "markdown",
   "metadata": {},
   "source": [
    "#### Parcel Table:"
   ]
  },
  {
   "cell_type": "code",
   "execution_count": 34,
   "metadata": {},
   "outputs": [
    {
     "data": {
      "text/html": [
       "<div>\n",
       "<style scoped>\n",
       "    .dataframe tbody tr th:only-of-type {\n",
       "        vertical-align: middle;\n",
       "    }\n",
       "\n",
       "    .dataframe tbody tr th {\n",
       "        vertical-align: top;\n",
       "    }\n",
       "\n",
       "    .dataframe thead th {\n",
       "        text-align: right;\n",
       "    }\n",
       "</style>\n",
       "<table border=\"1\" class=\"dataframe\">\n",
       "  <thead>\n",
       "    <tr style=\"text-align: right;\">\n",
       "      <th></th>\n",
       "      <th>Major</th>\n",
       "      <th>Minor</th>\n",
       "      <th>CurrentZoning</th>\n",
       "    </tr>\n",
       "  </thead>\n",
       "  <tbody>\n",
       "    <tr>\n",
       "      <th>0</th>\n",
       "      <td>916110</td>\n",
       "      <td>346</td>\n",
       "      <td>SF 5000</td>\n",
       "    </tr>\n",
       "    <tr>\n",
       "      <th>1</th>\n",
       "      <td>132606</td>\n",
       "      <td>9228</td>\n",
       "      <td>R4.5</td>\n",
       "    </tr>\n",
       "    <tr>\n",
       "      <th>2</th>\n",
       "      <td>329870</td>\n",
       "      <td>12</td>\n",
       "      <td>SF 5000</td>\n",
       "    </tr>\n",
       "    <tr>\n",
       "      <th>3</th>\n",
       "      <td>884530</td>\n",
       "      <td>50</td>\n",
       "      <td>SF 5000</td>\n",
       "    </tr>\n",
       "    <tr>\n",
       "      <th>4</th>\n",
       "      <td>261730</td>\n",
       "      <td>220</td>\n",
       "      <td>RA5</td>\n",
       "    </tr>\n",
       "  </tbody>\n",
       "</table>\n",
       "</div>"
      ],
      "text/plain": [
       "    Major  Minor CurrentZoning\n",
       "0  916110    346       SF 5000\n",
       "1  132606   9228          R4.5\n",
       "2  329870     12       SF 5000\n",
       "3  884530     50       SF 5000\n",
       "4  261730    220           RA5"
      ]
     },
     "execution_count": 34,
     "metadata": {},
     "output_type": "execute_result"
    }
   ],
   "source": [
    "# parcel df create:\n",
    "parcel = pd.read_csv(\"../data/EXTR_Parcel.csv\", usecols = ['Major', 'Minor', 'CurrentZoning'], encoding = 'latin-1')\n",
    "\n",
    "parcel.head()"
   ]
  },
  {
   "cell_type": "code",
   "execution_count": 35,
   "metadata": {},
   "outputs": [],
   "source": [
    "parcel['Major'] = parcel['Major'].astype(str)"
   ]
  },
  {
   "cell_type": "code",
   "execution_count": 36,
   "metadata": {},
   "outputs": [],
   "source": [
    "parcel['Minor'] = parcel['Minor'].astype(str)"
   ]
  },
  {
   "cell_type": "markdown",
   "metadata": {},
   "source": [
    "#### Add Padding:"
   ]
  },
  {
   "cell_type": "code",
   "execution_count": 37,
   "metadata": {},
   "outputs": [],
   "source": [
    "parcel['Major'] = parcel['Major'].apply(major_pad)"
   ]
  },
  {
   "cell_type": "code",
   "execution_count": 38,
   "metadata": {},
   "outputs": [],
   "source": [
    "parcel['Minor'] = parcel['Minor'].apply(minor_pad)"
   ]
  },
  {
   "cell_type": "code",
   "execution_count": 54,
   "metadata": {},
   "outputs": [],
   "source": [
    "parcel['maj_min'] = parcel['Major'] + parcel['Minor']"
   ]
  },
  {
   "cell_type": "code",
   "execution_count": 69,
   "metadata": {},
   "outputs": [],
   "source": [
    "parcel.drop(labels = ['Major', 'Minor'], axis = 1, inplace = True)"
   ]
  },
  {
   "cell_type": "code",
   "execution_count": 70,
   "metadata": {},
   "outputs": [
    {
     "data": {
      "text/html": [
       "<div>\n",
       "<style scoped>\n",
       "    .dataframe tbody tr th:only-of-type {\n",
       "        vertical-align: middle;\n",
       "    }\n",
       "\n",
       "    .dataframe tbody tr th {\n",
       "        vertical-align: top;\n",
       "    }\n",
       "\n",
       "    .dataframe thead th {\n",
       "        text-align: right;\n",
       "    }\n",
       "</style>\n",
       "<table border=\"1\" class=\"dataframe\">\n",
       "  <thead>\n",
       "    <tr style=\"text-align: right;\">\n",
       "      <th></th>\n",
       "      <th>CurrentZoning</th>\n",
       "      <th>maj_min</th>\n",
       "    </tr>\n",
       "  </thead>\n",
       "  <tbody>\n",
       "    <tr>\n",
       "      <th>0</th>\n",
       "      <td>SF 5000</td>\n",
       "      <td>9161100346</td>\n",
       "    </tr>\n",
       "    <tr>\n",
       "      <th>1</th>\n",
       "      <td>R4.5</td>\n",
       "      <td>1326069228</td>\n",
       "    </tr>\n",
       "    <tr>\n",
       "      <th>2</th>\n",
       "      <td>SF 5000</td>\n",
       "      <td>3298700012</td>\n",
       "    </tr>\n",
       "    <tr>\n",
       "      <th>3</th>\n",
       "      <td>SF 5000</td>\n",
       "      <td>8845300050</td>\n",
       "    </tr>\n",
       "    <tr>\n",
       "      <th>4</th>\n",
       "      <td>RA5</td>\n",
       "      <td>2617300220</td>\n",
       "    </tr>\n",
       "  </tbody>\n",
       "</table>\n",
       "</div>"
      ],
      "text/plain": [
       "  CurrentZoning     maj_min\n",
       "0       SF 5000  9161100346\n",
       "1          R4.5  1326069228\n",
       "2       SF 5000  3298700012\n",
       "3       SF 5000  8845300050\n",
       "4           RA5  2617300220"
      ]
     },
     "execution_count": 70,
     "metadata": {},
     "output_type": "execute_result"
    }
   ],
   "source": [
    "parcel.head()"
   ]
  },
  {
   "cell_type": "markdown",
   "metadata": {},
   "source": [
    "#### Residential Building Table:"
   ]
  },
  {
   "cell_type": "code",
   "execution_count": 56,
   "metadata": {},
   "outputs": [
    {
     "data": {
      "text/html": [
       "<div>\n",
       "<style scoped>\n",
       "    .dataframe tbody tr th:only-of-type {\n",
       "        vertical-align: middle;\n",
       "    }\n",
       "\n",
       "    .dataframe tbody tr th {\n",
       "        vertical-align: top;\n",
       "    }\n",
       "\n",
       "    .dataframe thead th {\n",
       "        text-align: right;\n",
       "    }\n",
       "</style>\n",
       "<table border=\"1\" class=\"dataframe\">\n",
       "  <thead>\n",
       "    <tr style=\"text-align: right;\">\n",
       "      <th></th>\n",
       "      <th>Major</th>\n",
       "      <th>Minor</th>\n",
       "      <th>NbrLivingUnits</th>\n",
       "      <th>SqFtTotLiving</th>\n",
       "    </tr>\n",
       "  </thead>\n",
       "  <tbody>\n",
       "    <tr>\n",
       "      <th>0</th>\n",
       "      <td>46100</td>\n",
       "      <td>935</td>\n",
       "      <td>1</td>\n",
       "      <td>960</td>\n",
       "    </tr>\n",
       "    <tr>\n",
       "      <th>1</th>\n",
       "      <td>46100</td>\n",
       "      <td>1165</td>\n",
       "      <td>1</td>\n",
       "      <td>3790</td>\n",
       "    </tr>\n",
       "    <tr>\n",
       "      <th>2</th>\n",
       "      <td>46100</td>\n",
       "      <td>1720</td>\n",
       "      <td>1</td>\n",
       "      <td>3470</td>\n",
       "    </tr>\n",
       "    <tr>\n",
       "      <th>3</th>\n",
       "      <td>46100</td>\n",
       "      <td>1745</td>\n",
       "      <td>1</td>\n",
       "      <td>2140</td>\n",
       "    </tr>\n",
       "    <tr>\n",
       "      <th>4</th>\n",
       "      <td>46100</td>\n",
       "      <td>1930</td>\n",
       "      <td>1</td>\n",
       "      <td>2240</td>\n",
       "    </tr>\n",
       "  </tbody>\n",
       "</table>\n",
       "</div>"
      ],
      "text/plain": [
       "   Major  Minor  NbrLivingUnits  SqFtTotLiving\n",
       "0  46100    935               1            960\n",
       "1  46100   1165               1           3790\n",
       "2  46100   1720               1           3470\n",
       "3  46100   1745               1           2140\n",
       "4  46100   1930               1           2240"
      ]
     },
     "execution_count": 56,
     "metadata": {},
     "output_type": "execute_result"
    }
   ],
   "source": [
    "# real property sales df create:\n",
    "res_build = pd.read_csv(\"../data/EXTR_ResBldg.csv\", usecols = ['Major', 'Minor', \n",
    "                                                               'SqFtTotLiving', 'NbrLivingUnits'])\n",
    "\n",
    "res_build.head()"
   ]
  },
  {
   "cell_type": "code",
   "execution_count": 57,
   "metadata": {},
   "outputs": [],
   "source": [
    "res_build['Major'] = res_build['Major'].astype(str)"
   ]
  },
  {
   "cell_type": "code",
   "execution_count": 58,
   "metadata": {},
   "outputs": [],
   "source": [
    "res_build['Minor'] = res_build['Minor'].astype(str)"
   ]
  },
  {
   "cell_type": "markdown",
   "metadata": {},
   "source": [
    "#### Add Padding:"
   ]
  },
  {
   "cell_type": "code",
   "execution_count": 59,
   "metadata": {},
   "outputs": [],
   "source": [
    "res_build['Major'] = res_build['Major'].apply(major_pad)"
   ]
  },
  {
   "cell_type": "code",
   "execution_count": 60,
   "metadata": {},
   "outputs": [],
   "source": [
    "res_build['Minor'] = res_build['Minor'].apply(minor_pad)"
   ]
  },
  {
   "cell_type": "code",
   "execution_count": 61,
   "metadata": {},
   "outputs": [],
   "source": [
    "res_build['maj_min'] = res_build['Major'] + res_build['Minor']"
   ]
  },
  {
   "cell_type": "code",
   "execution_count": 67,
   "metadata": {},
   "outputs": [],
   "source": [
    "res_build.drop(labels = ['Major', 'Minor'], axis = 1, inplace = True)"
   ]
  },
  {
   "cell_type": "code",
   "execution_count": 68,
   "metadata": {},
   "outputs": [
    {
     "data": {
      "text/html": [
       "<div>\n",
       "<style scoped>\n",
       "    .dataframe tbody tr th:only-of-type {\n",
       "        vertical-align: middle;\n",
       "    }\n",
       "\n",
       "    .dataframe tbody tr th {\n",
       "        vertical-align: top;\n",
       "    }\n",
       "\n",
       "    .dataframe thead th {\n",
       "        text-align: right;\n",
       "    }\n",
       "</style>\n",
       "<table border=\"1\" class=\"dataframe\">\n",
       "  <thead>\n",
       "    <tr style=\"text-align: right;\">\n",
       "      <th></th>\n",
       "      <th>NbrLivingUnits</th>\n",
       "      <th>SqFtTotLiving</th>\n",
       "      <th>maj_min</th>\n",
       "    </tr>\n",
       "  </thead>\n",
       "  <tbody>\n",
       "    <tr>\n",
       "      <th>0</th>\n",
       "      <td>1</td>\n",
       "      <td>960</td>\n",
       "      <td>0461000935</td>\n",
       "    </tr>\n",
       "    <tr>\n",
       "      <th>1</th>\n",
       "      <td>1</td>\n",
       "      <td>3790</td>\n",
       "      <td>0461001165</td>\n",
       "    </tr>\n",
       "    <tr>\n",
       "      <th>2</th>\n",
       "      <td>1</td>\n",
       "      <td>3470</td>\n",
       "      <td>0461001720</td>\n",
       "    </tr>\n",
       "    <tr>\n",
       "      <th>3</th>\n",
       "      <td>1</td>\n",
       "      <td>2140</td>\n",
       "      <td>0461001745</td>\n",
       "    </tr>\n",
       "    <tr>\n",
       "      <th>4</th>\n",
       "      <td>1</td>\n",
       "      <td>2240</td>\n",
       "      <td>0461001930</td>\n",
       "    </tr>\n",
       "  </tbody>\n",
       "</table>\n",
       "</div>"
      ],
      "text/plain": [
       "   NbrLivingUnits  SqFtTotLiving     maj_min\n",
       "0               1            960  0461000935\n",
       "1               1           3790  0461001165\n",
       "2               1           3470  0461001720\n",
       "3               1           2140  0461001745\n",
       "4               1           2240  0461001930"
      ]
     },
     "execution_count": 68,
     "metadata": {},
     "output_type": "execute_result"
    }
   ],
   "source": [
    "res_build.head()"
   ]
  },
  {
   "cell_type": "markdown",
   "metadata": {},
   "source": [
    "### Merge Tables:"
   ]
  },
  {
   "cell_type": "code",
   "execution_count": 74,
   "metadata": {},
   "outputs": [],
   "source": [
    "data = rps2019.merge(parcel, on = 'maj_min')"
   ]
  },
  {
   "cell_type": "code",
   "execution_count": 75,
   "metadata": {},
   "outputs": [
    {
     "data": {
      "text/html": [
       "<div>\n",
       "<style scoped>\n",
       "    .dataframe tbody tr th:only-of-type {\n",
       "        vertical-align: middle;\n",
       "    }\n",
       "\n",
       "    .dataframe tbody tr th {\n",
       "        vertical-align: top;\n",
       "    }\n",
       "\n",
       "    .dataframe thead th {\n",
       "        text-align: right;\n",
       "    }\n",
       "</style>\n",
       "<table border=\"1\" class=\"dataframe\">\n",
       "  <thead>\n",
       "    <tr style=\"text-align: right;\">\n",
       "      <th></th>\n",
       "      <th>ExciseTaxNbr</th>\n",
       "      <th>SalePrice</th>\n",
       "      <th>PropertyType</th>\n",
       "      <th>PrincipalUse</th>\n",
       "      <th>SaleInstrument</th>\n",
       "      <th>maj_min</th>\n",
       "      <th>CurrentZoning</th>\n",
       "    </tr>\n",
       "  </thead>\n",
       "  <tbody>\n",
       "    <tr>\n",
       "      <th>0</th>\n",
       "      <td>3027422</td>\n",
       "      <td>560000</td>\n",
       "      <td>11</td>\n",
       "      <td>6</td>\n",
       "      <td>3</td>\n",
       "      <td>2130430120</td>\n",
       "      <td>R4.5</td>\n",
       "    </tr>\n",
       "    <tr>\n",
       "      <th>1</th>\n",
       "      <td>3002257</td>\n",
       "      <td>435000</td>\n",
       "      <td>11</td>\n",
       "      <td>6</td>\n",
       "      <td>3</td>\n",
       "      <td>9406520630</td>\n",
       "      <td>R-6</td>\n",
       "    </tr>\n",
       "    <tr>\n",
       "      <th>2</th>\n",
       "      <td>2980836</td>\n",
       "      <td>550000</td>\n",
       "      <td>3</td>\n",
       "      <td>6</td>\n",
       "      <td>3</td>\n",
       "      <td>9376300695</td>\n",
       "      <td>RSL (M)</td>\n",
       "    </tr>\n",
       "    <tr>\n",
       "      <th>3</th>\n",
       "      <td>2975376</td>\n",
       "      <td>409950</td>\n",
       "      <td>11</td>\n",
       "      <td>6</td>\n",
       "      <td>3</td>\n",
       "      <td>0984000450</td>\n",
       "      <td>R6</td>\n",
       "    </tr>\n",
       "    <tr>\n",
       "      <th>4</th>\n",
       "      <td>2976405</td>\n",
       "      <td>380000</td>\n",
       "      <td>11</td>\n",
       "      <td>6</td>\n",
       "      <td>3</td>\n",
       "      <td>0302000645</td>\n",
       "      <td>R5</td>\n",
       "    </tr>\n",
       "  </tbody>\n",
       "</table>\n",
       "</div>"
      ],
      "text/plain": [
       "   ExciseTaxNbr  SalePrice  PropertyType  PrincipalUse  SaleInstrument  \\\n",
       "0       3027422     560000            11             6               3   \n",
       "1       3002257     435000            11             6               3   \n",
       "2       2980836     550000             3             6               3   \n",
       "3       2975376     409950            11             6               3   \n",
       "4       2976405     380000            11             6               3   \n",
       "\n",
       "      maj_min CurrentZoning  \n",
       "0  2130430120          R4.5  \n",
       "1  9406520630           R-6  \n",
       "2  9376300695       RSL (M)  \n",
       "3  0984000450            R6  \n",
       "4  0302000645            R5  "
      ]
     },
     "execution_count": 75,
     "metadata": {},
     "output_type": "execute_result"
    }
   ],
   "source": [
    "data.head()"
   ]
  },
  {
   "cell_type": "code",
   "execution_count": 76,
   "metadata": {},
   "outputs": [],
   "source": [
    "data = data.merge(res_build, on = 'maj_min')"
   ]
  },
  {
   "cell_type": "code",
   "execution_count": 77,
   "metadata": {},
   "outputs": [
    {
     "data": {
      "text/html": [
       "<div>\n",
       "<style scoped>\n",
       "    .dataframe tbody tr th:only-of-type {\n",
       "        vertical-align: middle;\n",
       "    }\n",
       "\n",
       "    .dataframe tbody tr th {\n",
       "        vertical-align: top;\n",
       "    }\n",
       "\n",
       "    .dataframe thead th {\n",
       "        text-align: right;\n",
       "    }\n",
       "</style>\n",
       "<table border=\"1\" class=\"dataframe\">\n",
       "  <thead>\n",
       "    <tr style=\"text-align: right;\">\n",
       "      <th></th>\n",
       "      <th>ExciseTaxNbr</th>\n",
       "      <th>SalePrice</th>\n",
       "      <th>PropertyType</th>\n",
       "      <th>PrincipalUse</th>\n",
       "      <th>SaleInstrument</th>\n",
       "      <th>maj_min</th>\n",
       "      <th>CurrentZoning</th>\n",
       "      <th>NbrLivingUnits</th>\n",
       "      <th>SqFtTotLiving</th>\n",
       "    </tr>\n",
       "  </thead>\n",
       "  <tbody>\n",
       "    <tr>\n",
       "      <th>0</th>\n",
       "      <td>3027422</td>\n",
       "      <td>560000</td>\n",
       "      <td>11</td>\n",
       "      <td>6</td>\n",
       "      <td>3</td>\n",
       "      <td>2130430120</td>\n",
       "      <td>R4.5</td>\n",
       "      <td>1</td>\n",
       "      <td>1930</td>\n",
       "    </tr>\n",
       "    <tr>\n",
       "      <th>1</th>\n",
       "      <td>3002257</td>\n",
       "      <td>435000</td>\n",
       "      <td>11</td>\n",
       "      <td>6</td>\n",
       "      <td>3</td>\n",
       "      <td>9406520630</td>\n",
       "      <td>R-6</td>\n",
       "      <td>1</td>\n",
       "      <td>1975</td>\n",
       "    </tr>\n",
       "    <tr>\n",
       "      <th>2</th>\n",
       "      <td>2980836</td>\n",
       "      <td>550000</td>\n",
       "      <td>3</td>\n",
       "      <td>6</td>\n",
       "      <td>3</td>\n",
       "      <td>9376300695</td>\n",
       "      <td>RSL (M)</td>\n",
       "      <td>1</td>\n",
       "      <td>1560</td>\n",
       "    </tr>\n",
       "    <tr>\n",
       "      <th>3</th>\n",
       "      <td>2975376</td>\n",
       "      <td>409950</td>\n",
       "      <td>11</td>\n",
       "      <td>6</td>\n",
       "      <td>3</td>\n",
       "      <td>0984000450</td>\n",
       "      <td>R6</td>\n",
       "      <td>1</td>\n",
       "      <td>1850</td>\n",
       "    </tr>\n",
       "    <tr>\n",
       "      <th>4</th>\n",
       "      <td>2976405</td>\n",
       "      <td>380000</td>\n",
       "      <td>11</td>\n",
       "      <td>6</td>\n",
       "      <td>3</td>\n",
       "      <td>0302000645</td>\n",
       "      <td>R5</td>\n",
       "      <td>1</td>\n",
       "      <td>1750</td>\n",
       "    </tr>\n",
       "  </tbody>\n",
       "</table>\n",
       "</div>"
      ],
      "text/plain": [
       "   ExciseTaxNbr  SalePrice  PropertyType  PrincipalUse  SaleInstrument  \\\n",
       "0       3027422     560000            11             6               3   \n",
       "1       3002257     435000            11             6               3   \n",
       "2       2980836     550000             3             6               3   \n",
       "3       2975376     409950            11             6               3   \n",
       "4       2976405     380000            11             6               3   \n",
       "\n",
       "      maj_min CurrentZoning  NbrLivingUnits  SqFtTotLiving  \n",
       "0  2130430120          R4.5               1           1930  \n",
       "1  9406520630           R-6               1           1975  \n",
       "2  9376300695       RSL (M)               1           1560  \n",
       "3  0984000450            R6               1           1850  \n",
       "4  0302000645            R5               1           1750  "
      ]
     },
     "execution_count": 77,
     "metadata": {},
     "output_type": "execute_result"
    }
   ],
   "source": [
    "data.head()"
   ]
  },
  {
   "cell_type": "code",
   "execution_count": 78,
   "metadata": {},
   "outputs": [],
   "source": [
    "data.set_index(keys = 'maj_min', inplace = True)"
   ]
  },
  {
   "cell_type": "code",
   "execution_count": 79,
   "metadata": {},
   "outputs": [
    {
     "data": {
      "text/html": [
       "<div>\n",
       "<style scoped>\n",
       "    .dataframe tbody tr th:only-of-type {\n",
       "        vertical-align: middle;\n",
       "    }\n",
       "\n",
       "    .dataframe tbody tr th {\n",
       "        vertical-align: top;\n",
       "    }\n",
       "\n",
       "    .dataframe thead th {\n",
       "        text-align: right;\n",
       "    }\n",
       "</style>\n",
       "<table border=\"1\" class=\"dataframe\">\n",
       "  <thead>\n",
       "    <tr style=\"text-align: right;\">\n",
       "      <th></th>\n",
       "      <th>ExciseTaxNbr</th>\n",
       "      <th>SalePrice</th>\n",
       "      <th>PropertyType</th>\n",
       "      <th>PrincipalUse</th>\n",
       "      <th>SaleInstrument</th>\n",
       "      <th>CurrentZoning</th>\n",
       "      <th>NbrLivingUnits</th>\n",
       "      <th>SqFtTotLiving</th>\n",
       "    </tr>\n",
       "    <tr>\n",
       "      <th>maj_min</th>\n",
       "      <th></th>\n",
       "      <th></th>\n",
       "      <th></th>\n",
       "      <th></th>\n",
       "      <th></th>\n",
       "      <th></th>\n",
       "      <th></th>\n",
       "      <th></th>\n",
       "    </tr>\n",
       "  </thead>\n",
       "  <tbody>\n",
       "    <tr>\n",
       "      <th>2130430120</th>\n",
       "      <td>3027422</td>\n",
       "      <td>560000</td>\n",
       "      <td>11</td>\n",
       "      <td>6</td>\n",
       "      <td>3</td>\n",
       "      <td>R4.5</td>\n",
       "      <td>1</td>\n",
       "      <td>1930</td>\n",
       "    </tr>\n",
       "    <tr>\n",
       "      <th>9406520630</th>\n",
       "      <td>3002257</td>\n",
       "      <td>435000</td>\n",
       "      <td>11</td>\n",
       "      <td>6</td>\n",
       "      <td>3</td>\n",
       "      <td>R-6</td>\n",
       "      <td>1</td>\n",
       "      <td>1975</td>\n",
       "    </tr>\n",
       "    <tr>\n",
       "      <th>9376300695</th>\n",
       "      <td>2980836</td>\n",
       "      <td>550000</td>\n",
       "      <td>3</td>\n",
       "      <td>6</td>\n",
       "      <td>3</td>\n",
       "      <td>RSL (M)</td>\n",
       "      <td>1</td>\n",
       "      <td>1560</td>\n",
       "    </tr>\n",
       "    <tr>\n",
       "      <th>0984000450</th>\n",
       "      <td>2975376</td>\n",
       "      <td>409950</td>\n",
       "      <td>11</td>\n",
       "      <td>6</td>\n",
       "      <td>3</td>\n",
       "      <td>R6</td>\n",
       "      <td>1</td>\n",
       "      <td>1850</td>\n",
       "    </tr>\n",
       "    <tr>\n",
       "      <th>0302000645</th>\n",
       "      <td>2976405</td>\n",
       "      <td>380000</td>\n",
       "      <td>11</td>\n",
       "      <td>6</td>\n",
       "      <td>3</td>\n",
       "      <td>R5</td>\n",
       "      <td>1</td>\n",
       "      <td>1750</td>\n",
       "    </tr>\n",
       "  </tbody>\n",
       "</table>\n",
       "</div>"
      ],
      "text/plain": [
       "            ExciseTaxNbr  SalePrice  PropertyType  PrincipalUse  \\\n",
       "maj_min                                                           \n",
       "2130430120       3027422     560000            11             6   \n",
       "9406520630       3002257     435000            11             6   \n",
       "9376300695       2980836     550000             3             6   \n",
       "0984000450       2975376     409950            11             6   \n",
       "0302000645       2976405     380000            11             6   \n",
       "\n",
       "            SaleInstrument CurrentZoning  NbrLivingUnits  SqFtTotLiving  \n",
       "maj_min                                                                  \n",
       "2130430120               3          R4.5               1           1930  \n",
       "9406520630               3           R-6               1           1975  \n",
       "9376300695               3       RSL (M)               1           1560  \n",
       "0984000450               3            R6               1           1850  \n",
       "0302000645               3            R5               1           1750  "
      ]
     },
     "execution_count": 79,
     "metadata": {},
     "output_type": "execute_result"
    }
   ],
   "source": [
    "data.head()"
   ]
  },
  {
   "cell_type": "code",
   "execution_count": 82,
   "metadata": {},
   "outputs": [
    {
     "name": "stdout",
     "output_type": "stream",
     "text": [
      "<class 'pandas.core.frame.DataFrame'>\n",
      "Index: 43867 entries, 2130430120 to 1923000170\n",
      "Data columns (total 8 columns):\n",
      " #   Column          Non-Null Count  Dtype \n",
      "---  ------          --------------  ----- \n",
      " 0   ExciseTaxNbr    43867 non-null  int64 \n",
      " 1   SalePrice       43867 non-null  int64 \n",
      " 2   PropertyType    43867 non-null  int64 \n",
      " 3   PrincipalUse    43867 non-null  int64 \n",
      " 4   SaleInstrument  43867 non-null  int64 \n",
      " 5   CurrentZoning   43867 non-null  object\n",
      " 6   NbrLivingUnits  43867 non-null  int64 \n",
      " 7   SqFtTotLiving   43867 non-null  int64 \n",
      "dtypes: int64(7), object(1)\n",
      "memory usage: 3.0+ MB\n"
     ]
    }
   ],
   "source": [
    "data.info()"
   ]
  },
  {
   "cell_type": "markdown",
   "metadata": {},
   "source": [
    "### Evaluate Current feature from data:\n",
    "\n",
    "We have 43,867 entries after combining the three tables.  After reducing down to 2019 data from the Real Property Sales table, we had 61,363 entries.  **Think about why we lost data upon merging tables...**"
   ]
  },
  {
   "cell_type": "markdown",
   "metadata": {},
   "source": [
    "## Filtering Data and Defining Data sets:"
   ]
  },
  {
   "cell_type": "markdown",
   "metadata": {},
   "source": [
    "Now that we have all the relevant features in one dataframe, we can create a column with a boolean value that returns `True` if it is a duplex and `False` if it is a single family home.  We define these features as above.  "
   ]
  },
  {
   "cell_type": "markdown",
   "metadata": {},
   "source": [
    "#### Defining Duplex and Single Family:"
   ]
  },
  {
   "cell_type": "code",
   "execution_count": 86,
   "metadata": {},
   "outputs": [
    {
     "data": {
      "text/plain": [
       "(135, 8)"
      ]
     },
     "execution_count": 86,
     "metadata": {},
     "output_type": "execute_result"
    }
   ],
   "source": [
    "# define subset of data that is a duplex:\n",
    "duplexes = data[(data['PropertyType'] == 12) & (data['NbrLivingUnits'] == 2)]\n",
    "duplexes.shape"
   ]
  },
  {
   "cell_type": "markdown",
   "metadata": {},
   "source": [
    "So, we have 135 duplexes in our data set."
   ]
  },
  {
   "cell_type": "code",
   "execution_count": 87,
   "metadata": {},
   "outputs": [
    {
     "data": {
      "text/plain": [
       "(26101, 8)"
      ]
     },
     "execution_count": 87,
     "metadata": {},
     "output_type": "execute_result"
    }
   ],
   "source": [
    "# define subset of data that is a single family home:\n",
    "singlefam = data[(data['PropertyType'] == 11) & (data['NbrLivingUnits'] == 1)]\n",
    "singlefam.shape"
   ]
  },
  {
   "cell_type": "code",
   "execution_count": 90,
   "metadata": {},
   "outputs": [],
   "source": [
    "# define dataframe with just single family and duplex entries:\n",
    "duplex_sf = data[((data['PropertyType'] == 11) & (data['NbrLivingUnits'] == 1)) \\\n",
    "     | ((data['PropertyType'] == 12) & (data['NbrLivingUnits'] == 2))]"
   ]
  },
  {
   "cell_type": "code",
   "execution_count": 91,
   "metadata": {},
   "outputs": [
    {
     "data": {
      "text/html": [
       "<div>\n",
       "<style scoped>\n",
       "    .dataframe tbody tr th:only-of-type {\n",
       "        vertical-align: middle;\n",
       "    }\n",
       "\n",
       "    .dataframe tbody tr th {\n",
       "        vertical-align: top;\n",
       "    }\n",
       "\n",
       "    .dataframe thead th {\n",
       "        text-align: right;\n",
       "    }\n",
       "</style>\n",
       "<table border=\"1\" class=\"dataframe\">\n",
       "  <thead>\n",
       "    <tr style=\"text-align: right;\">\n",
       "      <th></th>\n",
       "      <th>ExciseTaxNbr</th>\n",
       "      <th>SalePrice</th>\n",
       "      <th>PropertyType</th>\n",
       "      <th>PrincipalUse</th>\n",
       "      <th>SaleInstrument</th>\n",
       "      <th>CurrentZoning</th>\n",
       "      <th>NbrLivingUnits</th>\n",
       "      <th>SqFtTotLiving</th>\n",
       "    </tr>\n",
       "    <tr>\n",
       "      <th>maj_min</th>\n",
       "      <th></th>\n",
       "      <th></th>\n",
       "      <th></th>\n",
       "      <th></th>\n",
       "      <th></th>\n",
       "      <th></th>\n",
       "      <th></th>\n",
       "      <th></th>\n",
       "    </tr>\n",
       "  </thead>\n",
       "  <tbody>\n",
       "    <tr>\n",
       "      <th>2130430120</th>\n",
       "      <td>3027422</td>\n",
       "      <td>560000</td>\n",
       "      <td>11</td>\n",
       "      <td>6</td>\n",
       "      <td>3</td>\n",
       "      <td>R4.5</td>\n",
       "      <td>1</td>\n",
       "      <td>1930</td>\n",
       "    </tr>\n",
       "    <tr>\n",
       "      <th>9406520630</th>\n",
       "      <td>3002257</td>\n",
       "      <td>435000</td>\n",
       "      <td>11</td>\n",
       "      <td>6</td>\n",
       "      <td>3</td>\n",
       "      <td>R-6</td>\n",
       "      <td>1</td>\n",
       "      <td>1975</td>\n",
       "    </tr>\n",
       "    <tr>\n",
       "      <th>0984000450</th>\n",
       "      <td>2975376</td>\n",
       "      <td>409950</td>\n",
       "      <td>11</td>\n",
       "      <td>6</td>\n",
       "      <td>3</td>\n",
       "      <td>R6</td>\n",
       "      <td>1</td>\n",
       "      <td>1850</td>\n",
       "    </tr>\n",
       "    <tr>\n",
       "      <th>0302000645</th>\n",
       "      <td>2976405</td>\n",
       "      <td>380000</td>\n",
       "      <td>11</td>\n",
       "      <td>6</td>\n",
       "      <td>3</td>\n",
       "      <td>R5</td>\n",
       "      <td>1</td>\n",
       "      <td>1750</td>\n",
       "    </tr>\n",
       "    <tr>\n",
       "      <th>7797900030</th>\n",
       "      <td>3015516</td>\n",
       "      <td>0</td>\n",
       "      <td>11</td>\n",
       "      <td>6</td>\n",
       "      <td>3</td>\n",
       "      <td>SF 5000</td>\n",
       "      <td>1</td>\n",
       "      <td>890</td>\n",
       "    </tr>\n",
       "  </tbody>\n",
       "</table>\n",
       "</div>"
      ],
      "text/plain": [
       "            ExciseTaxNbr  SalePrice  PropertyType  PrincipalUse  \\\n",
       "maj_min                                                           \n",
       "2130430120       3027422     560000            11             6   \n",
       "9406520630       3002257     435000            11             6   \n",
       "0984000450       2975376     409950            11             6   \n",
       "0302000645       2976405     380000            11             6   \n",
       "7797900030       3015516          0            11             6   \n",
       "\n",
       "            SaleInstrument CurrentZoning  NbrLivingUnits  SqFtTotLiving  \n",
       "maj_min                                                                  \n",
       "2130430120               3          R4.5               1           1930  \n",
       "9406520630               3           R-6               1           1975  \n",
       "0984000450               3            R6               1           1850  \n",
       "0302000645               3            R5               1           1750  \n",
       "7797900030               3       SF 5000               1            890  "
      ]
     },
     "execution_count": 91,
     "metadata": {},
     "output_type": "execute_result"
    }
   ],
   "source": [
    "duplex_sf.head()"
   ]
  },
  {
   "cell_type": "code",
   "execution_count": 92,
   "metadata": {},
   "outputs": [
    {
     "name": "stdout",
     "output_type": "stream",
     "text": [
      "<class 'pandas.core.frame.DataFrame'>\n",
      "Index: 26236 entries, 2130430120 to 1923000170\n",
      "Data columns (total 8 columns):\n",
      " #   Column          Non-Null Count  Dtype \n",
      "---  ------          --------------  ----- \n",
      " 0   ExciseTaxNbr    26236 non-null  int64 \n",
      " 1   SalePrice       26236 non-null  int64 \n",
      " 2   PropertyType    26236 non-null  int64 \n",
      " 3   PrincipalUse    26236 non-null  int64 \n",
      " 4   SaleInstrument  26236 non-null  int64 \n",
      " 5   CurrentZoning   26236 non-null  object\n",
      " 6   NbrLivingUnits  26236 non-null  int64 \n",
      " 7   SqFtTotLiving   26236 non-null  int64 \n",
      "dtypes: int64(7), object(1)\n",
      "memory usage: 1.8+ MB\n"
     ]
    }
   ],
   "source": [
    "duplex_sf.info()"
   ]
  },
  {
   "cell_type": "markdown",
   "metadata": {},
   "source": [
    "### Create bool column for is_duplex:"
   ]
  },
  {
   "cell_type": "code",
   "execution_count": 103,
   "metadata": {},
   "outputs": [
    {
     "name": "stderr",
     "output_type": "stream",
     "text": [
      "<ipython-input-103-39ed54bf8171>:1: SettingWithCopyWarning: \n",
      "A value is trying to be set on a copy of a slice from a DataFrame.\n",
      "Try using .loc[row_indexer,col_indexer] = value instead\n",
      "\n",
      "See the caveats in the documentation: https://pandas.pydata.org/pandas-docs/stable/user_guide/indexing.html#returning-a-view-versus-a-copy\n",
      "  duplex_sf['is_duplex'] = (duplex_sf.PropertyType == 12) & (duplex_sf.NbrLivingUnits == 2)\n"
     ]
    },
    {
     "data": {
      "text/html": [
       "<div>\n",
       "<style scoped>\n",
       "    .dataframe tbody tr th:only-of-type {\n",
       "        vertical-align: middle;\n",
       "    }\n",
       "\n",
       "    .dataframe tbody tr th {\n",
       "        vertical-align: top;\n",
       "    }\n",
       "\n",
       "    .dataframe thead th {\n",
       "        text-align: right;\n",
       "    }\n",
       "</style>\n",
       "<table border=\"1\" class=\"dataframe\">\n",
       "  <thead>\n",
       "    <tr style=\"text-align: right;\">\n",
       "      <th></th>\n",
       "      <th>ExciseTaxNbr</th>\n",
       "      <th>SalePrice</th>\n",
       "      <th>PropertyType</th>\n",
       "      <th>PrincipalUse</th>\n",
       "      <th>SaleInstrument</th>\n",
       "      <th>CurrentZoning</th>\n",
       "      <th>NbrLivingUnits</th>\n",
       "      <th>SqFtTotLiving</th>\n",
       "      <th>is_duplex</th>\n",
       "    </tr>\n",
       "    <tr>\n",
       "      <th>maj_min</th>\n",
       "      <th></th>\n",
       "      <th></th>\n",
       "      <th></th>\n",
       "      <th></th>\n",
       "      <th></th>\n",
       "      <th></th>\n",
       "      <th></th>\n",
       "      <th></th>\n",
       "      <th></th>\n",
       "    </tr>\n",
       "  </thead>\n",
       "  <tbody>\n",
       "    <tr>\n",
       "      <th>2130430120</th>\n",
       "      <td>3027422</td>\n",
       "      <td>560000</td>\n",
       "      <td>11</td>\n",
       "      <td>6</td>\n",
       "      <td>3</td>\n",
       "      <td>R4.5</td>\n",
       "      <td>1</td>\n",
       "      <td>1930</td>\n",
       "      <td>False</td>\n",
       "    </tr>\n",
       "    <tr>\n",
       "      <th>9406520630</th>\n",
       "      <td>3002257</td>\n",
       "      <td>435000</td>\n",
       "      <td>11</td>\n",
       "      <td>6</td>\n",
       "      <td>3</td>\n",
       "      <td>R-6</td>\n",
       "      <td>1</td>\n",
       "      <td>1975</td>\n",
       "      <td>False</td>\n",
       "    </tr>\n",
       "    <tr>\n",
       "      <th>0984000450</th>\n",
       "      <td>2975376</td>\n",
       "      <td>409950</td>\n",
       "      <td>11</td>\n",
       "      <td>6</td>\n",
       "      <td>3</td>\n",
       "      <td>R6</td>\n",
       "      <td>1</td>\n",
       "      <td>1850</td>\n",
       "      <td>False</td>\n",
       "    </tr>\n",
       "    <tr>\n",
       "      <th>0302000645</th>\n",
       "      <td>2976405</td>\n",
       "      <td>380000</td>\n",
       "      <td>11</td>\n",
       "      <td>6</td>\n",
       "      <td>3</td>\n",
       "      <td>R5</td>\n",
       "      <td>1</td>\n",
       "      <td>1750</td>\n",
       "      <td>False</td>\n",
       "    </tr>\n",
       "    <tr>\n",
       "      <th>7797900030</th>\n",
       "      <td>3015516</td>\n",
       "      <td>0</td>\n",
       "      <td>11</td>\n",
       "      <td>6</td>\n",
       "      <td>3</td>\n",
       "      <td>SF 5000</td>\n",
       "      <td>1</td>\n",
       "      <td>890</td>\n",
       "      <td>False</td>\n",
       "    </tr>\n",
       "    <tr>\n",
       "      <th>6154900010</th>\n",
       "      <td>3012934</td>\n",
       "      <td>775000</td>\n",
       "      <td>11</td>\n",
       "      <td>6</td>\n",
       "      <td>3</td>\n",
       "      <td>SF 7200</td>\n",
       "      <td>1</td>\n",
       "      <td>2080</td>\n",
       "      <td>False</td>\n",
       "    </tr>\n",
       "    <tr>\n",
       "      <th>1238500905</th>\n",
       "      <td>2972483</td>\n",
       "      <td>0</td>\n",
       "      <td>11</td>\n",
       "      <td>6</td>\n",
       "      <td>15</td>\n",
       "      <td>RSX 7.2</td>\n",
       "      <td>1</td>\n",
       "      <td>2990</td>\n",
       "      <td>False</td>\n",
       "    </tr>\n",
       "    <tr>\n",
       "      <th>5029400090</th>\n",
       "      <td>2998941</td>\n",
       "      <td>0</td>\n",
       "      <td>11</td>\n",
       "      <td>6</td>\n",
       "      <td>15</td>\n",
       "      <td>R6</td>\n",
       "      <td>1</td>\n",
       "      <td>880</td>\n",
       "      <td>False</td>\n",
       "    </tr>\n",
       "    <tr>\n",
       "      <th>5029400090</th>\n",
       "      <td>2998942</td>\n",
       "      <td>0</td>\n",
       "      <td>11</td>\n",
       "      <td>6</td>\n",
       "      <td>15</td>\n",
       "      <td>R6</td>\n",
       "      <td>1</td>\n",
       "      <td>880</td>\n",
       "      <td>False</td>\n",
       "    </tr>\n",
       "    <tr>\n",
       "      <th>3345100288</th>\n",
       "      <td>2986925</td>\n",
       "      <td>0</td>\n",
       "      <td>11</td>\n",
       "      <td>6</td>\n",
       "      <td>3</td>\n",
       "      <td>R-4</td>\n",
       "      <td>1</td>\n",
       "      <td>1560</td>\n",
       "      <td>False</td>\n",
       "    </tr>\n",
       "  </tbody>\n",
       "</table>\n",
       "</div>"
      ],
      "text/plain": [
       "            ExciseTaxNbr  SalePrice  PropertyType  PrincipalUse  \\\n",
       "maj_min                                                           \n",
       "2130430120       3027422     560000            11             6   \n",
       "9406520630       3002257     435000            11             6   \n",
       "0984000450       2975376     409950            11             6   \n",
       "0302000645       2976405     380000            11             6   \n",
       "7797900030       3015516          0            11             6   \n",
       "6154900010       3012934     775000            11             6   \n",
       "1238500905       2972483          0            11             6   \n",
       "5029400090       2998941          0            11             6   \n",
       "5029400090       2998942          0            11             6   \n",
       "3345100288       2986925          0            11             6   \n",
       "\n",
       "            SaleInstrument CurrentZoning  NbrLivingUnits  SqFtTotLiving  \\\n",
       "maj_min                                                                   \n",
       "2130430120               3          R4.5               1           1930   \n",
       "9406520630               3           R-6               1           1975   \n",
       "0984000450               3            R6               1           1850   \n",
       "0302000645               3            R5               1           1750   \n",
       "7797900030               3       SF 5000               1            890   \n",
       "6154900010               3       SF 7200               1           2080   \n",
       "1238500905              15       RSX 7.2               1           2990   \n",
       "5029400090              15            R6               1            880   \n",
       "5029400090              15            R6               1            880   \n",
       "3345100288               3           R-4               1           1560   \n",
       "\n",
       "            is_duplex  \n",
       "maj_min                \n",
       "2130430120      False  \n",
       "9406520630      False  \n",
       "0984000450      False  \n",
       "0302000645      False  \n",
       "7797900030      False  \n",
       "6154900010      False  \n",
       "1238500905      False  \n",
       "5029400090      False  \n",
       "5029400090      False  \n",
       "3345100288      False  "
      ]
     },
     "execution_count": 103,
     "metadata": {},
     "output_type": "execute_result"
    }
   ],
   "source": [
    "duplex_sf['is_duplex'] = (duplex_sf.PropertyType == 12) & (duplex_sf.NbrLivingUnits == 2)\n",
    "        \n",
    "duplex_sf.head()"
   ]
  },
  {
   "cell_type": "code",
   "execution_count": 104,
   "metadata": {},
   "outputs": [
    {
     "name": "stdout",
     "output_type": "stream",
     "text": [
      "<class 'pandas.core.frame.DataFrame'>\n",
      "Index: 26236 entries, 2130430120 to 1923000170\n",
      "Data columns (total 9 columns):\n",
      " #   Column          Non-Null Count  Dtype \n",
      "---  ------          --------------  ----- \n",
      " 0   ExciseTaxNbr    26236 non-null  int64 \n",
      " 1   SalePrice       26236 non-null  int64 \n",
      " 2   PropertyType    26236 non-null  int64 \n",
      " 3   PrincipalUse    26236 non-null  int64 \n",
      " 4   SaleInstrument  26236 non-null  int64 \n",
      " 5   CurrentZoning   26236 non-null  object\n",
      " 6   NbrLivingUnits  26236 non-null  int64 \n",
      " 7   SqFtTotLiving   26236 non-null  int64 \n",
      " 8   is_duplex       26236 non-null  bool  \n",
      "dtypes: bool(1), int64(7), object(1)\n",
      "memory usage: 2.5+ MB\n"
     ]
    }
   ],
   "source": [
    "duplex_sf.info()"
   ]
  },
  {
   "cell_type": "markdown",
   "metadata": {},
   "source": [
    "You can see we've kept all our data and if we sum the `is_duplex` column, it should amount to `135` to show all our 135 duplexes we found earlier:"
   ]
  },
  {
   "cell_type": "code",
   "execution_count": 105,
   "metadata": {},
   "outputs": [
    {
     "data": {
      "text/plain": [
       "135"
      ]
     },
     "execution_count": 105,
     "metadata": {},
     "output_type": "execute_result"
    }
   ],
   "source": [
    "duplex_sf['is_duplex'].sum()"
   ]
  },
  {
   "cell_type": "markdown",
   "metadata": {},
   "source": [
    "Bingo."
   ]
  },
  {
   "cell_type": "markdown",
   "metadata": {},
   "source": [
    "### Create Price/SF column:"
   ]
  },
  {
   "cell_type": "code",
   "execution_count": 107,
   "metadata": {},
   "outputs": [
    {
     "name": "stderr",
     "output_type": "stream",
     "text": [
      "<ipython-input-107-415db64466db>:2: SettingWithCopyWarning: \n",
      "A value is trying to be set on a copy of a slice from a DataFrame.\n",
      "Try using .loc[row_indexer,col_indexer] = value instead\n",
      "\n",
      "See the caveats in the documentation: https://pandas.pydata.org/pandas-docs/stable/user_guide/indexing.html#returning-a-view-versus-a-copy\n",
      "  duplex_sf['price_per_sf'] = duplex_sf['SalePrice'] / duplex_sf['SqFtTotLiving']\n"
     ]
    },
    {
     "data": {
      "text/html": [
       "<div>\n",
       "<style scoped>\n",
       "    .dataframe tbody tr th:only-of-type {\n",
       "        vertical-align: middle;\n",
       "    }\n",
       "\n",
       "    .dataframe tbody tr th {\n",
       "        vertical-align: top;\n",
       "    }\n",
       "\n",
       "    .dataframe thead th {\n",
       "        text-align: right;\n",
       "    }\n",
       "</style>\n",
       "<table border=\"1\" class=\"dataframe\">\n",
       "  <thead>\n",
       "    <tr style=\"text-align: right;\">\n",
       "      <th></th>\n",
       "      <th>ExciseTaxNbr</th>\n",
       "      <th>SalePrice</th>\n",
       "      <th>PropertyType</th>\n",
       "      <th>PrincipalUse</th>\n",
       "      <th>SaleInstrument</th>\n",
       "      <th>CurrentZoning</th>\n",
       "      <th>NbrLivingUnits</th>\n",
       "      <th>SqFtTotLiving</th>\n",
       "      <th>is_duplex</th>\n",
       "      <th>price_per_sf</th>\n",
       "    </tr>\n",
       "    <tr>\n",
       "      <th>maj_min</th>\n",
       "      <th></th>\n",
       "      <th></th>\n",
       "      <th></th>\n",
       "      <th></th>\n",
       "      <th></th>\n",
       "      <th></th>\n",
       "      <th></th>\n",
       "      <th></th>\n",
       "      <th></th>\n",
       "      <th></th>\n",
       "    </tr>\n",
       "  </thead>\n",
       "  <tbody>\n",
       "    <tr>\n",
       "      <th>2130430120</th>\n",
       "      <td>3027422</td>\n",
       "      <td>560000</td>\n",
       "      <td>11</td>\n",
       "      <td>6</td>\n",
       "      <td>3</td>\n",
       "      <td>R4.5</td>\n",
       "      <td>1</td>\n",
       "      <td>1930</td>\n",
       "      <td>False</td>\n",
       "      <td>290.155440</td>\n",
       "    </tr>\n",
       "    <tr>\n",
       "      <th>9406520630</th>\n",
       "      <td>3002257</td>\n",
       "      <td>435000</td>\n",
       "      <td>11</td>\n",
       "      <td>6</td>\n",
       "      <td>3</td>\n",
       "      <td>R-6</td>\n",
       "      <td>1</td>\n",
       "      <td>1975</td>\n",
       "      <td>False</td>\n",
       "      <td>220.253165</td>\n",
       "    </tr>\n",
       "    <tr>\n",
       "      <th>0984000450</th>\n",
       "      <td>2975376</td>\n",
       "      <td>409950</td>\n",
       "      <td>11</td>\n",
       "      <td>6</td>\n",
       "      <td>3</td>\n",
       "      <td>R6</td>\n",
       "      <td>1</td>\n",
       "      <td>1850</td>\n",
       "      <td>False</td>\n",
       "      <td>221.594595</td>\n",
       "    </tr>\n",
       "    <tr>\n",
       "      <th>0302000645</th>\n",
       "      <td>2976405</td>\n",
       "      <td>380000</td>\n",
       "      <td>11</td>\n",
       "      <td>6</td>\n",
       "      <td>3</td>\n",
       "      <td>R5</td>\n",
       "      <td>1</td>\n",
       "      <td>1750</td>\n",
       "      <td>False</td>\n",
       "      <td>217.142857</td>\n",
       "    </tr>\n",
       "    <tr>\n",
       "      <th>7797900030</th>\n",
       "      <td>3015516</td>\n",
       "      <td>0</td>\n",
       "      <td>11</td>\n",
       "      <td>6</td>\n",
       "      <td>3</td>\n",
       "      <td>SF 5000</td>\n",
       "      <td>1</td>\n",
       "      <td>890</td>\n",
       "      <td>False</td>\n",
       "      <td>0.000000</td>\n",
       "    </tr>\n",
       "  </tbody>\n",
       "</table>\n",
       "</div>"
      ],
      "text/plain": [
       "            ExciseTaxNbr  SalePrice  PropertyType  PrincipalUse  \\\n",
       "maj_min                                                           \n",
       "2130430120       3027422     560000            11             6   \n",
       "9406520630       3002257     435000            11             6   \n",
       "0984000450       2975376     409950            11             6   \n",
       "0302000645       2976405     380000            11             6   \n",
       "7797900030       3015516          0            11             6   \n",
       "\n",
       "            SaleInstrument CurrentZoning  NbrLivingUnits  SqFtTotLiving  \\\n",
       "maj_min                                                                   \n",
       "2130430120               3          R4.5               1           1930   \n",
       "9406520630               3           R-6               1           1975   \n",
       "0984000450               3            R6               1           1850   \n",
       "0302000645               3            R5               1           1750   \n",
       "7797900030               3       SF 5000               1            890   \n",
       "\n",
       "            is_duplex  price_per_sf  \n",
       "maj_min                              \n",
       "2130430120      False    290.155440  \n",
       "9406520630      False    220.253165  \n",
       "0984000450      False    221.594595  \n",
       "0302000645      False    217.142857  \n",
       "7797900030      False      0.000000  "
      ]
     },
     "execution_count": 107,
     "metadata": {},
     "output_type": "execute_result"
    }
   ],
   "source": [
    "# price/sf is defined as SalePrice/SqFtTotLiving\n",
    "duplex_sf['price_per_sf'] = duplex_sf['SalePrice'] / duplex_sf['SqFtTotLiving']\n",
    "duplex_sf.head()"
   ]
  },
  {
   "cell_type": "code",
   "execution_count": 108,
   "metadata": {},
   "outputs": [
    {
     "name": "stdout",
     "output_type": "stream",
     "text": [
      "<class 'pandas.core.frame.DataFrame'>\n",
      "Index: 26236 entries, 2130430120 to 1923000170\n",
      "Data columns (total 10 columns):\n",
      " #   Column          Non-Null Count  Dtype  \n",
      "---  ------          --------------  -----  \n",
      " 0   ExciseTaxNbr    26236 non-null  int64  \n",
      " 1   SalePrice       26236 non-null  int64  \n",
      " 2   PropertyType    26236 non-null  int64  \n",
      " 3   PrincipalUse    26236 non-null  int64  \n",
      " 4   SaleInstrument  26236 non-null  int64  \n",
      " 5   CurrentZoning   26236 non-null  object \n",
      " 6   NbrLivingUnits  26236 non-null  int64  \n",
      " 7   SqFtTotLiving   26236 non-null  int64  \n",
      " 8   is_duplex       26236 non-null  bool   \n",
      " 9   price_per_sf    26236 non-null  float64\n",
      "dtypes: bool(1), float64(1), int64(7), object(1)\n",
      "memory usage: 2.7+ MB\n"
     ]
    }
   ],
   "source": [
    "duplex_sf.info()"
   ]
  },
  {
   "cell_type": "markdown",
   "metadata": {},
   "source": [
    "## Visualise the Data:"
   ]
  },
  {
   "cell_type": "code",
   "execution_count": 110,
   "metadata": {},
   "outputs": [
    {
     "data": {
      "text/html": [
       "<div>\n",
       "<style scoped>\n",
       "    .dataframe tbody tr th:only-of-type {\n",
       "        vertical-align: middle;\n",
       "    }\n",
       "\n",
       "    .dataframe tbody tr th {\n",
       "        vertical-align: top;\n",
       "    }\n",
       "\n",
       "    .dataframe thead th {\n",
       "        text-align: right;\n",
       "    }\n",
       "</style>\n",
       "<table border=\"1\" class=\"dataframe\">\n",
       "  <thead>\n",
       "    <tr style=\"text-align: right;\">\n",
       "      <th></th>\n",
       "      <th>ExciseTaxNbr</th>\n",
       "      <th>SalePrice</th>\n",
       "      <th>PropertyType</th>\n",
       "      <th>PrincipalUse</th>\n",
       "      <th>SaleInstrument</th>\n",
       "      <th>NbrLivingUnits</th>\n",
       "      <th>SqFtTotLiving</th>\n",
       "      <th>price_per_sf</th>\n",
       "    </tr>\n",
       "  </thead>\n",
       "  <tbody>\n",
       "    <tr>\n",
       "      <th>count</th>\n",
       "      <td>2.623600e+04</td>\n",
       "      <td>2.623600e+04</td>\n",
       "      <td>26236.000000</td>\n",
       "      <td>26236.000000</td>\n",
       "      <td>26236.000000</td>\n",
       "      <td>26236.000000</td>\n",
       "      <td>26236.000000</td>\n",
       "      <td>26236.000000</td>\n",
       "    </tr>\n",
       "    <tr>\n",
       "      <th>mean</th>\n",
       "      <td>2.999282e+06</td>\n",
       "      <td>5.635347e+05</td>\n",
       "      <td>11.005146</td>\n",
       "      <td>5.999962</td>\n",
       "      <td>5.928571</td>\n",
       "      <td>1.005146</td>\n",
       "      <td>2140.162982</td>\n",
       "      <td>278.377188</td>\n",
       "    </tr>\n",
       "    <tr>\n",
       "      <th>std</th>\n",
       "      <td>1.739472e+04</td>\n",
       "      <td>6.155587e+05</td>\n",
       "      <td>0.071549</td>\n",
       "      <td>0.026911</td>\n",
       "      <td>5.403851</td>\n",
       "      <td>0.071549</td>\n",
       "      <td>987.187026</td>\n",
       "      <td>762.258186</td>\n",
       "    </tr>\n",
       "    <tr>\n",
       "      <th>min</th>\n",
       "      <td>2.968804e+06</td>\n",
       "      <td>0.000000e+00</td>\n",
       "      <td>11.000000</td>\n",
       "      <td>2.000000</td>\n",
       "      <td>2.000000</td>\n",
       "      <td>1.000000</td>\n",
       "      <td>2.000000</td>\n",
       "      <td>0.000000</td>\n",
       "    </tr>\n",
       "    <tr>\n",
       "      <th>25%</th>\n",
       "      <td>2.982886e+06</td>\n",
       "      <td>0.000000e+00</td>\n",
       "      <td>11.000000</td>\n",
       "      <td>6.000000</td>\n",
       "      <td>3.000000</td>\n",
       "      <td>1.000000</td>\n",
       "      <td>1440.000000</td>\n",
       "      <td>0.000000</td>\n",
       "    </tr>\n",
       "    <tr>\n",
       "      <th>50%</th>\n",
       "      <td>2.999780e+06</td>\n",
       "      <td>5.000000e+05</td>\n",
       "      <td>11.000000</td>\n",
       "      <td>6.000000</td>\n",
       "      <td>3.000000</td>\n",
       "      <td>1.000000</td>\n",
       "      <td>1960.000000</td>\n",
       "      <td>273.117122</td>\n",
       "    </tr>\n",
       "    <tr>\n",
       "      <th>75%</th>\n",
       "      <td>3.013042e+06</td>\n",
       "      <td>7.890000e+05</td>\n",
       "      <td>11.000000</td>\n",
       "      <td>6.000000</td>\n",
       "      <td>3.000000</td>\n",
       "      <td>1.000000</td>\n",
       "      <td>2620.000000</td>\n",
       "      <td>408.653846</td>\n",
       "    </tr>\n",
       "    <tr>\n",
       "      <th>max</th>\n",
       "      <td>3.051203e+06</td>\n",
       "      <td>1.605000e+07</td>\n",
       "      <td>12.000000</td>\n",
       "      <td>7.000000</td>\n",
       "      <td>27.000000</td>\n",
       "      <td>2.000000</td>\n",
       "      <td>10910.000000</td>\n",
       "      <td>115000.000000</td>\n",
       "    </tr>\n",
       "  </tbody>\n",
       "</table>\n",
       "</div>"
      ],
      "text/plain": [
       "       ExciseTaxNbr     SalePrice  PropertyType  PrincipalUse  SaleInstrument  \\\n",
       "count  2.623600e+04  2.623600e+04  26236.000000  26236.000000    26236.000000   \n",
       "mean   2.999282e+06  5.635347e+05     11.005146      5.999962        5.928571   \n",
       "std    1.739472e+04  6.155587e+05      0.071549      0.026911        5.403851   \n",
       "min    2.968804e+06  0.000000e+00     11.000000      2.000000        2.000000   \n",
       "25%    2.982886e+06  0.000000e+00     11.000000      6.000000        3.000000   \n",
       "50%    2.999780e+06  5.000000e+05     11.000000      6.000000        3.000000   \n",
       "75%    3.013042e+06  7.890000e+05     11.000000      6.000000        3.000000   \n",
       "max    3.051203e+06  1.605000e+07     12.000000      7.000000       27.000000   \n",
       "\n",
       "       NbrLivingUnits  SqFtTotLiving   price_per_sf  \n",
       "count    26236.000000   26236.000000   26236.000000  \n",
       "mean         1.005146    2140.162982     278.377188  \n",
       "std          0.071549     987.187026     762.258186  \n",
       "min          1.000000       2.000000       0.000000  \n",
       "25%          1.000000    1440.000000       0.000000  \n",
       "50%          1.000000    1960.000000     273.117122  \n",
       "75%          1.000000    2620.000000     408.653846  \n",
       "max          2.000000   10910.000000  115000.000000  "
      ]
     },
     "execution_count": 110,
     "metadata": {},
     "output_type": "execute_result"
    }
   ],
   "source": [
    "# view summary of SalePrice and price_per_sf\n",
    "duplex_sf.describe()"
   ]
  },
  {
   "cell_type": "code",
   "execution_count": 126,
   "metadata": {},
   "outputs": [
    {
     "data": {
      "text/plain": [
       "(-802500.0, 16852500.0)"
      ]
     },
     "execution_count": 126,
     "metadata": {},
     "output_type": "execute_result"
    },
    {
     "data": {
      "image/png": "[encoded data removed]",
      "text/plain": [
       "<Figure size 720x576 with 1 Axes>"
      ]
     },
     "metadata": {},
     "output_type": "display_data"
    }
   ],
   "source": [
    "# plot SalePrice data:\n",
    "duplex_sf.SalePrice.hist(figsize=(10,8), bins = 1000)\n",
    "plt.xlim()\n",
    "\n",
    "## CHANGE X/Y SCALES!!"
   ]
  },
  {
   "cell_type": "code",
   "execution_count": 125,
   "metadata": {},
   "outputs": [
    {
     "data": {
      "text/plain": [
       "<matplotlib.axes._subplots.AxesSubplot at 0x12640c6d0>"
      ]
     },
     "execution_count": 125,
     "metadata": {},
     "output_type": "execute_result"
    },
    {
     "data": {
      "image/png": "[encoded data removed]",
      "text/plain": [
       "<Figure size 720x576 with 1 Axes>"
      ]
     },
     "metadata": {},
     "output_type": "display_data"
    }
   ],
   "source": [
    "# plot price_per_sf data:\n",
    "duplex_sf.price_per_sf.hist(figsize=(10,8), bins = 1000)"
   ]
  },
  {
   "cell_type": "code",
   "execution_count": null,
   "metadata": {},
   "outputs": [],
   "source": [
    "fig, axes = plt.subplots(nrows=2, ncols=4, figsize=(16,15), sharey=True)\n",
    "\n",
    "for ax, column in zip(axes.flatten(), data.columns):\n",
    "    ax.scatter(data[column], data['SalePrice'] / 100_000, label=column, alpha=.1)\n",
    "    ax.set_title(f'Sale Price vs {column}')\n",
    "    ax.set_xlabel(column)\n",
    "    ax.set_ylabel('Sale Price in $100,000')\n",
    "\n",
    "fig.tight_layout()"
   ]
  },
  {
   "cell_type": "code",
   "execution_count": null,
   "metadata": {},
   "outputs": [],
   "source": []
  },
  {
   "cell_type": "code",
   "execution_count": null,
   "metadata": {},
   "outputs": [],
   "source": []
  },
  {
   "cell_type": "markdown",
   "metadata": {},
   "source": [
    "### Create First Shitty Model:"
   ]
  },
  {
   "cell_type": "code",
   "execution_count": 127,
   "metadata": {},
   "outputs": [],
   "source": [
    "import statsmodels.api as sm\n",
    "from statsmodels.formula.api import ols"
   ]
  },
  {
   "cell_type": "code",
   "execution_count": 131,
   "metadata": {},
   "outputs": [],
   "source": [
    "# create x, y variables to find potential correlations:\n",
    "\n",
    "X = duplex_sf\n",
    "y = data['SalePrice']"
   ]
  },
  {
   "cell_type": "code",
   "execution_count": 132,
   "metadata": {},
   "outputs": [
    {
     "data": {
      "text/html": [
       "<div>\n",
       "<style scoped>\n",
       "    .dataframe tbody tr th:only-of-type {\n",
       "        vertical-align: middle;\n",
       "    }\n",
       "\n",
       "    .dataframe tbody tr th {\n",
       "        vertical-align: top;\n",
       "    }\n",
       "\n",
       "    .dataframe thead th {\n",
       "        text-align: right;\n",
       "    }\n",
       "</style>\n",
       "<table border=\"1\" class=\"dataframe\">\n",
       "  <thead>\n",
       "    <tr style=\"text-align: right;\">\n",
       "      <th></th>\n",
       "      <th>ExciseTaxNbr</th>\n",
       "      <th>SalePrice</th>\n",
       "      <th>PropertyType</th>\n",
       "      <th>PrincipalUse</th>\n",
       "      <th>SaleInstrument</th>\n",
       "      <th>NbrLivingUnits</th>\n",
       "      <th>SqFtTotLiving</th>\n",
       "      <th>is_duplex</th>\n",
       "      <th>price_per_sf</th>\n",
       "    </tr>\n",
       "  </thead>\n",
       "  <tbody>\n",
       "    <tr>\n",
       "      <th>ExciseTaxNbr</th>\n",
       "      <td>1.000000</td>\n",
       "      <td>0.014124</td>\n",
       "      <td>-0.012421</td>\n",
       "      <td>-0.006122</td>\n",
       "      <td>-0.018018</td>\n",
       "      <td>-0.012421</td>\n",
       "      <td>0.006870</td>\n",
       "      <td>-0.012421</td>\n",
       "      <td>-0.004077</td>\n",
       "    </tr>\n",
       "    <tr>\n",
       "      <th>SalePrice</th>\n",
       "      <td>0.014124</td>\n",
       "      <td>1.000000</td>\n",
       "      <td>-0.027303</td>\n",
       "      <td>0.009487</td>\n",
       "      <td>-0.490858</td>\n",
       "      <td>-0.027303</td>\n",
       "      <td>0.420863</td>\n",
       "      <td>-0.027303</td>\n",
       "      <td>0.242970</td>\n",
       "    </tr>\n",
       "    <tr>\n",
       "      <th>PropertyType</th>\n",
       "      <td>-0.012421</td>\n",
       "      <td>-0.027303</td>\n",
       "      <td>1.000000</td>\n",
       "      <td>0.000102</td>\n",
       "      <td>0.034371</td>\n",
       "      <td>1.000000</td>\n",
       "      <td>-0.007395</td>\n",
       "      <td>1.000000</td>\n",
       "      <td>-0.010151</td>\n",
       "    </tr>\n",
       "    <tr>\n",
       "      <th>PrincipalUse</th>\n",
       "      <td>-0.006122</td>\n",
       "      <td>0.009487</td>\n",
       "      <td>0.000102</td>\n",
       "      <td>1.000000</td>\n",
       "      <td>-0.011814</td>\n",
       "      <td>0.000102</td>\n",
       "      <td>-0.015082</td>\n",
       "      <td>0.000102</td>\n",
       "      <td>0.004000</td>\n",
       "    </tr>\n",
       "    <tr>\n",
       "      <th>SaleInstrument</th>\n",
       "      <td>-0.018018</td>\n",
       "      <td>-0.490858</td>\n",
       "      <td>0.034371</td>\n",
       "      <td>-0.011814</td>\n",
       "      <td>1.000000</td>\n",
       "      <td>0.034371</td>\n",
       "      <td>-0.016578</td>\n",
       "      <td>0.034371</td>\n",
       "      <td>-0.195967</td>\n",
       "    </tr>\n",
       "    <tr>\n",
       "      <th>NbrLivingUnits</th>\n",
       "      <td>-0.012421</td>\n",
       "      <td>-0.027303</td>\n",
       "      <td>1.000000</td>\n",
       "      <td>0.000102</td>\n",
       "      <td>0.034371</td>\n",
       "      <td>1.000000</td>\n",
       "      <td>-0.007395</td>\n",
       "      <td>1.000000</td>\n",
       "      <td>-0.010151</td>\n",
       "    </tr>\n",
       "    <tr>\n",
       "      <th>SqFtTotLiving</th>\n",
       "      <td>0.006870</td>\n",
       "      <td>0.420863</td>\n",
       "      <td>-0.007395</td>\n",
       "      <td>-0.015082</td>\n",
       "      <td>-0.016578</td>\n",
       "      <td>-0.007395</td>\n",
       "      <td>1.000000</td>\n",
       "      <td>-0.007395</td>\n",
       "      <td>-0.042843</td>\n",
       "    </tr>\n",
       "    <tr>\n",
       "      <th>is_duplex</th>\n",
       "      <td>-0.012421</td>\n",
       "      <td>-0.027303</td>\n",
       "      <td>1.000000</td>\n",
       "      <td>0.000102</td>\n",
       "      <td>0.034371</td>\n",
       "      <td>1.000000</td>\n",
       "      <td>-0.007395</td>\n",
       "      <td>1.000000</td>\n",
       "      <td>-0.010151</td>\n",
       "    </tr>\n",
       "    <tr>\n",
       "      <th>price_per_sf</th>\n",
       "      <td>-0.004077</td>\n",
       "      <td>0.242970</td>\n",
       "      <td>-0.010151</td>\n",
       "      <td>0.004000</td>\n",
       "      <td>-0.195967</td>\n",
       "      <td>-0.010151</td>\n",
       "      <td>-0.042843</td>\n",
       "      <td>-0.010151</td>\n",
       "      <td>1.000000</td>\n",
       "    </tr>\n",
       "  </tbody>\n",
       "</table>\n",
       "</div>"
      ],
      "text/plain": [
       "                ExciseTaxNbr  SalePrice  PropertyType  PrincipalUse  \\\n",
       "ExciseTaxNbr        1.000000   0.014124     -0.012421     -0.006122   \n",
       "SalePrice           0.014124   1.000000     -0.027303      0.009487   \n",
       "PropertyType       -0.012421  -0.027303      1.000000      0.000102   \n",
       "PrincipalUse       -0.006122   0.009487      0.000102      1.000000   \n",
       "SaleInstrument     -0.018018  -0.490858      0.034371     -0.011814   \n",
       "NbrLivingUnits     -0.012421  -0.027303      1.000000      0.000102   \n",
       "SqFtTotLiving       0.006870   0.420863     -0.007395     -0.015082   \n",
       "is_duplex          -0.012421  -0.027303      1.000000      0.000102   \n",
       "price_per_sf       -0.004077   0.242970     -0.010151      0.004000   \n",
       "\n",
       "                SaleInstrument  NbrLivingUnits  SqFtTotLiving  is_duplex  \\\n",
       "ExciseTaxNbr         -0.018018       -0.012421       0.006870  -0.012421   \n",
       "SalePrice            -0.490858       -0.027303       0.420863  -0.027303   \n",
       "PropertyType          0.034371        1.000000      -0.007395   1.000000   \n",
       "PrincipalUse         -0.011814        0.000102      -0.015082   0.000102   \n",
       "SaleInstrument        1.000000        0.034371      -0.016578   0.034371   \n",
       "NbrLivingUnits        0.034371        1.000000      -0.007395   1.000000   \n",
       "SqFtTotLiving        -0.016578       -0.007395       1.000000  -0.007395   \n",
       "is_duplex             0.034371        1.000000      -0.007395   1.000000   \n",
       "price_per_sf         -0.195967       -0.010151      -0.042843  -0.010151   \n",
       "\n",
       "                price_per_sf  \n",
       "ExciseTaxNbr       -0.004077  \n",
       "SalePrice           0.242970  \n",
       "PropertyType       -0.010151  \n",
       "PrincipalUse        0.004000  \n",
       "SaleInstrument     -0.195967  \n",
       "NbrLivingUnits     -0.010151  \n",
       "SqFtTotLiving      -0.042843  \n",
       "is_duplex          -0.010151  \n",
       "price_per_sf        1.000000  "
      ]
     },
     "execution_count": 132,
     "metadata": {},
     "output_type": "execute_result"
    }
   ],
   "source": [
    "# create correlation matrix:\n",
    "corr_x = X.corr()\n",
    "corr_x"
   ]
  },
  {
   "cell_type": "code",
   "execution_count": null,
   "metadata": {},
   "outputs": [],
   "source": [
    "# set up model:\n",
    "f = 'SalePrice ~ T' \n",
    "model = ols(formula = f, data = data).fit()"
   ]
  }
 ],
 "metadata": {
  "kernelspec": {
   "display_name": "Python 3 (oy-env)",
   "language": "python",
   "name": "oy-env"
  },
  "language_info": {
   "codemirror_mode": {
    "name": "ipython",
    "version": 3
   },
   "file_extension": ".py",
   "mimetype": "text/x-python",
   "name": "python",
   "nbconvert_exporter": "python",
   "pygments_lexer": "ipython3",
   "version": "3.8.1"
  }
 },
 "nbformat": 4,
 "nbformat_minor": 4
}
