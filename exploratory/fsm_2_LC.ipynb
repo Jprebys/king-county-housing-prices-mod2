{
 "cells": [
  {
   "cell_type": "code",
   "execution_count": 1,
   "metadata": {},
   "outputs": [],
   "source": [
    "%load_ext autoreload\n",
    "%autoreload 2"
   ]
  },
  {
   "cell_type": "code",
   "execution_count": 2,
   "metadata": {},
   "outputs": [],
   "source": [
    "import os\n",
    "import sys\n",
    "import pandas as pd\n",
    "\n",
    "import statsmodels.api as sm\n",
    "from statsmodels.formula.api import ols"
   ]
  },
  {
   "cell_type": "code",
   "execution_count": 3,
   "metadata": {},
   "outputs": [],
   "source": [
    "module_path = os.path.abspath(os.path.join(os.pardir))\n",
    "if module_path not in sys.path:\n",
    "    sys.path.append(module_path)"
   ]
  },
  {
   "cell_type": "code",
   "execution_count": 4,
   "metadata": {},
   "outputs": [],
   "source": [
    "from src.data_cleaning import cleaning_functions as cfs"
   ]
  },
  {
   "cell_type": "code",
   "execution_count": 6,
   "metadata": {},
   "outputs": [],
   "source": [
    "from src.data_cleaning import create_dfs as cdfs"
   ]
  },
  {
   "cell_type": "markdown",
   "metadata": {},
   "source": [
    "# First Shitty Model\n",
    "\n",
    "In this notebook, I utilised a pre-made function which merges the three tables and isolates down to the logically relevant features.  I will then generate a correlation matrix to inspect which values appear to be most highly correlated with sales price.  I will then create a first shitty model."
   ]
  },
  {
   "cell_type": "code",
   "execution_count": 7,
   "metadata": {},
   "outputs": [
    {
     "name": "stderr",
     "output_type": "stream",
     "text": [
      "/opt/anaconda3/envs/oy-env/lib/python3.8/site-packages/IPython/core/interactiveshell.py:3254: DtypeWarning: Columns (1,2) have mixed types.Specify dtype option on import or set low_memory=False.\n",
      "  if (await self.run_code(code, result,  async_=asy)):\n",
      "/opt/anaconda3/envs/oy-env/lib/python3.8/site-packages/IPython/core/interactiveshell.py:3254: DtypeWarning: Columns (11) have mixed types.Specify dtype option on import or set low_memory=False.\n",
      "  if (await self.run_code(code, result,  async_=asy)):\n"
     ]
    }
   ],
   "source": [
    "df = cdfs.merge_tables()"
   ]
  },
  {
   "cell_type": "code",
   "execution_count": 8,
   "metadata": {},
   "outputs": [
    {
     "data": {
      "text/html": [
       "<div>\n",
       "<style scoped>\n",
       "    .dataframe tbody tr th:only-of-type {\n",
       "        vertical-align: middle;\n",
       "    }\n",
       "\n",
       "    .dataframe tbody tr th {\n",
       "        vertical-align: top;\n",
       "    }\n",
       "\n",
       "    .dataframe thead th {\n",
       "        text-align: right;\n",
       "    }\n",
       "</style>\n",
       "<table border=\"1\" class=\"dataframe\">\n",
       "  <thead>\n",
       "    <tr style=\"text-align: right;\">\n",
       "      <th></th>\n",
       "      <th>excisetaxnbr</th>\n",
       "      <th>major_minor</th>\n",
       "      <th>documentdate</th>\n",
       "      <th>saleprice</th>\n",
       "      <th>recordingnbr</th>\n",
       "      <th>volume</th>\n",
       "      <th>page</th>\n",
       "      <th>platnbr</th>\n",
       "      <th>plattype</th>\n",
       "      <th>platlot</th>\n",
       "      <th>...</th>\n",
       "      <th>seismichazard</th>\n",
       "      <th>landslidehazard</th>\n",
       "      <th>steepslopehazard</th>\n",
       "      <th>stream</th>\n",
       "      <th>wetland</th>\n",
       "      <th>speciesofconcern</th>\n",
       "      <th>sensitiveareatract</th>\n",
       "      <th>waterproblems</th>\n",
       "      <th>transpconcurrency</th>\n",
       "      <th>otherproblems</th>\n",
       "    </tr>\n",
       "  </thead>\n",
       "  <tbody>\n",
       "    <tr>\n",
       "      <th>0</th>\n",
       "      <td>2687551</td>\n",
       "      <td>1388600110</td>\n",
       "      <td>2014-08-21</td>\n",
       "      <td>245000</td>\n",
       "      <td>20140828001436</td>\n",
       "      <td></td>\n",
       "      <td></td>\n",
       "      <td></td>\n",
       "      <td></td>\n",
       "      <td></td>\n",
       "      <td>...</td>\n",
       "      <td>N</td>\n",
       "      <td>N</td>\n",
       "      <td>N</td>\n",
       "      <td>N</td>\n",
       "      <td>N</td>\n",
       "      <td>N</td>\n",
       "      <td>N</td>\n",
       "      <td>N</td>\n",
       "      <td>N</td>\n",
       "      <td>N</td>\n",
       "    </tr>\n",
       "    <tr>\n",
       "      <th>1</th>\n",
       "      <td>1066933</td>\n",
       "      <td>1388600110</td>\n",
       "      <td>1989-06-12</td>\n",
       "      <td>109300</td>\n",
       "      <td>198906191556</td>\n",
       "      <td>144</td>\n",
       "      <td>021</td>\n",
       "      <td>138860</td>\n",
       "      <td>P</td>\n",
       "      <td>11</td>\n",
       "      <td>...</td>\n",
       "      <td>N</td>\n",
       "      <td>N</td>\n",
       "      <td>N</td>\n",
       "      <td>N</td>\n",
       "      <td>N</td>\n",
       "      <td>N</td>\n",
       "      <td>N</td>\n",
       "      <td>N</td>\n",
       "      <td>N</td>\n",
       "      <td>N</td>\n",
       "    </tr>\n",
       "    <tr>\n",
       "      <th>2</th>\n",
       "      <td>2102034</td>\n",
       "      <td>1388600110</td>\n",
       "      <td>2005-01-16</td>\n",
       "      <td>14684</td>\n",
       "      <td>20050216001248</td>\n",
       "      <td></td>\n",
       "      <td></td>\n",
       "      <td></td>\n",
       "      <td></td>\n",
       "      <td></td>\n",
       "      <td>...</td>\n",
       "      <td>N</td>\n",
       "      <td>N</td>\n",
       "      <td>N</td>\n",
       "      <td>N</td>\n",
       "      <td>N</td>\n",
       "      <td>N</td>\n",
       "      <td>N</td>\n",
       "      <td>N</td>\n",
       "      <td>N</td>\n",
       "      <td>N</td>\n",
       "    </tr>\n",
       "    <tr>\n",
       "      <th>3</th>\n",
       "      <td>2131568</td>\n",
       "      <td>1388600110</td>\n",
       "      <td>2005-06-08</td>\n",
       "      <td>0</td>\n",
       "      <td>20050617000041</td>\n",
       "      <td></td>\n",
       "      <td></td>\n",
       "      <td></td>\n",
       "      <td></td>\n",
       "      <td></td>\n",
       "      <td>...</td>\n",
       "      <td>N</td>\n",
       "      <td>N</td>\n",
       "      <td>N</td>\n",
       "      <td>N</td>\n",
       "      <td>N</td>\n",
       "      <td>N</td>\n",
       "      <td>N</td>\n",
       "      <td>N</td>\n",
       "      <td>N</td>\n",
       "      <td>N</td>\n",
       "    </tr>\n",
       "    <tr>\n",
       "      <th>4</th>\n",
       "      <td>2704079</td>\n",
       "      <td>4239430050</td>\n",
       "      <td>2014-10-11</td>\n",
       "      <td>0</td>\n",
       "      <td>20141205000558</td>\n",
       "      <td></td>\n",
       "      <td></td>\n",
       "      <td></td>\n",
       "      <td></td>\n",
       "      <td></td>\n",
       "      <td>...</td>\n",
       "      <td>N</td>\n",
       "      <td>N</td>\n",
       "      <td>N</td>\n",
       "      <td>N</td>\n",
       "      <td>N</td>\n",
       "      <td>N</td>\n",
       "      <td>N</td>\n",
       "      <td>N</td>\n",
       "      <td>N</td>\n",
       "      <td>N</td>\n",
       "    </tr>\n",
       "  </tbody>\n",
       "</table>\n",
       "<p>5 rows × 150 columns</p>\n",
       "</div>"
      ],
      "text/plain": [
       "   excisetaxnbr major_minor documentdate  saleprice    recordingnbr volume  \\\n",
       "0       2687551  1388600110   2014-08-21     245000  20140828001436          \n",
       "1       1066933  1388600110   1989-06-12     109300  198906191556      144   \n",
       "2       2102034  1388600110   2005-01-16      14684  20050216001248          \n",
       "3       2131568  1388600110   2005-06-08          0  20050617000041          \n",
       "4       2704079  4239430050   2014-10-11          0  20141205000558          \n",
       "\n",
       "  page platnbr plattype         platlot  ... seismichazard landslidehazard  \\\n",
       "0                                        ...             N               N   \n",
       "1  021  138860        P  11              ...             N               N   \n",
       "2                                        ...             N               N   \n",
       "3                                        ...             N               N   \n",
       "4                                        ...             N               N   \n",
       "\n",
       "  steepslopehazard  stream  wetland  speciesofconcern sensitiveareatract  \\\n",
       "0                N       N        N                 N                  N   \n",
       "1                N       N        N                 N                  N   \n",
       "2                N       N        N                 N                  N   \n",
       "3                N       N        N                 N                  N   \n",
       "4                N       N        N                 N                  N   \n",
       "\n",
       "  waterproblems transpconcurrency otherproblems  \n",
       "0             N                 N             N  \n",
       "1             N                 N             N  \n",
       "2             N                 N             N  \n",
       "3             N                 N             N  \n",
       "4             N                 N             N  \n",
       "\n",
       "[5 rows x 150 columns]"
      ]
     },
     "execution_count": 8,
     "metadata": {},
     "output_type": "execute_result"
    }
   ],
   "source": [
    "df.head()"
   ]
  },
  {
   "cell_type": "markdown",
   "metadata": {},
   "source": [
    "# Inspect Correlations\n",
    "\n",
    "Now that we have our data, let's find features that might be correlated with `saleprice`"
   ]
  },
  {
   "cell_type": "code",
   "execution_count": 35,
   "metadata": {},
   "outputs": [
    {
     "data": {
      "text/plain": [
       "saleprice              1.000000\n",
       "sqfttotliving          0.172512\n",
       "yrbuilt                0.142634\n",
       "bathfullcount          0.132871\n",
       "bathhalfcount          0.102335\n",
       "sqftopenporch          0.094487\n",
       "bedrooms               0.068942\n",
       "lakewashington         0.060069\n",
       "heatsystem             0.055822\n",
       "territorial            0.052026\n",
       "seattleskyline         0.033873\n",
       "olympics               0.027419\n",
       "wfntlocation           0.027323\n",
       "otherview              0.021933\n",
       "lakesammamish          0.021425\n",
       "bath3qtrcount          0.020641\n",
       "inadequateparking      0.019853\n",
       "cascades               0.019628\n",
       "mtrainier              0.012049\n",
       "sqftdeck               0.010144\n",
       "pugetsound             0.005550\n",
       "airportnoise           0.000642\n",
       "yrrenovated           -0.002249\n",
       "heatsource            -0.002669\n",
       "smalllakerivercreek   -0.005789\n",
       "sqftenclosedporch     -0.006939\n",
       "hbuasifvacant         -0.014063\n",
       "trafficnoise          -0.030762\n",
       "condition             -0.046319\n",
       "Name: saleprice, dtype: float64"
      ]
     },
     "execution_count": 35,
     "metadata": {},
     "output_type": "execute_result"
    }
   ],
   "source": [
    "# create df of correlated values\n",
    "data_corrs = df.corr()\n",
    "\n",
    "# inspect all the correlations with 'saleprice' in descedning order so we can see highest correlations\n",
    "sorted_corrs = data_corrs['saleprice'].sort_values(ascending = False)\n",
    "sorted_corrs"
   ]
  },
  {
   "cell_type": "markdown",
   "metadata": {},
   "source": [
    "### Feature selections:\n",
    "\n",
    "While none are very highly correlated, to start with, let's isolate down to the features that have a correlation coefficient greater that 0.1:"
   ]
  },
  {
   "cell_type": "code",
   "execution_count": 37,
   "metadata": {},
   "outputs": [
    {
     "data": {
      "text/plain": [
       "saleprice        1.000000\n",
       "sqfttotliving    0.172512\n",
       "yrbuilt          0.142634\n",
       "bathfullcount    0.132871\n",
       "bathhalfcount    0.102335\n",
       "Name: saleprice, dtype: float64"
      ]
     },
     "execution_count": 37,
     "metadata": {},
     "output_type": "execute_result"
    }
   ],
   "source": [
    "high_corrs = sorted_corrs[sorted_corrs > 0.1]\n",
    "high_corrs"
   ]
  },
  {
   "cell_type": "markdown",
   "metadata": {},
   "source": [
    "Create `x`, `y` variables containing independent variables of the high correlated features and dependent variables. "
   ]
  },
  {
   "cell_type": "code",
   "execution_count": 55,
   "metadata": {},
   "outputs": [],
   "source": [
    "# create x, y\n",
    "df_high_corrs = df.loc[:, ['saleprice', 'sqfttotliving', 'yrbuilt', 'bathfullcount', 'bathhalfcount']]"
   ]
  },
  {
   "cell_type": "code",
   "execution_count": 72,
   "metadata": {},
   "outputs": [
    {
     "data": {
      "text/html": [
       "<div>\n",
       "<style scoped>\n",
       "    .dataframe tbody tr th:only-of-type {\n",
       "        vertical-align: middle;\n",
       "    }\n",
       "\n",
       "    .dataframe tbody tr th {\n",
       "        vertical-align: top;\n",
       "    }\n",
       "\n",
       "    .dataframe thead th {\n",
       "        text-align: right;\n",
       "    }\n",
       "</style>\n",
       "<table border=\"1\" class=\"dataframe\">\n",
       "  <thead>\n",
       "    <tr style=\"text-align: right;\">\n",
       "      <th></th>\n",
       "      <th>saleprice</th>\n",
       "      <th>sqfttotliving</th>\n",
       "      <th>yrbuilt</th>\n",
       "      <th>bathfullcount</th>\n",
       "      <th>bathhalfcount</th>\n",
       "    </tr>\n",
       "  </thead>\n",
       "  <tbody>\n",
       "    <tr>\n",
       "      <th>0</th>\n",
       "      <td>245000</td>\n",
       "      <td>1490</td>\n",
       "      <td>1989</td>\n",
       "      <td>2</td>\n",
       "      <td>0</td>\n",
       "    </tr>\n",
       "    <tr>\n",
       "      <th>1</th>\n",
       "      <td>109300</td>\n",
       "      <td>1490</td>\n",
       "      <td>1989</td>\n",
       "      <td>2</td>\n",
       "      <td>0</td>\n",
       "    </tr>\n",
       "    <tr>\n",
       "      <th>2</th>\n",
       "      <td>14684</td>\n",
       "      <td>1490</td>\n",
       "      <td>1989</td>\n",
       "      <td>2</td>\n",
       "      <td>0</td>\n",
       "    </tr>\n",
       "    <tr>\n",
       "      <th>3</th>\n",
       "      <td>0</td>\n",
       "      <td>1490</td>\n",
       "      <td>1989</td>\n",
       "      <td>2</td>\n",
       "      <td>0</td>\n",
       "    </tr>\n",
       "    <tr>\n",
       "      <th>4</th>\n",
       "      <td>0</td>\n",
       "      <td>960</td>\n",
       "      <td>1969</td>\n",
       "      <td>1</td>\n",
       "      <td>0</td>\n",
       "    </tr>\n",
       "  </tbody>\n",
       "</table>\n",
       "</div>"
      ],
      "text/plain": [
       "   saleprice  sqfttotliving  yrbuilt  bathfullcount  bathhalfcount\n",
       "0     245000           1490     1989              2              0\n",
       "1     109300           1490     1989              2              0\n",
       "2      14684           1490     1989              2              0\n",
       "3          0           1490     1989              2              0\n",
       "4          0            960     1969              1              0"
      ]
     },
     "execution_count": 72,
     "metadata": {},
     "output_type": "execute_result"
    }
   ],
   "source": [
    "df_high_corrs.head()"
   ]
  },
  {
   "cell_type": "markdown",
   "metadata": {},
   "source": [
    "# WHY ARE THERE 0 VALUES IN SALEPRICE?  THIS SHOULD HAVE ALREADY BEEN FILTERED OUT!!"
   ]
  },
  {
   "cell_type": "markdown",
   "metadata": {},
   "source": [
    "## Fuck sake... continuing on with this anyway just to get a model going... BUT COME BACK TO THIS"
   ]
  },
  {
   "cell_type": "code",
   "execution_count": 71,
   "metadata": {},
   "outputs": [],
   "source": [
    "X = df_high_corrs.drop('saleprice', axis = 1)\n",
    "y = df['saleprice']"
   ]
  },
  {
   "cell_type": "markdown",
   "metadata": {},
   "source": [
    "Let's now inspect how the independent variables are correlated and return only those that have correlation higher than 0.1:"
   ]
  },
  {
   "cell_type": "code",
   "execution_count": 56,
   "metadata": {},
   "outputs": [
    {
     "data": {
      "text/html": [
       "<div>\n",
       "<style scoped>\n",
       "    .dataframe tbody tr th:only-of-type {\n",
       "        vertical-align: middle;\n",
       "    }\n",
       "\n",
       "    .dataframe tbody tr th {\n",
       "        vertical-align: top;\n",
       "    }\n",
       "\n",
       "    .dataframe thead th {\n",
       "        text-align: right;\n",
       "    }\n",
       "</style>\n",
       "<table border=\"1\" class=\"dataframe\">\n",
       "  <thead>\n",
       "    <tr style=\"text-align: right;\">\n",
       "      <th></th>\n",
       "      <th>sqfttotliving</th>\n",
       "      <th>yrbuilt</th>\n",
       "      <th>bathfullcount</th>\n",
       "      <th>bathhalfcount</th>\n",
       "    </tr>\n",
       "  </thead>\n",
       "  <tbody>\n",
       "    <tr>\n",
       "      <th>sqfttotliving</th>\n",
       "      <td>1.000000</td>\n",
       "      <td>0.335074</td>\n",
       "      <td>0.574129</td>\n",
       "      <td>0.390974</td>\n",
       "    </tr>\n",
       "    <tr>\n",
       "      <th>yrbuilt</th>\n",
       "      <td>0.335074</td>\n",
       "      <td>1.000000</td>\n",
       "      <td>0.389081</td>\n",
       "      <td>0.412973</td>\n",
       "    </tr>\n",
       "    <tr>\n",
       "      <th>bathfullcount</th>\n",
       "      <td>0.574129</td>\n",
       "      <td>0.389081</td>\n",
       "      <td>1.000000</td>\n",
       "      <td>0.255087</td>\n",
       "    </tr>\n",
       "    <tr>\n",
       "      <th>bathhalfcount</th>\n",
       "      <td>0.390974</td>\n",
       "      <td>0.412973</td>\n",
       "      <td>0.255087</td>\n",
       "      <td>1.000000</td>\n",
       "    </tr>\n",
       "  </tbody>\n",
       "</table>\n",
       "</div>"
      ],
      "text/plain": [
       "               sqfttotliving   yrbuilt  bathfullcount  bathhalfcount\n",
       "sqfttotliving       1.000000  0.335074       0.574129       0.390974\n",
       "yrbuilt             0.335074  1.000000       0.389081       0.412973\n",
       "bathfullcount       0.574129  0.389081       1.000000       0.255087\n",
       "bathhalfcount       0.390974  0.412973       0.255087       1.000000"
      ]
     },
     "execution_count": 56,
     "metadata": {},
     "output_type": "execute_result"
    }
   ],
   "source": [
    "corr_x = X.corr()\n",
    "corr_x[corr_x > 0.1]"
   ]
  },
  {
   "cell_type": "markdown",
   "metadata": {},
   "source": [
    "### Create multiple linear regression model:"
   ]
  },
  {
   "cell_type": "code",
   "execution_count": 74,
   "metadata": {},
   "outputs": [
    {
     "data": {
      "text/plain": [
       "'saleprice ~ sqfttotliving+yrbuilt+bathfullcount+bathhalfcount'"
      ]
     },
     "execution_count": 74,
     "metadata": {},
     "output_type": "execute_result"
    }
   ],
   "source": [
    "# create formula\n",
    "formula = 'saleprice ~ '\n",
    "for col in X:\n",
    "    formula += col + '+'\n",
    "    \n",
    "f = formula[:-1]\n",
    "f"
   ]
  },
  {
   "cell_type": "code",
   "execution_count": 75,
   "metadata": {},
   "outputs": [],
   "source": [
    "# create model\n",
    "model = ols(formula = f, data = df_high_corrs).fit()"
   ]
  },
  {
   "cell_type": "markdown",
   "metadata": {},
   "source": [
    "#### Let's check this bad boy out:"
   ]
  },
  {
   "cell_type": "code",
   "execution_count": 76,
   "metadata": {},
   "outputs": [
    {
     "data": {
      "text/html": [
       "<table class=\"simpletable\">\n",
       "<caption>OLS Regression Results</caption>\n",
       "<tr>\n",
       "  <th>Dep. Variable:</th>        <td>saleprice</td>    <th>  R-squared:         </th>  <td>   0.038</td>  \n",
       "</tr>\n",
       "<tr>\n",
       "  <th>Model:</th>                   <td>OLS</td>       <th>  Adj. R-squared:    </th>  <td>   0.038</td>  \n",
       "</tr>\n",
       "<tr>\n",
       "  <th>Method:</th>             <td>Least Squares</td>  <th>  F-statistic:       </th>  <td>1.487e+04</td> \n",
       "</tr>\n",
       "<tr>\n",
       "  <th>Date:</th>             <td>Mon, 15 Jun 2020</td> <th>  Prob (F-statistic):</th>   <td>  0.00</td>   \n",
       "</tr>\n",
       "<tr>\n",
       "  <th>Time:</th>                 <td>20:52:28</td>     <th>  Log-Likelihood:    </th> <td>-2.2571e+07</td>\n",
       "</tr>\n",
       "<tr>\n",
       "  <th>No. Observations:</th>      <td>1492777</td>     <th>  AIC:               </th>  <td>4.514e+07</td> \n",
       "</tr>\n",
       "<tr>\n",
       "  <th>Df Residuals:</th>          <td>1492772</td>     <th>  BIC:               </th>  <td>4.514e+07</td> \n",
       "</tr>\n",
       "<tr>\n",
       "  <th>Df Model:</th>              <td>     4</td>      <th>                     </th>      <td> </td>     \n",
       "</tr>\n",
       "<tr>\n",
       "  <th>Covariance Type:</th>      <td>nonrobust</td>    <th>                     </th>      <td> </td>     \n",
       "</tr>\n",
       "</table>\n",
       "<table class=\"simpletable\">\n",
       "<tr>\n",
       "        <td></td>           <th>coef</th>     <th>std err</th>      <th>t</th>      <th>P>|t|</th>  <th>[0.025</th>    <th>0.975]</th>  \n",
       "</tr>\n",
       "<tr>\n",
       "  <th>Intercept</th>     <td>-5.176e+06</td> <td> 5.52e+04</td> <td>  -93.719</td> <td> 0.000</td> <td>-5.28e+06</td> <td>-5.07e+06</td>\n",
       "</tr>\n",
       "<tr>\n",
       "  <th>sqfttotliving</th> <td>  112.9763</td> <td>    0.933</td> <td>  121.098</td> <td> 0.000</td> <td>  111.148</td> <td>  114.805</td>\n",
       "</tr>\n",
       "<tr>\n",
       "  <th>yrbuilt</th>       <td> 2638.4467</td> <td>   28.438</td> <td>   92.780</td> <td> 0.000</td> <td> 2582.710</td> <td> 2694.184</td>\n",
       "</tr>\n",
       "<tr>\n",
       "  <th>bathfullcount</th> <td> 3.163e+04</td> <td> 1306.796</td> <td>   24.205</td> <td> 0.000</td> <td> 2.91e+04</td> <td> 3.42e+04</td>\n",
       "</tr>\n",
       "<tr>\n",
       "  <th>bathhalfcount</th> <td> 1.942e+04</td> <td> 1556.627</td> <td>   12.476</td> <td> 0.000</td> <td> 1.64e+04</td> <td> 2.25e+04</td>\n",
       "</tr>\n",
       "</table>\n",
       "<table class=\"simpletable\">\n",
       "<tr>\n",
       "  <th>Omnibus:</th>       <td>3545923.762</td> <th>  Durbin-Watson:     </th>     <td>   1.926</td>    \n",
       "</tr>\n",
       "<tr>\n",
       "  <th>Prob(Omnibus):</th>   <td> 0.000</td>    <th>  Jarque-Bera (JB):  </th> <td>315420110054.170</td>\n",
       "</tr>\n",
       "<tr>\n",
       "  <th>Skew:</th>            <td>23.254</td>    <th>  Prob(JB):          </th>     <td>    0.00</td>    \n",
       "</tr>\n",
       "<tr>\n",
       "  <th>Kurtosis:</th>       <td>2254.439</td>   <th>  Cond. No.          </th>     <td>2.28e+05</td>    \n",
       "</tr>\n",
       "</table><br/><br/>Warnings:<br/>[1] Standard Errors assume that the covariance matrix of the errors is correctly specified.<br/>[2] The condition number is large, 2.28e+05. This might indicate that there are<br/>strong multicollinearity or other numerical problems."
      ],
      "text/plain": [
       "<class 'statsmodels.iolib.summary.Summary'>\n",
       "\"\"\"\n",
       "                            OLS Regression Results                            \n",
       "==============================================================================\n",
       "Dep. Variable:              saleprice   R-squared:                       0.038\n",
       "Model:                            OLS   Adj. R-squared:                  0.038\n",
       "Method:                 Least Squares   F-statistic:                 1.487e+04\n",
       "Date:                Mon, 15 Jun 2020   Prob (F-statistic):               0.00\n",
       "Time:                        20:52:28   Log-Likelihood:            -2.2571e+07\n",
       "No. Observations:             1492777   AIC:                         4.514e+07\n",
       "Df Residuals:                 1492772   BIC:                         4.514e+07\n",
       "Df Model:                           4                                         \n",
       "Covariance Type:            nonrobust                                         \n",
       "=================================================================================\n",
       "                    coef    std err          t      P>|t|      [0.025      0.975]\n",
       "---------------------------------------------------------------------------------\n",
       "Intercept     -5.176e+06   5.52e+04    -93.719      0.000   -5.28e+06   -5.07e+06\n",
       "sqfttotliving   112.9763      0.933    121.098      0.000     111.148     114.805\n",
       "yrbuilt        2638.4467     28.438     92.780      0.000    2582.710    2694.184\n",
       "bathfullcount  3.163e+04   1306.796     24.205      0.000    2.91e+04    3.42e+04\n",
       "bathhalfcount  1.942e+04   1556.627     12.476      0.000    1.64e+04    2.25e+04\n",
       "==============================================================================\n",
       "Omnibus:                  3545923.762   Durbin-Watson:                   1.926\n",
       "Prob(Omnibus):                  0.000   Jarque-Bera (JB):     315420110054.170\n",
       "Skew:                          23.254   Prob(JB):                         0.00\n",
       "Kurtosis:                    2254.439   Cond. No.                     2.28e+05\n",
       "==============================================================================\n",
       "\n",
       "Warnings:\n",
       "[1] Standard Errors assume that the covariance matrix of the errors is correctly specified.\n",
       "[2] The condition number is large, 2.28e+05. This might indicate that there are\n",
       "strong multicollinearity or other numerical problems.\n",
       "\"\"\""
      ]
     },
     "execution_count": 76,
     "metadata": {},
     "output_type": "execute_result"
    }
   ],
   "source": [
    "model.summary()"
   ]
  },
  {
   "cell_type": "code",
   "execution_count": null,
   "metadata": {},
   "outputs": [],
   "source": []
  }
 ],
 "metadata": {
  "kernelspec": {
   "display_name": "Python 3 (oy-env)",
   "language": "python",
   "name": "oy-env"
  },
  "language_info": {
   "codemirror_mode": {
    "name": "ipython",
    "version": 3
   },
   "file_extension": ".py",
   "mimetype": "text/x-python",
   "name": "python",
   "nbconvert_exporter": "python",
   "pygments_lexer": "ipython3",
   "version": "3.8.1"
  }
 },
 "nbformat": 4,
 "nbformat_minor": 4
}
