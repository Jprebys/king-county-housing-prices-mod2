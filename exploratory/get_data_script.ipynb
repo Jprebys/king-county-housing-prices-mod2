{
 "cells": [
  {
   "cell_type": "markdown",
   "metadata": {},
   "source": [
    "# Data Fetch and Download:\n",
    "\n",
    "Run the cells in this notebook to fetch and download the relevant data from the King County website.  \n",
    "\n",
    "This will download 3 .zip files into the `/data/raw` folder and then unzip the .csv files into the `/data` folder:  \n",
    "- Real Property Sales\n",
    "- Parcel\n",
    "- Residential Building\n",
    "\n",
    "Note:  if you don't already have a `/data` folder, these commands will create one for you."
   ]
  },
  {
   "cell_type": "markdown",
   "metadata": {},
   "source": [
    "### Bash commands to get data:"
   ]
  },
  {
   "cell_type": "markdown",
   "metadata": {},
   "source": [
    "#### Real Property Sales:"
   ]
  },
  {
   "cell_type": "code",
   "execution_count": 1,
   "metadata": {},
   "outputs": [
    {
     "name": "stdout",
     "output_type": "stream",
     "text": [
      "--2020-06-14 15:51:54--  https://aqua.kingcounty.gov/extranet/assessor/Real%20Property%20Sales.zip\n",
      "Resolving aqua.kingcounty.gov (aqua.kingcounty.gov)... 146.129.240.28\n",
      "Connecting to aqua.kingcounty.gov (aqua.kingcounty.gov)|146.129.240.28|:443... connected.\n",
      "HTTP request sent, awaiting response... 200 OK\n",
      "Length: 128312536 (122M) [application/x-zip-compressed]\n",
      "Saving to: ‘../data/raw/Real Property Sales.zip’\n",
      "\n",
      "Real Property Sales 100%[===================>] 122.37M  4.41MB/s    in 36s     \n",
      "\n",
      "2020-06-14 15:52:31 (3.35 MB/s) - ‘../data/raw/Real Property Sales.zip’ saved [128312536/128312536]\n",
      "\n"
     ]
    }
   ],
   "source": [
    "# Get real property sales zip file:\n",
    "! wget -P ../data/raw https://aqua.kingcounty.gov/extranet/assessor/Real%20Property%20Sales.zip"
   ]
  },
  {
   "cell_type": "code",
   "execution_count": 2,
   "metadata": {},
   "outputs": [
    {
     "name": "stdout",
     "output_type": "stream",
     "text": [
      "Archive:  ../data/raw/Real Property Sales.zip\n",
      "  inflating: ../data/EXTR_RPSale.csv  \n"
     ]
    }
   ],
   "source": [
    "# unzip real property sales zip file:\n",
    "! unzip ../data/raw/Real\\ Property\\ Sales.zip -d ../data"
   ]
  },
  {
   "cell_type": "markdown",
   "metadata": {},
   "source": [
    "#### Parcel:"
   ]
  },
  {
   "cell_type": "code",
   "execution_count": 3,
   "metadata": {},
   "outputs": [
    {
     "name": "stdout",
     "output_type": "stream",
     "text": [
      "--2020-06-14 15:55:58--  https://aqua.kingcounty.gov/extranet/assessor/Parcel.zip\n",
      "Resolving aqua.kingcounty.gov (aqua.kingcounty.gov)... 146.129.240.28\n",
      "Connecting to aqua.kingcounty.gov (aqua.kingcounty.gov)|146.129.240.28|:443... connected.\n",
      "HTTP request sent, awaiting response... 200 OK\n",
      "Length: 30467367 (29M) [application/x-zip-compressed]\n",
      "Saving to: ‘../data/raw/Parcel.zip’\n",
      "\n",
      "Parcel.zip          100%[===================>]  29.06M  3.54MB/s    in 11s     \n",
      "\n",
      "2020-06-14 15:56:10 (2.57 MB/s) - ‘../data/raw/Parcel.zip’ saved [30467367/30467367]\n",
      "\n"
     ]
    }
   ],
   "source": [
    "# Get parcel zip file:\n",
    "! wget -P ../data/raw https://aqua.kingcounty.gov/extranet/assessor/Parcel.zip"
   ]
  },
  {
   "cell_type": "code",
   "execution_count": 4,
   "metadata": {},
   "outputs": [
    {
     "name": "stdout",
     "output_type": "stream",
     "text": [
      "Archive:  ../data/raw/Parcel.zip\n",
      "  inflating: ../data/EXTR_Parcel.csv  \n"
     ]
    }
   ],
   "source": [
    "# unzip real property sales zip file:\n",
    "! unzip ../data/raw/Parcel.zip -d ../data"
   ]
  },
  {
   "cell_type": "markdown",
   "metadata": {},
   "source": [
    "#### Residential Building:"
   ]
  },
  {
   "cell_type": "code",
   "execution_count": 5,
   "metadata": {},
   "outputs": [
    {
     "name": "stdout",
     "output_type": "stream",
     "text": [
      "--2020-06-14 15:56:39--  https://aqua.kingcounty.gov/extranet/assessor/Residential%20Building.zip\n",
      "Resolving aqua.kingcounty.gov (aqua.kingcounty.gov)... 146.129.240.28\n",
      "Connecting to aqua.kingcounty.gov (aqua.kingcounty.gov)|146.129.240.28|:443... connected.\n",
      "HTTP request sent, awaiting response... 200 OK\n",
      "Length: 24615574 (23M) [application/x-zip-compressed]\n",
      "Saving to: ‘../data/raw/Residential Building.zip’\n",
      "\n",
      "Residential Buildin 100%[===================>]  23.47M  3.84MB/s    in 6.2s    \n",
      "\n",
      "2020-06-14 15:56:45 (3.79 MB/s) - ‘../data/raw/Residential Building.zip’ saved [24615574/24615574]\n",
      "\n"
     ]
    }
   ],
   "source": [
    "# Get parcel zip file:\n",
    "! wget -P ../data/raw https://aqua.kingcounty.gov/extranet/assessor/Residential%20Building.zip"
   ]
  },
  {
   "cell_type": "code",
   "execution_count": 6,
   "metadata": {},
   "outputs": [
    {
     "name": "stdout",
     "output_type": "stream",
     "text": [
      "Archive:  ../data/raw/Residential Building.zip\n",
      "  inflating: ../data/EXTR_ResBldg.csv  \n"
     ]
    }
   ],
   "source": [
    "# unzip real property sales zip file:\n",
    "! unzip ../data/raw/Residential\\ Building.zip -d ../data"
   ]
  },
  {
   "cell_type": "markdown",
   "metadata": {},
   "source": [
    "#### Look up:"
   ]
  },
  {
   "cell_type": "code",
   "execution_count": 1,
   "metadata": {},
   "outputs": [
    {
     "name": "stdout",
     "output_type": "stream",
     "text": [
      "--2020-06-15 10:03:35--  https://aqua.kingcounty.gov/extranet/assessor/Lookup.zip\n",
      "Resolving aqua.kingcounty.gov (aqua.kingcounty.gov)... 146.129.240.28\n",
      "Connecting to aqua.kingcounty.gov (aqua.kingcounty.gov)|146.129.240.28|:443... connected.\n",
      "HTTP request sent, awaiting response... 200 OK\n",
      "Length: 16114 (16K) [application/x-zip-compressed]\n",
      "Saving to: ‘../data/raw/Lookup.zip’\n",
      "\n",
      "Lookup.zip          100%[===================>]  15.74K  --.-KB/s    in 0s      \n",
      "\n",
      "2020-06-15 10:03:35 (142 MB/s) - ‘../data/raw/Lookup.zip’ saved [16114/16114]\n",
      "\n"
     ]
    }
   ],
   "source": [
    "! wget -P ../data/raw https://aqua.kingcounty.gov/extranet/assessor/Lookup.zip"
   ]
  },
  {
   "cell_type": "code",
   "execution_count": 3,
   "metadata": {},
   "outputs": [
    {
     "name": "stdout",
     "output_type": "stream",
     "text": [
      "Archive:  ../data/raw/Lookup.zip\n",
      "  inflating: ../data/EXTR_LookUp.csv  \n"
     ]
    }
   ],
   "source": [
    "! unzip ../data/raw/Lookup.zip -d ../data"
   ]
  },
  {
   "cell_type": "code",
   "execution_count": null,
   "metadata": {},
   "outputs": [],
   "source": []
  }
 ],
 "metadata": {
  "kernelspec": {
   "display_name": "learn-env",
   "language": "python",
   "name": "learn-env"
  },
  "language_info": {
   "codemirror_mode": {
    "name": "ipython",
    "version": 3
   },
   "file_extension": ".py",
   "mimetype": "text/x-python",
   "name": "python",
   "nbconvert_exporter": "python",
   "pygments_lexer": "ipython3",
   "version": "3.6.9"
  }
 },
 "nbformat": 4,
 "nbformat_minor": 4
}
