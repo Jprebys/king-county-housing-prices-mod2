{
 "cells": [
  {
   "cell_type": "markdown",
   "metadata": {},
   "source": [
    "#### Using a statistical test to tackle one of the claims of our project. Does having a porch affect saleprice? ####"
   ]
  },
  {
   "cell_type": "code",
   "execution_count": 29,
   "metadata": {},
   "outputs": [],
   "source": [
    "import numpy as np\n",
    "import pandas as pd\n",
    "import scipy.stats as stats\n",
    "import matplotlib.pyplot as plt\n",
    "import seaborn as sns\n",
    "import statsmodels.api as sm\n",
    "from statsmodels.formula.api import ols\n",
    "%matplotlib inline\n",
    "from statsmodels.stats.diagnostic import linear_rainbow, het_breuschpagan\n",
    "from statsmodels.stats.outliers_influence import variance_inflation_factor\n",
    "plt.style.use('seaborn')"
   ]
  },
  {
   "cell_type": "code",
   "execution_count": 40,
   "metadata": {},
   "outputs": [],
   "source": [
    "df = pd.read_csv('../leana_m1', index_col=0)"
   ]
  },
  {
   "cell_type": "code",
   "execution_count": 5,
   "metadata": {},
   "outputs": [
    {
     "data": {
      "text/plain": [
       "Index(['documentdate', 'saleprice', 'propertytype', 'principaluse',\n",
       "       'saleinstrument', 'currentuseland', 'historicproperty', 'salereason',\n",
       "       'propertyclass', 'zipcode', 'streettype', 'stories', 'buildinggrade',\n",
       "       'squarefeettotalliving', 'squarefeettotalbasement',\n",
       "       'squarefeetgarageattached', 'squarefeetopenporch',\n",
       "       'squarefeetenclosedporch', 'squarefeetdeck', 'bedrooms',\n",
       "       'bathhalfcount', 'bath3qtrcount', 'bathfullcount',\n",
       "       'fireplacesinglestory', 'fireplacemultiplestory',\n",
       "       'fireplacefreestanding', 'fireplaceadditional', 'yearbuilt',\n",
       "       'yearrenovated', 'percentcomplete', 'obsolescence',\n",
       "       'percentnetcondition', 'condition', 'township', 'propertytype.1',\n",
       "       'districtname', 'levycode', 'lotsquarefootage', 'watersystem', 'access',\n",
       "       'topography', 'viewmtranier', 'viewolympics', 'viewcascades',\n",
       "       'viewterritorial', 'viewseattleskyline', 'viewpugetsound',\n",
       "       'viewlakewashington', 'viewlakesammamish', 'viewsmalllakerivercreek',\n",
       "       'viewotherview', 'waterfrontlocation', 'waterfrontfootage',\n",
       "       'waterfrontbank', 'waterfrontpoorqualtiy', 'waterfrontrestrictedaccess',\n",
       "       'waterfrontaccessrights', 'waterfrontproximityinfluence',\n",
       "       'tidelandshoreland', 'lotdepthfactopr', 'trafficnoise', 'airportnoise',\n",
       "       'powerlines', 'othernuisances', 'bathtotcount'],\n",
       "      dtype='object')"
      ]
     },
     "execution_count": 5,
     "metadata": {},
     "output_type": "execute_result"
    }
   ],
   "source": [
    "df.columns"
   ]
  },
  {
   "cell_type": "code",
   "execution_count": 41,
   "metadata": {},
   "outputs": [
    {
     "data": {
      "text/html": [
       "<div>\n",
       "<style scoped>\n",
       "    .dataframe tbody tr th:only-of-type {\n",
       "        vertical-align: middle;\n",
       "    }\n",
       "\n",
       "    .dataframe tbody tr th {\n",
       "        vertical-align: top;\n",
       "    }\n",
       "\n",
       "    .dataframe thead th {\n",
       "        text-align: right;\n",
       "    }\n",
       "</style>\n",
       "<table border=\"1\" class=\"dataframe\">\n",
       "  <thead>\n",
       "    <tr style=\"text-align: right;\">\n",
       "      <th></th>\n",
       "      <th>saleprice</th>\n",
       "      <th>propertytype</th>\n",
       "      <th>principaluse</th>\n",
       "      <th>saleinstrument</th>\n",
       "      <th>salereason</th>\n",
       "      <th>propertyclass</th>\n",
       "      <th>zipcode</th>\n",
       "      <th>stories</th>\n",
       "      <th>buildinggrade</th>\n",
       "      <th>squarefeettotalliving</th>\n",
       "      <th>...</th>\n",
       "      <th>waterfrontfootage</th>\n",
       "      <th>waterfrontbank</th>\n",
       "      <th>waterfrontpoorqualtiy</th>\n",
       "      <th>waterfrontrestrictedaccess</th>\n",
       "      <th>waterfrontaccessrights</th>\n",
       "      <th>lotdepthfactopr</th>\n",
       "      <th>trafficnoise</th>\n",
       "      <th>airportnoise</th>\n",
       "      <th>powerlines</th>\n",
       "      <th>bathtotcount</th>\n",
       "    </tr>\n",
       "  </thead>\n",
       "  <tbody>\n",
       "    <tr>\n",
       "      <th>count</th>\n",
       "      <td>1.817000e+04</td>\n",
       "      <td>18170.000000</td>\n",
       "      <td>18170.0</td>\n",
       "      <td>18170.000000</td>\n",
       "      <td>18170.000000</td>\n",
       "      <td>18170.000000</td>\n",
       "      <td>15809.000000</td>\n",
       "      <td>18170.000000</td>\n",
       "      <td>18170.000000</td>\n",
       "      <td>18170.000000</td>\n",
       "      <td>...</td>\n",
       "      <td>18170.000000</td>\n",
       "      <td>18170.000000</td>\n",
       "      <td>18170.000000</td>\n",
       "      <td>18170.000000</td>\n",
       "      <td>18170.000000</td>\n",
       "      <td>18170.000000</td>\n",
       "      <td>18170.000000</td>\n",
       "      <td>18170.000000</td>\n",
       "      <td>18170.0</td>\n",
       "      <td>18170.000000</td>\n",
       "    </tr>\n",
       "    <tr>\n",
       "      <th>mean</th>\n",
       "      <td>7.336265e+05</td>\n",
       "      <td>11.028178</td>\n",
       "      <td>6.0</td>\n",
       "      <td>2.998349</td>\n",
       "      <td>1.001871</td>\n",
       "      <td>7.993286</td>\n",
       "      <td>98065.593902</td>\n",
       "      <td>1.551403</td>\n",
       "      <td>7.611392</td>\n",
       "      <td>2052.463181</td>\n",
       "      <td>...</td>\n",
       "      <td>0.072262</td>\n",
       "      <td>0.971106</td>\n",
       "      <td>0.015080</td>\n",
       "      <td>0.000385</td>\n",
       "      <td>0.004128</td>\n",
       "      <td>0.007650</td>\n",
       "      <td>0.030875</td>\n",
       "      <td>0.198624</td>\n",
       "      <td>0.0</td>\n",
       "      <td>2.157512</td>\n",
       "    </tr>\n",
       "    <tr>\n",
       "      <th>std</th>\n",
       "      <td>3.686900e+05</td>\n",
       "      <td>0.308891</td>\n",
       "      <td>0.0</td>\n",
       "      <td>0.040601</td>\n",
       "      <td>0.178351</td>\n",
       "      <td>0.081668</td>\n",
       "      <td>1104.526976</td>\n",
       "      <td>0.558065</td>\n",
       "      <td>1.071731</td>\n",
       "      <td>807.330871</td>\n",
       "      <td>...</td>\n",
       "      <td>0.731802</td>\n",
       "      <td>16.255006</td>\n",
       "      <td>0.163529</td>\n",
       "      <td>0.019625</td>\n",
       "      <td>0.095207</td>\n",
       "      <td>0.123236</td>\n",
       "      <td>1.583976</td>\n",
       "      <td>0.542546</td>\n",
       "      <td>0.0</td>\n",
       "      <td>0.731128</td>\n",
       "    </tr>\n",
       "    <tr>\n",
       "      <th>min</th>\n",
       "      <td>5.000000e+03</td>\n",
       "      <td>11.000000</td>\n",
       "      <td>6.0</td>\n",
       "      <td>2.000000</td>\n",
       "      <td>1.000000</td>\n",
       "      <td>7.000000</td>\n",
       "      <td>98.000000</td>\n",
       "      <td>1.000000</td>\n",
       "      <td>1.000000</td>\n",
       "      <td>250.000000</td>\n",
       "      <td>...</td>\n",
       "      <td>0.000000</td>\n",
       "      <td>0.000000</td>\n",
       "      <td>0.000000</td>\n",
       "      <td>0.000000</td>\n",
       "      <td>0.000000</td>\n",
       "      <td>0.000000</td>\n",
       "      <td>0.000000</td>\n",
       "      <td>0.000000</td>\n",
       "      <td>0.0</td>\n",
       "      <td>0.500000</td>\n",
       "    </tr>\n",
       "    <tr>\n",
       "      <th>25%</th>\n",
       "      <td>4.690000e+05</td>\n",
       "      <td>11.000000</td>\n",
       "      <td>6.0</td>\n",
       "      <td>3.000000</td>\n",
       "      <td>1.000000</td>\n",
       "      <td>8.000000</td>\n",
       "      <td>98032.000000</td>\n",
       "      <td>1.000000</td>\n",
       "      <td>7.000000</td>\n",
       "      <td>1440.000000</td>\n",
       "      <td>...</td>\n",
       "      <td>0.000000</td>\n",
       "      <td>0.000000</td>\n",
       "      <td>0.000000</td>\n",
       "      <td>0.000000</td>\n",
       "      <td>0.000000</td>\n",
       "      <td>0.000000</td>\n",
       "      <td>0.000000</td>\n",
       "      <td>0.000000</td>\n",
       "      <td>0.0</td>\n",
       "      <td>1.750000</td>\n",
       "    </tr>\n",
       "    <tr>\n",
       "      <th>50%</th>\n",
       "      <td>6.500000e+05</td>\n",
       "      <td>11.000000</td>\n",
       "      <td>6.0</td>\n",
       "      <td>3.000000</td>\n",
       "      <td>1.000000</td>\n",
       "      <td>8.000000</td>\n",
       "      <td>98059.000000</td>\n",
       "      <td>2.000000</td>\n",
       "      <td>7.000000</td>\n",
       "      <td>1930.000000</td>\n",
       "      <td>...</td>\n",
       "      <td>0.000000</td>\n",
       "      <td>0.000000</td>\n",
       "      <td>0.000000</td>\n",
       "      <td>0.000000</td>\n",
       "      <td>0.000000</td>\n",
       "      <td>0.000000</td>\n",
       "      <td>0.000000</td>\n",
       "      <td>0.000000</td>\n",
       "      <td>0.0</td>\n",
       "      <td>2.250000</td>\n",
       "    </tr>\n",
       "    <tr>\n",
       "      <th>75%</th>\n",
       "      <td>8.800000e+05</td>\n",
       "      <td>11.000000</td>\n",
       "      <td>6.0</td>\n",
       "      <td>3.000000</td>\n",
       "      <td>1.000000</td>\n",
       "      <td>8.000000</td>\n",
       "      <td>98118.000000</td>\n",
       "      <td>2.000000</td>\n",
       "      <td>8.000000</td>\n",
       "      <td>2560.000000</td>\n",
       "      <td>...</td>\n",
       "      <td>0.000000</td>\n",
       "      <td>0.000000</td>\n",
       "      <td>0.000000</td>\n",
       "      <td>0.000000</td>\n",
       "      <td>0.000000</td>\n",
       "      <td>0.000000</td>\n",
       "      <td>0.000000</td>\n",
       "      <td>0.000000</td>\n",
       "      <td>0.0</td>\n",
       "      <td>2.500000</td>\n",
       "    </tr>\n",
       "    <tr>\n",
       "      <th>max</th>\n",
       "      <td>2.498000e+06</td>\n",
       "      <td>18.000000</td>\n",
       "      <td>6.0</td>\n",
       "      <td>3.000000</td>\n",
       "      <td>18.000000</td>\n",
       "      <td>8.000000</td>\n",
       "      <td>98812.000000</td>\n",
       "      <td>4.000000</td>\n",
       "      <td>12.000000</td>\n",
       "      <td>4490.000000</td>\n",
       "      <td>...</td>\n",
       "      <td>9.000000</td>\n",
       "      <td>1610.000000</td>\n",
       "      <td>3.000000</td>\n",
       "      <td>1.000000</td>\n",
       "      <td>3.000000</td>\n",
       "      <td>3.000000</td>\n",
       "      <td>96.000000</td>\n",
       "      <td>3.000000</td>\n",
       "      <td>0.0</td>\n",
       "      <td>6.250000</td>\n",
       "    </tr>\n",
       "  </tbody>\n",
       "</table>\n",
       "<p>8 rows × 55 columns</p>\n",
       "</div>"
      ],
      "text/plain": [
       "          saleprice  propertytype  principaluse  saleinstrument    salereason  \\\n",
       "count  1.817000e+04  18170.000000       18170.0    18170.000000  18170.000000   \n",
       "mean   7.336265e+05     11.028178           6.0        2.998349      1.001871   \n",
       "std    3.686900e+05      0.308891           0.0        0.040601      0.178351   \n",
       "min    5.000000e+03     11.000000           6.0        2.000000      1.000000   \n",
       "25%    4.690000e+05     11.000000           6.0        3.000000      1.000000   \n",
       "50%    6.500000e+05     11.000000           6.0        3.000000      1.000000   \n",
       "75%    8.800000e+05     11.000000           6.0        3.000000      1.000000   \n",
       "max    2.498000e+06     18.000000           6.0        3.000000     18.000000   \n",
       "\n",
       "       propertyclass       zipcode       stories  buildinggrade  \\\n",
       "count   18170.000000  15809.000000  18170.000000   18170.000000   \n",
       "mean        7.993286  98065.593902      1.551403       7.611392   \n",
       "std         0.081668   1104.526976      0.558065       1.071731   \n",
       "min         7.000000     98.000000      1.000000       1.000000   \n",
       "25%         8.000000  98032.000000      1.000000       7.000000   \n",
       "50%         8.000000  98059.000000      2.000000       7.000000   \n",
       "75%         8.000000  98118.000000      2.000000       8.000000   \n",
       "max         8.000000  98812.000000      4.000000      12.000000   \n",
       "\n",
       "       squarefeettotalliving  ...  waterfrontfootage  waterfrontbank  \\\n",
       "count           18170.000000  ...       18170.000000    18170.000000   \n",
       "mean             2052.463181  ...           0.072262        0.971106   \n",
       "std               807.330871  ...           0.731802       16.255006   \n",
       "min               250.000000  ...           0.000000        0.000000   \n",
       "25%              1440.000000  ...           0.000000        0.000000   \n",
       "50%              1930.000000  ...           0.000000        0.000000   \n",
       "75%              2560.000000  ...           0.000000        0.000000   \n",
       "max              4490.000000  ...           9.000000     1610.000000   \n",
       "\n",
       "       waterfrontpoorqualtiy  waterfrontrestrictedaccess  \\\n",
       "count           18170.000000                18170.000000   \n",
       "mean                0.015080                    0.000385   \n",
       "std                 0.163529                    0.019625   \n",
       "min                 0.000000                    0.000000   \n",
       "25%                 0.000000                    0.000000   \n",
       "50%                 0.000000                    0.000000   \n",
       "75%                 0.000000                    0.000000   \n",
       "max                 3.000000                    1.000000   \n",
       "\n",
       "       waterfrontaccessrights  lotdepthfactopr  trafficnoise  airportnoise  \\\n",
       "count            18170.000000     18170.000000  18170.000000  18170.000000   \n",
       "mean                 0.004128         0.007650      0.030875      0.198624   \n",
       "std                  0.095207         0.123236      1.583976      0.542546   \n",
       "min                  0.000000         0.000000      0.000000      0.000000   \n",
       "25%                  0.000000         0.000000      0.000000      0.000000   \n",
       "50%                  0.000000         0.000000      0.000000      0.000000   \n",
       "75%                  0.000000         0.000000      0.000000      0.000000   \n",
       "max                  3.000000         3.000000     96.000000      3.000000   \n",
       "\n",
       "       powerlines  bathtotcount  \n",
       "count     18170.0  18170.000000  \n",
       "mean          0.0      2.157512  \n",
       "std           0.0      0.731128  \n",
       "min           0.0      0.500000  \n",
       "25%           0.0      1.750000  \n",
       "50%           0.0      2.250000  \n",
       "75%           0.0      2.500000  \n",
       "max           0.0      6.250000  \n",
       "\n",
       "[8 rows x 55 columns]"
      ]
     },
     "execution_count": 41,
     "metadata": {},
     "output_type": "execute_result"
    }
   ],
   "source": [
    "df.describe()"
   ]
  },
  {
   "cell_type": "code",
   "execution_count": 9,
   "metadata": {},
   "outputs": [],
   "source": [
    "df_porch = df[(df['squarefeetopenporch'] > 0) | (df['squarefeetenclosedporch'] > 0)].saleprice"
   ]
  },
  {
   "cell_type": "code",
   "execution_count": 11,
   "metadata": {},
   "outputs": [
    {
     "data": {
      "text/plain": [
       "9403"
      ]
     },
     "execution_count": 11,
     "metadata": {},
     "output_type": "execute_result"
    }
   ],
   "source": [
    "len(df_porch)"
   ]
  },
  {
   "cell_type": "code",
   "execution_count": 16,
   "metadata": {},
   "outputs": [],
   "source": [
    "df_noporch = df[~(df['squarefeetopenporch'] > 0) | (df['squarefeetenclosedporch'] > 0)].saleprice"
   ]
  },
  {
   "cell_type": "code",
   "execution_count": 18,
   "metadata": {},
   "outputs": [
    {
     "data": {
      "text/plain": [
       "9553"
      ]
     },
     "execution_count": 18,
     "metadata": {},
     "output_type": "execute_result"
    }
   ],
   "source": [
    "len(df_noporch)"
   ]
  },
  {
   "cell_type": "markdown",
   "metadata": {},
   "source": [
    "**Ho: the mean home sale prices of homes with a porch are less than or equal to homes without a porch**\n",
    "\n",
    "**Ha: the mean home sale prices of homes with a porch are higher than homes without a porch**\n",
    "\n",
    "performing a two sample onetailed Welch's ttest to check this\n",
    "\n",
    "setting ***alpha*** at 0.05"
   ]
  },
  {
   "cell_type": "code",
   "execution_count": 33,
   "metadata": {},
   "outputs": [
    {
     "data": {
      "text/plain": [
       "Ttest_indResult(statistic=27.511076479143583, pvalue=3.399103034834849e-163)"
      ]
     },
     "execution_count": 33,
     "metadata": {},
     "output_type": "execute_result"
    }
   ],
   "source": [
    "test_result = stats.ttest_ind(df_porch, df_noporch, equal_var=False)\n",
    "test_result"
   ]
  },
  {
   "cell_type": "code",
   "execution_count": 30,
   "metadata": {},
   "outputs": [
    {
     "data": {
      "image/png": "[encoded data removed]",
      "text/plain": [
       "<Figure size 1080x576 with 1 Axes>"
      ]
     },
     "metadata": {},
     "output_type": "display_data"
    }
   ],
   "source": [
    "xs = np.linspace(-4, 4, 200)\n",
    "# use stats.t.pdf to get values on the probability density function for the t-distribution\n",
    "# the second argument is the degrees of freedom\n",
    "ys = stats.t.pdf(xs, len(df_porch)+len(df_noporch)-2, 0, 1)\n",
    "t_crit = np.round(stats.t.ppf(1 - 0.05, df=len(df_porch)+len(df_noporch)-2),3)\n",
    "\n",
    "fig = plt.figure(figsize=(15,8))\n",
    "ax = fig.gca()\n",
    "\n",
    "# plot the lines using matplotlib's plot function:\n",
    "ax.plot(xs, ys, linewidth=3, color='darkblue', alpha=.75)\n",
    "\n",
    "\n",
    "ax.axvline(t_crit,color='green',linestyle='--',lw=4,label='critical t-value', alpha=.75)\n",
    "ax.axvline(test_result[0],color='red',linestyle='--',lw=4,label='test t-stat', alpha=.75)\n",
    "ax.legend()\n",
    "ax.fill_betweenx(ys,xs,t_crit,where= xs > t_crit)\n",
    "plt.show()"
   ]
  },
  {
   "cell_type": "markdown",
   "metadata": {},
   "source": [
    "Based on the given evidence, we can reject our null hypothesis. **Having a porch does indeed impact the sale price of a home.** \n",
    "\n",
    "Something a new home buyer should keep in mind."
   ]
  },
  {
   "cell_type": "code",
   "execution_count": null,
   "metadata": {},
   "outputs": [],
   "source": []
  }
 ],
 "metadata": {
  "kernelspec": {
   "display_name": "Python 3 (oy-env)",
   "language": "python",
   "name": "oy-env"
  },
  "language_info": {
   "codemirror_mode": {
    "name": "ipython",
    "version": 3
   },
   "file_extension": ".py",
   "mimetype": "text/x-python",
   "name": "python",
   "nbconvert_exporter": "python",
   "pygments_lexer": "ipython3",
   "version": "3.8.1"
  }
 },
 "nbformat": 4,
 "nbformat_minor": 4
}
