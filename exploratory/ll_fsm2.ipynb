{
 "cells": [
  {
   "cell_type": "markdown",
   "metadata": {},
   "source": [
    "importing all relevant libraries"
   ]
  },
  {
   "cell_type": "code",
   "execution_count": 20,
   "metadata": {},
   "outputs": [],
   "source": [
    "import numpy as np\n",
    "import pandas as pd\n",
    "import scipy.stats as stats\n",
    "import matplotlib.pyplot as plt\n",
    "import seaborn as sns\n",
    "import statsmodels.api as sm\n",
    "from statsmodels.formula.api import ols"
   ]
  },
  {
   "cell_type": "markdown",
   "metadata": {},
   "source": [
    "reading in csv file containing all the relevent features we are interested in to explore and find a model"
   ]
  },
  {
   "cell_type": "code",
   "execution_count": 9,
   "metadata": {},
   "outputs": [],
   "source": [
    "df = pd.read_csv('our_dataframe.csv', index_col=0)"
   ]
  },
  {
   "cell_type": "code",
   "execution_count": 10,
   "metadata": {},
   "outputs": [
    {
     "data": {
      "text/plain": [
       "Index(['saleprice', 'sqfttotliving', 'yrbuilt', 'yrrenovated', 'bedrooms',\n",
       "       'zipcode', 'sqfttotbasement', 'sqftfinbasement', 'sqftopenporch',\n",
       "       'sqftenclosedporch', 'sqftdeck', 'heatsystem', 'heatsource',\n",
       "       'bathhalfcount', 'bath3qtrcount', 'bathfullcount', 'condition',\n",
       "       'viewutilization', 'sqftgarageattached', 'daylightbasement',\n",
       "       'finbasementgrade', 'hbuasifvacant', 'inadequateparking', 'mtrainier',\n",
       "       'olympics', 'cascades', 'territorial', 'seattleskyline', 'pugetsound',\n",
       "       'lakewashington', 'lakesammamish', 'smalllakerivercreek', 'otherview',\n",
       "       'wfntlocation', 'trafficnoise', 'airportnoise', 'powerlines',\n",
       "       'othernuisances', 'adjacentgreenbelt'],\n",
       "      dtype='object')"
      ]
     },
     "execution_count": 10,
     "metadata": {},
     "output_type": "execute_result"
    }
   ],
   "source": [
    "df.columns"
   ]
  },
  {
   "cell_type": "markdown",
   "metadata": {},
   "source": [
    "Adding in bath, porch, price per square foot in data frame and dropping individual columns containing parts of these newly added columns"
   ]
  },
  {
   "cell_type": "code",
   "execution_count": 11,
   "metadata": {},
   "outputs": [],
   "source": [
    "df['porch'] = df['sqftopenporch'] + df['sqftenclosedporch']\n",
    "df['baths'] = df['bathfullcount'] + (0.75*df['bath3qtrcount']) + (0.5*df['bathhalfcount'])\n",
    "df.drop(columns=['sqftopenporch', 'sqftenclosedporch', 'bathfullcount', 'bath3qtrcount',\n",
    "                 'bathhalfcount'], inplace=True)"
   ]
  },
  {
   "cell_type": "code",
   "execution_count": 12,
   "metadata": {},
   "outputs": [],
   "source": [
    "df['pricepersqft'] = df['saleprice']/df['sqfttotliving']\n",
    "df['pricepersqft_finbasement'] = df['saleprice']/ (df['sqfttotliving'] + df['sqftfinbasement'])"
   ]
  },
  {
   "cell_type": "code",
   "execution_count": 32,
   "metadata": {},
   "outputs": [
    {
     "data": {
      "text/plain": [
       "(18771, 38)"
      ]
     },
     "execution_count": 32,
     "metadata": {},
     "output_type": "execute_result"
    }
   ],
   "source": [
    "df.shape"
   ]
  },
  {
   "cell_type": "code",
   "execution_count": 50,
   "metadata": {},
   "outputs": [
    {
     "data": {
      "text/plain": [
       "0         560000\n",
       "1         435000\n",
       "2         409950\n",
       "3         380000\n",
       "4         775000\n",
       "          ...   \n",
       "18766     930000\n",
       "18767     850000\n",
       "18768     686000\n",
       "18769     695000\n",
       "18770    1550000\n",
       "Name: saleprice, Length: 18771, dtype: int64"
      ]
     },
     "execution_count": 50,
     "metadata": {},
     "output_type": "execute_result"
    }
   ],
   "source": [
    "df['saleprice']"
   ]
  },
  {
   "cell_type": "code",
   "execution_count": 33,
   "metadata": {},
   "outputs": [
    {
     "data": {
      "text/plain": [
       "Index(['saleprice', 'sqfttotliving', 'yrbuilt', 'yrrenovated', 'bedrooms',\n",
       "       'zipcode', 'sqfttotbasement', 'sqftfinbasement', 'sqftdeck',\n",
       "       'heatsystem', 'heatsource', 'condition', 'viewutilization',\n",
       "       'sqftgarageattached', 'daylightbasement', 'finbasementgrade',\n",
       "       'hbuasifvacant', 'inadequateparking', 'mtrainier', 'olympics',\n",
       "       'cascades', 'territorial', 'seattleskyline', 'pugetsound',\n",
       "       'lakewashington', 'lakesammamish', 'smalllakerivercreek', 'otherview',\n",
       "       'wfntlocation', 'trafficnoise', 'airportnoise', 'powerlines',\n",
       "       'othernuisances', 'adjacentgreenbelt', 'porch', 'baths', 'pricepersqft',\n",
       "       'pricepersqft_finbasement'],\n",
       "      dtype='object')"
      ]
     },
     "execution_count": 33,
     "metadata": {},
     "output_type": "execute_result"
    }
   ],
   "source": [
    "df.columns"
   ]
  },
  {
   "cell_type": "code",
   "execution_count": 40,
   "metadata": {},
   "outputs": [],
   "source": [
    "df_corr = df.corr()['saleprice'].sort_values(ascending=False)"
   ]
  },
  {
   "cell_type": "code",
   "execution_count": 42,
   "metadata": {},
   "outputs": [
    {
     "data": {
      "text/plain": [
       "32"
      ]
     },
     "execution_count": 42,
     "metadata": {},
     "output_type": "execute_result"
    }
   ],
   "source": [
    "len(df_corr)"
   ]
  },
  {
   "cell_type": "code",
   "execution_count": 49,
   "metadata": {},
   "outputs": [
    {
     "data": {
      "text/plain": [
       "saleprice                   1.000000\n",
       "sqfttotliving               0.621515\n",
       "baths                       0.495995\n",
       "pricepersqft                0.480202\n",
       "pricepersqft_finbasement    0.415050\n",
       "lakewashington              0.378633\n",
       "territorial                 0.312686\n",
       "sqftfinbasement             0.291167\n",
       "sqfttotbasement             0.272623\n",
       "bedrooms                    0.271100\n",
       "porch                       0.270791\n",
       "wfntlocation                0.261991\n",
       "finbasementgrade            0.234935\n",
       "sqftdeck                    0.208910\n",
       "Name: saleprice, dtype: float64"
      ]
     },
     "execution_count": 49,
     "metadata": {},
     "output_type": "execute_result"
    }
   ],
   "source": [
    "df_corr[abs(df_corr) > 0.2]"
   ]
  },
  {
   "cell_type": "markdown",
   "metadata": {},
   "source": [
    "choosing the highest correlation with saleprice and also choosing only the features of the property for now (will look into the location aspects which is the key in real estate as we progress)\n",
    "\n",
    "sqfttotliving 0.621515 vs pricepersqft 0.480202 vs pricepersqft_finbasement 0.415050 (essentially the same thing in different forms, can include the one that best suits the R-squareed and works with other predictors)\n",
    "\n",
    "baths 0.495995\n",
    "\n",
    "sqftfinbasement 0.291167, sqfttotbasement 0.272623\n",
    "\n",
    "bedrooms  0.271100\n",
    "\n",
    "porch 0.270791\n",
    "\n",
    "lakewashington view 0.378633, territorial view 0.312686 (the codes used in these two range from 1-4 relating to fair - excellent view)\n",
    "\n",
    "wfntlocation 0.261991 (this should be more of a yes and no type field since the codes used for this variable only categorizes a unit having 1 of 9 different waterfront areas in king county, need to look into this more carefully)\n",
    "\n",
    "finished basement grade (1-20 relating to )\n",
    "\n",
    "checking for linearity between the chosen predictors"
   ]
  },
  {
   "cell_type": "code",
   "execution_count": 48,
   "metadata": {},
   "outputs": [
    {
     "data": {
      "text/plain": [
       "     9625\n",
       "N    8721\n",
       "Y     425\n",
       "Name: viewutilization, dtype: int64"
      ]
     },
     "execution_count": 48,
     "metadata": {},
     "output_type": "execute_result"
    }
   ],
   "source": [
    "df['viewutilization'].value_counts()"
   ]
  },
  {
   "cell_type": "code",
   "execution_count": null,
   "metadata": {},
   "outputs": [],
   "source": []
  }
 ],
 "metadata": {
  "kernelspec": {
   "display_name": "Python 3 (oy-env)",
   "language": "python",
   "name": "oy-env"
  },
  "language_info": {
   "codemirror_mode": {
    "name": "ipython",
    "version": 3
   },
   "file_extension": ".py",
   "mimetype": "text/x-python",
   "name": "python",
   "nbconvert_exporter": "python",
   "pygments_lexer": "ipython3",
   "version": "3.8.1"
  }
 },
 "nbformat": 4,
 "nbformat_minor": 4
}
