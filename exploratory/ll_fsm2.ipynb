{
 "cells": [
  {
   "cell_type": "markdown",
   "metadata": {},
   "source": [
    "importing all relevant libraries"
   ]
  },
  {
   "cell_type": "code",
   "execution_count": 45,
   "metadata": {},
   "outputs": [],
   "source": [
    "import numpy as np\n",
    "import pandas as pd\n",
    "import scipy.stats as stats\n",
    "import matplotlib.pyplot as plt\n",
    "import seaborn as sns\n",
    "import statsmodels.api as sm\n",
    "from statsmodels.formula.api import ols"
   ]
  },
  {
   "cell_type": "markdown",
   "metadata": {},
   "source": [
    "reading in csv file containing all the relevent features we are interested in to explore and find a model"
   ]
  },
  {
   "cell_type": "code",
   "execution_count": 56,
   "metadata": {},
   "outputs": [],
   "source": [
    "df = pd.read_csv('our_dataframe.csv', index_col=0)"
   ]
  },
  {
   "cell_type": "code",
   "execution_count": 57,
   "metadata": {},
   "outputs": [
    {
     "data": {
      "text/plain": [
       "Index(['saleprice', 'sqfttotliving', 'yrbuilt', 'yrrenovated', 'bedrooms',\n",
       "       'zipcode', 'sqfttotbasement', 'sqftfinbasement', 'sqftopenporch',\n",
       "       'sqftenclosedporch', 'sqftdeck', 'heatsystem', 'heatsource',\n",
       "       'bathhalfcount', 'bath3qtrcount', 'bathfullcount', 'condition',\n",
       "       'viewutilization', 'sqftgarageattached', 'daylightbasement',\n",
       "       'finbasementgrade', 'hbuasifvacant', 'inadequateparking', 'mtrainier',\n",
       "       'olympics', 'cascades', 'territorial', 'seattleskyline', 'pugetsound',\n",
       "       'lakewashington', 'lakesammamish', 'smalllakerivercreek', 'otherview',\n",
       "       'wfntlocation', 'trafficnoise', 'airportnoise', 'powerlines',\n",
       "       'othernuisances', 'adjacentgreenbelt'],\n",
       "      dtype='object')"
      ]
     },
     "execution_count": 57,
     "metadata": {},
     "output_type": "execute_result"
    }
   ],
   "source": [
    "df.columns"
   ]
  },
  {
   "cell_type": "markdown",
   "metadata": {},
   "source": [
    "Adding in bath, porch, price per square foot in data frame and dropping individual columns containing parts of these newly added columns"
   ]
  },
  {
   "cell_type": "code",
   "execution_count": 58,
   "metadata": {},
   "outputs": [],
   "source": [
    "df['porch'] = df['sqftopenporch'] + df['sqftenclosedporch']\n",
    "df['baths'] = df['bathfullcount'] + (0.75*df['bath3qtrcount']) + (0.5*df['bathhalfcount'])\n",
    "df.drop(columns=['sqftopenporch', 'sqftenclosedporch', 'bathfullcount', 'bath3qtrcount',\n",
    "                 'bathhalfcount'], inplace=True)"
   ]
  },
  {
   "cell_type": "code",
   "execution_count": 59,
   "metadata": {},
   "outputs": [],
   "source": [
    "df['pricepersqft'] = df['saleprice']/df['sqfttotliving']\n",
    "df['pricepersqft_finbasement'] = df['saleprice']/ (df['sqfttotliving'] + df['sqftfinbasement'])"
   ]
  },
  {
   "cell_type": "code",
   "execution_count": 60,
   "metadata": {},
   "outputs": [
    {
     "data": {
      "text/plain": [
       "(18293, 38)"
      ]
     },
     "execution_count": 60,
     "metadata": {},
     "output_type": "execute_result"
    }
   ],
   "source": [
    "df.shape\n"
   ]
  },
  {
   "cell_type": "markdown",
   "metadata": {},
   "source": [
    "18293 entries at present, removing outliers in saleprice that are 3 sigma away from the mean"
   ]
  },
  {
   "cell_type": "code",
   "execution_count": 51,
   "metadata": {},
   "outputs": [
    {
     "data": {
      "text/html": [
       "<div>\n",
       "<style scoped>\n",
       "    .dataframe tbody tr th:only-of-type {\n",
       "        vertical-align: middle;\n",
       "    }\n",
       "\n",
       "    .dataframe tbody tr th {\n",
       "        vertical-align: top;\n",
       "    }\n",
       "\n",
       "    .dataframe thead th {\n",
       "        text-align: right;\n",
       "    }\n",
       "</style>\n",
       "<table border=\"1\" class=\"dataframe\">\n",
       "  <thead>\n",
       "    <tr style=\"text-align: right;\">\n",
       "      <th></th>\n",
       "      <th>saleprice</th>\n",
       "      <th>sqfttotliving</th>\n",
       "      <th>yrbuilt</th>\n",
       "      <th>yrrenovated</th>\n",
       "      <th>bedrooms</th>\n",
       "      <th>zipcode</th>\n",
       "      <th>sqfttotbasement</th>\n",
       "      <th>sqftfinbasement</th>\n",
       "      <th>sqftdeck</th>\n",
       "      <th>heatsystem</th>\n",
       "      <th>...</th>\n",
       "      <th>trafficnoise</th>\n",
       "      <th>airportnoise</th>\n",
       "      <th>powerlines</th>\n",
       "      <th>othernuisances</th>\n",
       "      <th>adjacentgreenbelt</th>\n",
       "      <th>porch</th>\n",
       "      <th>baths</th>\n",
       "      <th>pricepersqft</th>\n",
       "      <th>pricepersqft_finbasement</th>\n",
       "      <th>z_score</th>\n",
       "    </tr>\n",
       "  </thead>\n",
       "  <tbody>\n",
       "    <tr>\n",
       "      <th>0</th>\n",
       "      <td>1910000</td>\n",
       "      <td>3990</td>\n",
       "      <td>1952</td>\n",
       "      <td>2019</td>\n",
       "      <td>6</td>\n",
       "      <td>98125</td>\n",
       "      <td>1360</td>\n",
       "      <td>1360</td>\n",
       "      <td>1070</td>\n",
       "      <td>7</td>\n",
       "      <td>...</td>\n",
       "      <td>0</td>\n",
       "      <td>0</td>\n",
       "      <td>N</td>\n",
       "      <td>N</td>\n",
       "      <td>N</td>\n",
       "      <td>110</td>\n",
       "      <td>4.50</td>\n",
       "      <td>478.696742</td>\n",
       "      <td>357.009346</td>\n",
       "      <td>1.902353</td>\n",
       "    </tr>\n",
       "    <tr>\n",
       "      <th>1</th>\n",
       "      <td>1089950</td>\n",
       "      <td>3920</td>\n",
       "      <td>2018</td>\n",
       "      <td>0</td>\n",
       "      <td>5</td>\n",
       "      <td>98028.0</td>\n",
       "      <td>930</td>\n",
       "      <td>930</td>\n",
       "      <td>0</td>\n",
       "      <td>5</td>\n",
       "      <td>...</td>\n",
       "      <td>0</td>\n",
       "      <td>0</td>\n",
       "      <td>N</td>\n",
       "      <td>N</td>\n",
       "      <td>N</td>\n",
       "      <td>550</td>\n",
       "      <td>3.25</td>\n",
       "      <td>278.048469</td>\n",
       "      <td>224.731959</td>\n",
       "      <td>0.503503</td>\n",
       "    </tr>\n",
       "    <tr>\n",
       "      <th>2</th>\n",
       "      <td>412500</td>\n",
       "      <td>2280</td>\n",
       "      <td>1958</td>\n",
       "      <td>0</td>\n",
       "      <td>4</td>\n",
       "      <td>98056</td>\n",
       "      <td>1140</td>\n",
       "      <td>1140</td>\n",
       "      <td>0</td>\n",
       "      <td>7</td>\n",
       "      <td>...</td>\n",
       "      <td>1</td>\n",
       "      <td>0</td>\n",
       "      <td>N</td>\n",
       "      <td>N</td>\n",
       "      <td>N</td>\n",
       "      <td>0</td>\n",
       "      <td>1.75</td>\n",
       "      <td>180.921053</td>\n",
       "      <td>120.614035</td>\n",
       "      <td>-0.652098</td>\n",
       "    </tr>\n",
       "    <tr>\n",
       "      <th>3</th>\n",
       "      <td>541000</td>\n",
       "      <td>1030</td>\n",
       "      <td>1965</td>\n",
       "      <td>0</td>\n",
       "      <td>3</td>\n",
       "      <td>98052</td>\n",
       "      <td>0</td>\n",
       "      <td>0</td>\n",
       "      <td>0</td>\n",
       "      <td>5</td>\n",
       "      <td>...</td>\n",
       "      <td>0</td>\n",
       "      <td>0</td>\n",
       "      <td>N</td>\n",
       "      <td>N</td>\n",
       "      <td>N</td>\n",
       "      <td>210</td>\n",
       "      <td>1.50</td>\n",
       "      <td>525.242718</td>\n",
       "      <td>525.242718</td>\n",
       "      <td>-0.432901</td>\n",
       "    </tr>\n",
       "    <tr>\n",
       "      <th>4</th>\n",
       "      <td>1020000</td>\n",
       "      <td>2410</td>\n",
       "      <td>1939</td>\n",
       "      <td>0</td>\n",
       "      <td>3</td>\n",
       "      <td>98144</td>\n",
       "      <td>1070</td>\n",
       "      <td>1070</td>\n",
       "      <td>170</td>\n",
       "      <td>5</td>\n",
       "      <td>...</td>\n",
       "      <td>1</td>\n",
       "      <td>0</td>\n",
       "      <td>N</td>\n",
       "      <td>N</td>\n",
       "      <td>N</td>\n",
       "      <td>0</td>\n",
       "      <td>1.75</td>\n",
       "      <td>423.236515</td>\n",
       "      <td>293.103448</td>\n",
       "      <td>0.384182</td>\n",
       "    </tr>\n",
       "    <tr>\n",
       "      <th>...</th>\n",
       "      <td>...</td>\n",
       "      <td>...</td>\n",
       "      <td>...</td>\n",
       "      <td>...</td>\n",
       "      <td>...</td>\n",
       "      <td>...</td>\n",
       "      <td>...</td>\n",
       "      <td>...</td>\n",
       "      <td>...</td>\n",
       "      <td>...</td>\n",
       "      <td>...</td>\n",
       "      <td>...</td>\n",
       "      <td>...</td>\n",
       "      <td>...</td>\n",
       "      <td>...</td>\n",
       "      <td>...</td>\n",
       "      <td>...</td>\n",
       "      <td>...</td>\n",
       "      <td>...</td>\n",
       "      <td>...</td>\n",
       "      <td>...</td>\n",
       "    </tr>\n",
       "    <tr>\n",
       "      <th>18288</th>\n",
       "      <td>1201000</td>\n",
       "      <td>3680</td>\n",
       "      <td>1974</td>\n",
       "      <td>0</td>\n",
       "      <td>5</td>\n",
       "      <td>98072</td>\n",
       "      <td>0</td>\n",
       "      <td>0</td>\n",
       "      <td>1000</td>\n",
       "      <td>5</td>\n",
       "      <td>...</td>\n",
       "      <td>0</td>\n",
       "      <td>0</td>\n",
       "      <td>N</td>\n",
       "      <td>N</td>\n",
       "      <td>N</td>\n",
       "      <td>50</td>\n",
       "      <td>3.00</td>\n",
       "      <td>326.358696</td>\n",
       "      <td>326.358696</td>\n",
       "      <td>0.692933</td>\n",
       "    </tr>\n",
       "    <tr>\n",
       "      <th>18289</th>\n",
       "      <td>921000</td>\n",
       "      <td>2280</td>\n",
       "      <td>2016</td>\n",
       "      <td>0</td>\n",
       "      <td>3</td>\n",
       "      <td>NaN</td>\n",
       "      <td>0</td>\n",
       "      <td>0</td>\n",
       "      <td>0</td>\n",
       "      <td>5</td>\n",
       "      <td>...</td>\n",
       "      <td>0</td>\n",
       "      <td>0</td>\n",
       "      <td>N</td>\n",
       "      <td>N</td>\n",
       "      <td>N</td>\n",
       "      <td>110</td>\n",
       "      <td>2.50</td>\n",
       "      <td>403.947368</td>\n",
       "      <td>403.947368</td>\n",
       "      <td>0.215306</td>\n",
       "    </tr>\n",
       "    <tr>\n",
       "      <th>18290</th>\n",
       "      <td>627000</td>\n",
       "      <td>3820</td>\n",
       "      <td>1967</td>\n",
       "      <td>0</td>\n",
       "      <td>5</td>\n",
       "      <td>98058</td>\n",
       "      <td>0</td>\n",
       "      <td>0</td>\n",
       "      <td>0</td>\n",
       "      <td>5</td>\n",
       "      <td>...</td>\n",
       "      <td>0</td>\n",
       "      <td>0</td>\n",
       "      <td>N</td>\n",
       "      <td>N</td>\n",
       "      <td>N</td>\n",
       "      <td>80</td>\n",
       "      <td>2.25</td>\n",
       "      <td>164.136126</td>\n",
       "      <td>164.136126</td>\n",
       "      <td>-0.286202</td>\n",
       "    </tr>\n",
       "    <tr>\n",
       "      <th>18291</th>\n",
       "      <td>640000</td>\n",
       "      <td>2450</td>\n",
       "      <td>2015</td>\n",
       "      <td>0</td>\n",
       "      <td>4</td>\n",
       "      <td>98146</td>\n",
       "      <td>0</td>\n",
       "      <td>0</td>\n",
       "      <td>0</td>\n",
       "      <td>5</td>\n",
       "      <td>...</td>\n",
       "      <td>2</td>\n",
       "      <td>0</td>\n",
       "      <td>N</td>\n",
       "      <td>N</td>\n",
       "      <td>N</td>\n",
       "      <td>50</td>\n",
       "      <td>2.50</td>\n",
       "      <td>261.224490</td>\n",
       "      <td>261.224490</td>\n",
       "      <td>-0.264026</td>\n",
       "    </tr>\n",
       "    <tr>\n",
       "      <th>18292</th>\n",
       "      <td>1300000</td>\n",
       "      <td>2680</td>\n",
       "      <td>1926</td>\n",
       "      <td>0</td>\n",
       "      <td>4</td>\n",
       "      <td>98112</td>\n",
       "      <td>700</td>\n",
       "      <td>700</td>\n",
       "      <td>0</td>\n",
       "      <td>5</td>\n",
       "      <td>...</td>\n",
       "      <td>0</td>\n",
       "      <td>0</td>\n",
       "      <td>N</td>\n",
       "      <td>N</td>\n",
       "      <td>N</td>\n",
       "      <td>40</td>\n",
       "      <td>3.25</td>\n",
       "      <td>485.074627</td>\n",
       "      <td>384.615385</td>\n",
       "      <td>0.861808</td>\n",
       "    </tr>\n",
       "  </tbody>\n",
       "</table>\n",
       "<p>17990 rows × 39 columns</p>\n",
       "</div>"
      ],
      "text/plain": [
       "       saleprice  sqfttotliving  yrbuilt  yrrenovated  bedrooms  zipcode  \\\n",
       "0        1910000           3990     1952         2019         6    98125   \n",
       "1        1089950           3920     2018            0         5  98028.0   \n",
       "2         412500           2280     1958            0         4    98056   \n",
       "3         541000           1030     1965            0         3    98052   \n",
       "4        1020000           2410     1939            0         3    98144   \n",
       "...          ...            ...      ...          ...       ...      ...   \n",
       "18288    1201000           3680     1974            0         5    98072   \n",
       "18289     921000           2280     2016            0         3      NaN   \n",
       "18290     627000           3820     1967            0         5    98058   \n",
       "18291     640000           2450     2015            0         4    98146   \n",
       "18292    1300000           2680     1926            0         4    98112   \n",
       "\n",
       "       sqfttotbasement  sqftfinbasement  sqftdeck  heatsystem  ...  \\\n",
       "0                 1360             1360      1070           7  ...   \n",
       "1                  930              930         0           5  ...   \n",
       "2                 1140             1140         0           7  ...   \n",
       "3                    0                0         0           5  ...   \n",
       "4                 1070             1070       170           5  ...   \n",
       "...                ...              ...       ...         ...  ...   \n",
       "18288                0                0      1000           5  ...   \n",
       "18289                0                0         0           5  ...   \n",
       "18290                0                0         0           5  ...   \n",
       "18291                0                0         0           5  ...   \n",
       "18292              700              700         0           5  ...   \n",
       "\n",
       "       trafficnoise  airportnoise powerlines  othernuisances  \\\n",
       "0                 0             0          N               N   \n",
       "1                 0             0          N               N   \n",
       "2                 1             0          N               N   \n",
       "3                 0             0          N               N   \n",
       "4                 1             0          N               N   \n",
       "...             ...           ...        ...             ...   \n",
       "18288             0             0          N               N   \n",
       "18289             0             0          N               N   \n",
       "18290             0             0          N               N   \n",
       "18291             2             0          N               N   \n",
       "18292             0             0          N               N   \n",
       "\n",
       "      adjacentgreenbelt  porch  baths  pricepersqft  pricepersqft_finbasement  \\\n",
       "0                     N    110   4.50    478.696742                357.009346   \n",
       "1                     N    550   3.25    278.048469                224.731959   \n",
       "2                     N      0   1.75    180.921053                120.614035   \n",
       "3                     N    210   1.50    525.242718                525.242718   \n",
       "4                     N      0   1.75    423.236515                293.103448   \n",
       "...                 ...    ...    ...           ...                       ...   \n",
       "18288                 N     50   3.00    326.358696                326.358696   \n",
       "18289                 N    110   2.50    403.947368                403.947368   \n",
       "18290                 N     80   2.25    164.136126                164.136126   \n",
       "18291                 N     50   2.50    261.224490                261.224490   \n",
       "18292                 N     40   3.25    485.074627                384.615385   \n",
       "\n",
       "        z_score  \n",
       "0      1.902353  \n",
       "1      0.503503  \n",
       "2     -0.652098  \n",
       "3     -0.432901  \n",
       "4      0.384182  \n",
       "...         ...  \n",
       "18288  0.692933  \n",
       "18289  0.215306  \n",
       "18290 -0.286202  \n",
       "18291 -0.264026  \n",
       "18292  0.861808  \n",
       "\n",
       "[17990 rows x 39 columns]"
      ]
     },
     "execution_count": 51,
     "metadata": {},
     "output_type": "execute_result"
    }
   ],
   "source": [
    "mean, std = df['saleprice'].agg(['mean', 'std'])\n",
    "def z_score(row):\n",
    "    return (row - mean) / std\n",
    "\n",
    "df['z_score'] = df.saleprice.apply(z_score)\n",
    "df = df[abs(df['z_score']) < 3]\n",
    "df"
   ]
  },
  {
   "cell_type": "code",
   "execution_count": 52,
   "metadata": {},
   "outputs": [
    {
     "name": "stdout",
     "output_type": "stream",
     "text": [
      "the outliers that were 3 sigma away from the mean related to  303  entries\n"
     ]
    }
   ],
   "source": [
    "outliers_removed = 18293 - 17990\n",
    "print('the outliers that were 3 sigma away from the mean related to ', outliers_removed, ' entries')"
   ]
  },
  {
   "cell_type": "code",
   "execution_count": 54,
   "metadata": {},
   "outputs": [
    {
     "data": {
      "text/plain": [
       "count    1.799000e+04\n",
       "mean     7.452165e+05\n",
       "std      3.909353e+05\n",
       "min      1.000000e+01\n",
       "25%      4.690000e+05\n",
       "50%      6.500000e+05\n",
       "75%      8.899970e+05\n",
       "max      2.550000e+06\n",
       "Name: saleprice, dtype: float64"
      ]
     },
     "execution_count": 54,
     "metadata": {},
     "output_type": "execute_result"
    }
   ],
   "source": [
    "df['saleprice'].describe()"
   ]
  },
  {
   "cell_type": "code",
   "execution_count": 55,
   "metadata": {},
   "outputs": [
    {
     "name": "stdout",
     "output_type": "stream",
     "text": [
      "745216.4739855475 390935.27068573574\n"
     ]
    }
   ],
   "source": [
    "mean, std = df['saleprice'].agg(['mean', 'std'])\n",
    "print(mean, std)"
   ]
  },
  {
   "cell_type": "code",
   "execution_count": null,
   "metadata": {},
   "outputs": [],
   "source": []
  },
  {
   "cell_type": "code",
   "execution_count": null,
   "metadata": {},
   "outputs": [],
   "source": []
  },
  {
   "cell_type": "code",
   "execution_count": 33,
   "metadata": {},
   "outputs": [
    {
     "data": {
      "text/plain": [
       "Index(['saleprice', 'sqfttotliving', 'yrbuilt', 'yrrenovated', 'bedrooms',\n",
       "       'zipcode', 'sqfttotbasement', 'sqftfinbasement', 'sqftdeck',\n",
       "       'heatsystem', 'heatsource', 'condition', 'viewutilization',\n",
       "       'sqftgarageattached', 'daylightbasement', 'finbasementgrade',\n",
       "       'hbuasifvacant', 'inadequateparking', 'mtrainier', 'olympics',\n",
       "       'cascades', 'territorial', 'seattleskyline', 'pugetsound',\n",
       "       'lakewashington', 'lakesammamish', 'smalllakerivercreek', 'otherview',\n",
       "       'wfntlocation', 'trafficnoise', 'airportnoise', 'powerlines',\n",
       "       'othernuisances', 'adjacentgreenbelt', 'porch', 'baths', 'pricepersqft',\n",
       "       'pricepersqft_finbasement'],\n",
       "      dtype='object')"
      ]
     },
     "execution_count": 33,
     "metadata": {},
     "output_type": "execute_result"
    }
   ],
   "source": [
    "df.columns"
   ]
  },
  {
   "cell_type": "code",
   "execution_count": 40,
   "metadata": {},
   "outputs": [],
   "source": [
    "df_corr = df.corr()['saleprice'].sort_values(ascending=False)"
   ]
  },
  {
   "cell_type": "code",
   "execution_count": 42,
   "metadata": {},
   "outputs": [
    {
     "data": {
      "text/plain": [
       "32"
      ]
     },
     "execution_count": 42,
     "metadata": {},
     "output_type": "execute_result"
    }
   ],
   "source": [
    "len(df_corr)"
   ]
  },
  {
   "cell_type": "code",
   "execution_count": 49,
   "metadata": {},
   "outputs": [
    {
     "data": {
      "text/plain": [
       "saleprice                   1.000000\n",
       "sqfttotliving               0.621515\n",
       "baths                       0.495995\n",
       "pricepersqft                0.480202\n",
       "pricepersqft_finbasement    0.415050\n",
       "lakewashington              0.378633\n",
       "territorial                 0.312686\n",
       "sqftfinbasement             0.291167\n",
       "sqfttotbasement             0.272623\n",
       "bedrooms                    0.271100\n",
       "porch                       0.270791\n",
       "wfntlocation                0.261991\n",
       "finbasementgrade            0.234935\n",
       "sqftdeck                    0.208910\n",
       "Name: saleprice, dtype: float64"
      ]
     },
     "execution_count": 49,
     "metadata": {},
     "output_type": "execute_result"
    }
   ],
   "source": [
    "df_corr[abs(df_corr) > 0.2]"
   ]
  },
  {
   "cell_type": "markdown",
   "metadata": {},
   "source": [
    "choosing the highest correlation with saleprice and also choosing only the features of the property for now (will look into the location aspects which is the key in real estate as we progress)\n",
    "\n",
    "sqfttotliving 0.621515 vs pricepersqft 0.480202 vs pricepersqft_finbasement 0.415050 (essentially the same thing in different forms, can include the one that best suits the R-squareed and works with other predictors)\n",
    "\n",
    "baths 0.495995\n",
    "\n",
    "sqftfinbasement 0.291167, sqfttotbasement 0.272623\n",
    "\n",
    "bedrooms  0.271100\n",
    "\n",
    "porch 0.270791\n",
    "\n",
    "lakewashington view 0.378633, territorial view 0.312686 (the codes used in these two range from 1-4 relating to fair - excellent view)\n",
    "\n",
    "wfntlocation 0.261991 (this should be more of a yes and no type field since the codes used for this variable only categorizes a unit having 1 of 9 different waterfront areas in king county, need to look into this more carefully)\n",
    "\n",
    "finished basement grade (1-20 relating to )\n",
    "\n",
    "checking for linearity between the chosen predictors"
   ]
  },
  {
   "cell_type": "code",
   "execution_count": 48,
   "metadata": {},
   "outputs": [
    {
     "data": {
      "text/plain": [
       "     9625\n",
       "N    8721\n",
       "Y     425\n",
       "Name: viewutilization, dtype: int64"
      ]
     },
     "execution_count": 48,
     "metadata": {},
     "output_type": "execute_result"
    }
   ],
   "source": [
    "df['viewutilization'].value_counts()"
   ]
  },
  {
   "cell_type": "code",
   "execution_count": 1,
   "metadata": {},
   "outputs": [
    {
     "ename": "NameError",
     "evalue": "name 'df' is not defined",
     "output_type": "error",
     "traceback": [
      "\u001b[0;31m---------------------------------------------------------------------------\u001b[0m",
      "\u001b[0;31mNameError\u001b[0m                                 Traceback (most recent call last)",
      "\u001b[0;32m<ipython-input-1-b582eb272b2a>\u001b[0m in \u001b[0;36m<module>\u001b[0;34m\u001b[0m\n\u001b[0;32m----> 1\u001b[0;31m \u001b[0mdf\u001b[0m\u001b[0;34m[\u001b[0m\u001b[0;34m'saleprice'\u001b[0m\u001b[0;34m]\u001b[0m\u001b[0;34m\u001b[0m\u001b[0;34m\u001b[0m\u001b[0m\n\u001b[0m",
      "\u001b[0;31mNameError\u001b[0m: name 'df' is not defined"
     ]
    }
   ],
   "source": [
    "df['saleprice']"
   ]
  },
  {
   "cell_type": "code",
   "execution_count": null,
   "metadata": {},
   "outputs": [],
   "source": []
  }
 ],
 "metadata": {
  "kernelspec": {
   "display_name": "oy-env",
   "language": "python",
   "name": "oy-env"
  },
  "language_info": {
   "codemirror_mode": {
    "name": "ipython",
    "version": 3
   },
   "file_extension": ".py",
   "mimetype": "text/x-python",
   "name": "python",
   "nbconvert_exporter": "python",
   "pygments_lexer": "ipython3",
   "version": "3.8.1"
  }
 },
 "nbformat": 4,
 "nbformat_minor": 4
}
